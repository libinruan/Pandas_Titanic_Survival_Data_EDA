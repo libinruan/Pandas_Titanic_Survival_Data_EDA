{
 "cells": [
  {
   "cell_type": "markdown",
   "metadata": {},
   "source": [
    "#### Advanced data processing recipes for reconstructing family roles in kaggle Titanic data sets"
   ]
  },
  {
   "cell_type": "markdown",
   "metadata": {},
   "source": [
    "The value of demographic information implied by the ticket combination of Kaggle Titanic data sets has been widely understated. In this post I'm going to expose demographic information hidden in the join tabular data of the training set and test set offered by Kaggle. Hopefully in my future post I can build on it to evaluate to what extent these new features help us boost our prediction accuracy. It's worthnoting that if you are concerned about data leakage that araises in data processing before splitting the data set, you may find this [discussion](https://www.kaggle.com/c/titanic/discussion/41928#235524) interesting. For the purose that is more of winning the competition than generalization, I'll simply use the full data set as the basis of feature eningeering and leave the data leakage judgement for you.\n",
    "\n",
    "The main Python libraries I'm going to use are no more than Pandas, NumPy and Seaborn. Here is the outline of questions/task I'm going to deal with:\n",
    "\n",
    "- [Preliminary summary statistics](#anchor_pss)\n",
    "- [Ticket combination: the evidence of travel companion](#anchor_TicketCombination)  \n"
   ]
  },
  {
   "cell_type": "markdown",
   "metadata": {},
   "source": [
    "#### Preliminary summary statistics <a name=\"anchor_pss\"/>\n",
    "I'm going to focuse on checking to see the missing value, data type of each feature."
   ]
  },
  {
   "cell_type": "code",
   "execution_count": 1,
   "metadata": {},
   "outputs": [],
   "source": [
    "# Library we need \n",
    "import pandas as pd\n",
    "import numpy as np\n",
    "import matplotlib as mpl\n",
    "import matplotlib.pyplot as plt\n",
    "import matplotlib.pylab as pylab\n",
    "import seaborn as sns\n",
    "import warnings\n",
    "warnings.filterwarnings('ignore')\n",
    "\n",
    "# Configure Visualization Defaults\n",
    "mpl.style.use('ggplot')\n",
    "pylab.rcParams['figure.figsize'] = 12, 8\n",
    "sns.set_style('white')\n",
    "pd.set_option('display.max_columns', None)"
   ]
  },
  {
   "cell_type": "code",
   "execution_count": 2,
   "metadata": {},
   "outputs": [
    {
     "name": "stdout",
     "output_type": "stream",
     "text": [
      "<class 'pandas.core.frame.DataFrame'>\n",
      "RangeIndex: 891 entries, 0 to 890\n",
      "Data columns (total 12 columns):\n",
      " #   Column       Non-Null Count  Dtype  \n",
      "---  ------       --------------  -----  \n",
      " 0   PassengerId  891 non-null    int64  \n",
      " 1   Survived     891 non-null    int64  \n",
      " 2   Pclass       891 non-null    int64  \n",
      " 3   Name         891 non-null    object \n",
      " 4   Sex          891 non-null    object \n",
      " 5   Age          714 non-null    float64\n",
      " 6   SibSp        891 non-null    int64  \n",
      " 7   Parch        891 non-null    int64  \n",
      " 8   Ticket       891 non-null    object \n",
      " 9   Fare         891 non-null    float64\n",
      " 10  Cabin        204 non-null    object \n",
      " 11  Embarked     889 non-null    object \n",
      "dtypes: float64(2), int64(5), object(5)\n",
      "memory usage: 83.7+ KB\n",
      "None\n"
     ]
    }
   ],
   "source": [
    "# Replace the following two directories with those in the following comments\n",
    "df_train = pd.read_csv(r'F:\\GitHubData\\Titanic\\train.csv') # r\"../input/train.csv\"\n",
    "df_test = pd.read_csv(r'F:\\GitHubData\\Titanic\\test.csv') # r\"../input/test.csv\"\n",
    "\n",
    "# inconsistent columns so we \n",
    "# use concat, rather than pd.merge(df_train, df_test, on = [...], how = 'inner')\n",
    "df_all = pd.concat([df_train, df_test], join='outer', axis=0) \n",
    "df_train.name = 'Training data'\n",
    "df_test.name = 'Test data'\n",
    "\n",
    "# We have 11 features and 1 target variables\n",
    "print(df_train.info())"
   ]
  },
  {
   "cell_type": "code",
   "execution_count": 3,
   "metadata": {},
   "outputs": [
    {
     "name": "stdout",
     "output_type": "stream",
     "text": [
      "Number of Training Examples: 891\n",
      "Number of Test Examples = 418\n",
      "Shape of Training Examples = (891, 12)\n",
      "Shape of Test Examples = (418, 11)\n"
     ]
    }
   ],
   "source": [
    "# Dataset Dimensions\n",
    "print(f'Number of Training Examples: {df_train.shape[0]}')\n",
    "print(f'Number of Test Examples = {df_test.shape[0]}')\n",
    "print(f'Shape of Training Examples = {df_train.shape}')\n",
    "print(f'Shape of Test Examples = {df_test.shape}')"
   ]
  },
  {
   "cell_type": "code",
   "execution_count": 4,
   "metadata": {},
   "outputs": [
    {
     "name": "stdout",
     "output_type": "stream",
     "text": [
      "['Age', 'Cabin', 'Embarked', 'Fare', 'Name', 'Parch', 'PassengerId', 'Pclass', 'Sex', 'SibSp', 'Survived', 'Ticket']\n",
      "['Age', 'Cabin', 'Embarked', 'Fare', 'Name', 'Parch', 'PassengerId', 'Pclass', 'Sex', 'SibSp', 'Ticket']\n"
     ]
    }
   ],
   "source": [
    "# Column name we have\n",
    "print(sorted(df_train.columns.tolist())) \n",
    "print(sorted(df_test.columns.tolist()))"
   ]
  },
  {
   "cell_type": "code",
   "execution_count": 5,
   "metadata": {},
   "outputs": [
    {
     "name": "stdout",
     "output_type": "stream",
     "text": [
      "             count        mean         std   min       25%       50%    75%  \\\n",
      "PassengerId  891.0  446.000000  257.353842  1.00  223.5000  446.0000  668.5   \n",
      "Survived     891.0    0.383838    0.486592  0.00    0.0000    0.0000    1.0   \n",
      "Pclass       891.0    2.308642    0.836071  1.00    2.0000    3.0000    3.0   \n",
      "Age          714.0   29.699118   14.526497  0.42   20.1250   28.0000   38.0   \n",
      "SibSp        891.0    0.523008    1.102743  0.00    0.0000    0.0000    1.0   \n",
      "Parch        891.0    0.381594    0.806057  0.00    0.0000    0.0000    0.0   \n",
      "Fare         891.0   32.204208   49.693429  0.00    7.9104   14.4542   31.0   \n",
      "\n",
      "                  max  \n",
      "PassengerId  891.0000  \n",
      "Survived       1.0000  \n",
      "Pclass         3.0000  \n",
      "Age           80.0000  \n",
      "SibSp          8.0000  \n",
      "Parch          6.0000  \n",
      "Fare         512.3292  \n",
      "------------------------------\n",
      "         count unique                          top freq\n",
      "Name       891    891  Olsvigen, Mr. Thor Anderson    1\n",
      "Sex        891      2                         male  577\n",
      "Ticket     891    681                         1601    7\n",
      "Cabin      204    147                      B96 B98    4\n",
      "Embarked   889      3                            S  644\n"
     ]
    }
   ],
   "source": [
    "# Numeric variables in training set\n",
    "print(df_train.describe(include=[np.number]).T)\n",
    "print('-' * 30)\n",
    "# Categorical variables in training set\n",
    "print(df_train.describe(include=['O']).T)"
   ]
  },
  {
   "cell_type": "code",
   "execution_count": 6,
   "metadata": {
    "lines_to_next_cell": 1
   },
   "outputs": [
    {
     "name": "stdout",
     "output_type": "stream",
     "text": [
      "Training data\n",
      "PassengerId NO. missing values: 0\n",
      "Survived    NO. missing values: 0\n",
      "Pclass      NO. missing values: 0\n",
      "Name        NO. missing values: 0\n",
      "Sex         NO. missing values: 0\n",
      "Age         NO. missing values: 177\n",
      "SibSp       NO. missing values: 0\n",
      "Parch       NO. missing values: 0\n",
      "Ticket      NO. missing values: 0\n",
      "Fare        NO. missing values: 0\n",
      "Cabin       NO. missing values: 687\n",
      "Embarked    NO. missing values: 2\n",
      "------------------------------\n",
      "Test data\n",
      "PassengerId NO. missing values: 0\n",
      "Pclass      NO. missing values: 0\n",
      "Name        NO. missing values: 0\n",
      "Sex         NO. missing values: 0\n",
      "Age         NO. missing values: 86\n",
      "SibSp       NO. missing values: 0\n",
      "Parch       NO. missing values: 0\n",
      "Ticket      NO. missing values: 0\n",
      "Fare        NO. missing values: 1\n",
      "Cabin       NO. missing values: 327\n",
      "Embarked    NO. missing values: 0\n"
     ]
    }
   ],
   "source": [
    "# Missing values\n",
    "def displayMissing(df):\n",
    "    for col in df.columns.tolist():\n",
    "        print(f'{col:11s} NO. missing values: {df[col].isnull().sum()}')\n",
    "\n",
    "for i, df in enumerate([df_train, df_test]):\n",
    "    print(f'{df.name}')\n",
    "    displayMissing(df)\n",
    "    if i == 0: print('-' * 30) "
   ]
  },
  {
   "cell_type": "markdown",
   "metadata": {},
   "source": [
    "As pointed out in many exploratory data analysis on Kaggle Titanic data set, we have missing values in continuous features `Age` and `Fare` and nominal variables `Embarked` and `Cabin`. "
   ]
  },
  {
   "cell_type": "markdown",
   "metadata": {},
   "source": [
    "#### Ticket combination - use of regular expression <a name=\"anchor_TicketCombination\"/>"
   ]
  },
  {
   "cell_type": "code",
   "execution_count": 7,
   "metadata": {
    "lines_to_next_cell": 1
   },
   "outputs": [
    {
     "name": "stdout",
     "output_type": "stream",
     "text": [
      "   PassengerId  Survived  Pclass  \\\n",
      "0            1       0.0       3   \n",
      "1            2       1.0       1   \n",
      "2            3       1.0       3   \n",
      "3            4       1.0       1   \n",
      "4            5       0.0       3   \n",
      "\n",
      "                                                Name     Sex   Age  SibSp  \\\n",
      "0                            Braund, Mr. Owen Harris    male  22.0      1   \n",
      "1  Cumings, Mrs. John Bradley (Florence Briggs Th...  female  38.0      1   \n",
      "2                             Heikkinen, Miss. Laina  female  26.0      0   \n",
      "3       Futrelle, Mrs. Jacques Heath (Lily May Peel)  female  35.0      1   \n",
      "4                           Allen, Mr. William Henry    male  35.0      0   \n",
      "\n",
      "   Parch            Ticket     Fare Cabin Embarked Ticket_num Ticket_alp  \n",
      "0      0         A/5 21171   7.2500   NaN        S      21171        A/5  \n",
      "1      0          PC 17599  71.2833   C85        C      17599         PC  \n",
      "2      0  STON/O2. 3101282   7.9250   NaN        S    3101282   STON/O2.  \n",
      "3      0            113803  53.1000  C123        S     113803          M  \n",
      "4      0            373450   8.0500   NaN        S     373450          M  \n"
     ]
    }
   ],
   "source": [
    "# todo:  Ticket combination is the feature without any missing values.\n",
    "# We should try to extract any information from it\n",
    "# although it appears useless at the first glance.\n",
    "def getTicketPrefixAndNumber(df, col):\n",
    "    # naming the columns to be created\n",
    "    col_num = col + '_num'\n",
    "    col_alp = col + '_alp'\n",
    "\n",
    "    # get the last group of contiguous digits\n",
    "    # vectorize string function with str method\n",
    "    # get any contignuous nuemrical digits from the end\n",
    "    # return anything that matches the pattern specified inside the parenthesis \n",
    "    df[col_num] = df[col].str.extract(r'(\\d+)$')\n",
    "    df[col_num].fillna(-1, inplace=True)\n",
    "\n",
    "    # get the complete string before a space that is followed by a trailing number group\n",
    "    df[col_alp] = df[col].str.extract(r'(.*)\\ \\d+$')\n",
    "    # sidenote: .replace({'\\.': '', '/': ''}, regex=True)\n",
    "    df[col_alp].fillna('M', inplace=True)\n",
    "    return df\n",
    "\n",
    "print(getTicketPrefixAndNumber(df_all, 'Ticket').head())"
   ]
  },
  {
   "cell_type": "code",
   "execution_count": 8,
   "metadata": {},
   "outputs": [
    {
     "name": "stdout",
     "output_type": "stream",
     "text": [
      "count     1309\n",
      "unique     924\n",
      "top       2343\n",
      "freq        11\n",
      "Name: Ticket_num, dtype: object\n",
      "------------------------------\n",
      "count    1.309000e+03\n",
      "mean     2.830713e+05\n",
      "std      6.353943e+05\n",
      "min     -1.000000e+00\n",
      "25%      1.356700e+04\n",
      "50%      1.108130e+05\n",
      "75%      3.470750e+05\n",
      "max      3.101317e+06\n",
      "Name: Ticket_num, dtype: float64\n"
     ]
    }
   ],
   "source": [
    "print(df_all.Ticket_num.describe())\n",
    "print('-' * 30) \n",
    "df_all['Ticket_num'] = pd.to_numeric(df_all['Ticket_num'])\n",
    "print(df_all.Ticket_num.describe())"
   ]
  },
  {
   "cell_type": "code",
   "execution_count": 9,
   "metadata": {},
   "outputs": [
    {
     "name": "stdout",
     "output_type": "stream",
     "text": [
      "             Ticket  Ticket_num Ticket_alp\n",
      "0         A/5 21171       21171        A/5\n",
      "1          PC 17599       17599         PC\n",
      "2  STON/O2. 3101282     3101282   STON/O2.\n",
      "3            113803      113803          M\n",
      "4            373450      373450          M\n"
     ]
    }
   ],
   "source": [
    "# check to see if the string decomposition works as expected.\n",
    "colnames = ['Ticket' + s for s in ['', '_num', '_alp']]\n",
    "print(df_all[colnames].head())"
   ]
  },
  {
   "cell_type": "markdown",
   "metadata": {},
   "source": [
    "#### Travel group - use of transform()\n",
    "Are there any people sharing the same ticket number but actually come from different travel groups (identified by ticket combination)? The answer is Yes. In such a case, I use `Ticket`, rather than `Ticket_num` to define a travel group. Using `last name` to define a travel group as seen in many kernels is not good enough for my purpose. People travelling together as a group should bear similar characteristics related to their survival rates in this travel disaster. Members of a travel group do not necessary share biological relathinship."
   ]
  },
  {
   "cell_type": "code",
   "execution_count": 10,
   "metadata": {},
   "outputs": [
    {
     "name": "stdout",
     "output_type": "stream",
     "text": [
      "     PassengerId  Survived  Pclass                              Name     Sex  \\\n",
      "226          227       1.0       2         Mellors, Mr. William John    male   \n",
      "648          649       0.0       3                Willey, Mr. Edward    male   \n",
      "570          571       1.0       2                Harris, Mr. George    male   \n",
      "155         1047       NaN       3              Duquemin, Mr. Joseph    male   \n",
      "279          280       1.0       3  Abbott, Mrs. Stanton (Rosa Hunt)  female   \n",
      "746          747       0.0       3       Abbott, Mr. Rossmore Edward    male   \n",
      "\n",
      "      Age  SibSp  Parch         Ticket   Fare Cabin Embarked  Ticket_num  \\\n",
      "226  19.0      0      0      SW/PP 751  10.50   NaN        S         751   \n",
      "648   NaN      0      0  S.O./P.P. 751   7.55   NaN        S         751   \n",
      "570  62.0      0      0    S.W./PP 752  10.50   NaN        S         752   \n",
      "155  24.0      0      0  S.O./P.P. 752   7.55   NaN        S         752   \n",
      "279  35.0      1      1      C.A. 2673  20.25   NaN        S        2673   \n",
      "746  16.0      1      1      C.A. 2673  20.25   NaN        S        2673   \n",
      "\n",
      "    Ticket_alp  \n",
      "226      SW/PP  \n",
      "648  S.O./P.P.  \n",
      "570    S.W./PP  \n",
      "155  S.O./P.P.  \n",
      "279       C.A.  \n",
      "746       C.A.  \n"
     ]
    }
   ],
   "source": [
    "islice = df_all.groupby('Ticket_num')['Ticket_alp'].transform(lambda x: x.nunique() > 1)\n",
    "print(df_all.loc[islice,:].sort_values(by=['Ticket_num']).head(6))"
   ]
  },
  {
   "cell_type": "markdown",
   "metadata": {},
   "source": [
    "#### Survival rate - use of pd.merge()\n",
    "Check to see if survival rate (based on available Survived feature) varies across ticket combinations."
   ]
  },
  {
   "cell_type": "code",
   "execution_count": 11,
   "metadata": {},
   "outputs": [],
   "source": [
    "gtb1 = df_all[['Survived', 'Ticket']].groupby(['Ticket'])\n",
    "# compute the groupwise survival rates (percentage) # pd.count() counts non-NA cells\n",
    "temp = (gtb1['Survived'].sum() / gtb1['Survived'].count() * 100).sort_values()\n",
    "# name the resulting column to be used in the merge below\n",
    "temp.name = 'TeamSurvivalRate'\n",
    "# one-to-many merge on column Ticket\n",
    "df_all = pd.merge(df_all, temp, on='Ticket')"
   ]
  },
  {
   "cell_type": "markdown",
   "metadata": {},
   "source": [
    "#### Size of family and travel group - use of double groupby() & reset_index()\n",
    "Check if there exist travel groups with members of size larger than 5.\n",
    "\n",
    "Note: `pd.count()` doesn't count NA cells. If use it rather than `pd.size()` to count group size on Survived feature, the resulting group size is not correct."
   ]
  },
  {
   "cell_type": "code",
   "execution_count": 12,
   "metadata": {},
   "outputs": [
    {
     "data": {
      "text/plain": [
       "array(['347082', '382652', '347077', '19950', '3101295', 'CA 2144',\n",
       "       '347088', 'S.O.C. 14879', '1601', 'CA. 2343', '113781', 'PC 17608'],\n",
       "      dtype=object)"
      ]
     },
     "execution_count": 12,
     "metadata": {},
     "output_type": "execute_result"
    }
   ],
   "source": [
    "df_all.loc[df_all.groupby('Ticket')['Survived'].transform('size') > 5, :]['Ticket'].unique()"
   ]
  },
  {
   "cell_type": "markdown",
   "metadata": {},
   "source": [
    "For example, the travel group of ticket combination `S.O.C. 14879` has more than five members (two of which have unknown Survived features)."
   ]
  },
  {
   "cell_type": "code",
   "execution_count": 13,
   "metadata": {},
   "outputs": [
    {
     "name": "stdout",
     "output_type": "stream",
     "text": [
      "           Ticket  Survived\n",
      "149  S.O.C. 14879       0.0\n",
      "150  S.O.C. 14879       0.0\n",
      "151  S.O.C. 14879       0.0\n",
      "152  S.O.C. 14879       0.0\n",
      "153  S.O.C. 14879       0.0\n",
      "154  S.O.C. 14879       NaN\n",
      "155  S.O.C. 14879       NaN\n"
     ]
    }
   ],
   "source": [
    "print(df_all.loc[df_all.Ticket=='S.O.C. 14879',['Ticket', 'Survived']])"
   ]
  },
  {
   "cell_type": "markdown",
   "metadata": {},
   "source": [
    "For example, the family of ticket combination `PC 17608` travles in a group with two other non-biological relationship members `PassengerId` = 951 and 1267."
   ]
  },
  {
   "cell_type": "code",
   "execution_count": 14,
   "metadata": {},
   "outputs": [
    {
     "name": "stdout",
     "output_type": "stream",
     "text": [
      "     PassengerId  Survived  Pclass  \\\n",
      "504          312       1.0       1   \n",
      "505          743       1.0       1   \n",
      "506          916       NaN       1   \n",
      "507          951       NaN       1   \n",
      "508          956       NaN       1   \n",
      "509         1034       NaN       1   \n",
      "510         1267       NaN       1   \n",
      "\n",
      "                                                Name     Sex   Age  SibSp  \\\n",
      "504                       Ryerson, Miss. Emily Borie  female  18.0      2   \n",
      "505            Ryerson, Miss. Susan Parker \"Suzette\"  female  21.0      2   \n",
      "506  Ryerson, Mrs. Arthur Larned (Emily Maria Borie)  female  48.0      1   \n",
      "507                      Chaudanson, Miss. Victorine  female  36.0      0   \n",
      "508                      Ryerson, Master. John Borie    male  13.0      2   \n",
      "509                       Ryerson, Mr. Arthur Larned    male  61.0      1   \n",
      "510                         Bowen, Miss. Grace Scott  female  45.0      0   \n",
      "\n",
      "     Parch    Ticket     Fare            Cabin Embarked  Ticket_num  \\\n",
      "504      2  PC 17608  262.375  B57 B59 B63 B66        C       17608   \n",
      "505      2  PC 17608  262.375  B57 B59 B63 B66        C       17608   \n",
      "506      3  PC 17608  262.375  B57 B59 B63 B66        C       17608   \n",
      "507      0  PC 17608  262.375              B61        C       17608   \n",
      "508      2  PC 17608  262.375  B57 B59 B63 B66        C       17608   \n",
      "509      3  PC 17608  262.375  B57 B59 B63 B66        C       17608   \n",
      "510      0  PC 17608  262.375              NaN        C       17608   \n",
      "\n",
      "    Ticket_alp  TeamSurvivalRate  \n",
      "504         PC             100.0  \n",
      "505         PC             100.0  \n",
      "506         PC             100.0  \n",
      "507         PC             100.0  \n",
      "508         PC             100.0  \n",
      "509         PC             100.0  \n",
      "510         PC             100.0  \n"
     ]
    }
   ],
   "source": [
    "print(df_all.loc[df_all['Ticket'] == 'PC 17608',:])"
   ]
  },
  {
   "cell_type": "markdown",
   "metadata": {},
   "source": [
    "Besides, here is the biggest family/group in the Titanic data:"
   ]
  },
  {
   "cell_type": "code",
   "execution_count": 15,
   "metadata": {},
   "outputs": [
    {
     "name": "stdout",
     "output_type": "stream",
     "text": [
      "     PassengerId  Survived  Pclass                               Name     Sex  \\\n",
      "283          160       0.0       3         Sage, Master. Thomas Henry    male   \n",
      "284          181       0.0       3       Sage, Miss. Constance Gladys  female   \n",
      "285          202       0.0       3                Sage, Mr. Frederick    male   \n",
      "286          325       0.0       3           Sage, Mr. George John Jr    male   \n",
      "287          793       0.0       3            Sage, Miss. Stella Anna  female   \n",
      "288          847       0.0       3           Sage, Mr. Douglas Bullen    male   \n",
      "289          864       0.0       3  Sage, Miss. Dorothy Edith \"Dolly\"  female   \n",
      "290         1080       NaN       3                    Sage, Miss. Ada  female   \n",
      "291         1234       NaN       3              Sage, Mr. John George    male   \n",
      "292         1252       NaN       3        Sage, Master. William Henry    male   \n",
      "293         1257       NaN       3     Sage, Mrs. John (Annie Bullen)  female   \n",
      "\n",
      "      Age  SibSp  Parch    Ticket   Fare Cabin Embarked  Ticket_num  \\\n",
      "283   NaN      8      2  CA. 2343  69.55   NaN        S        2343   \n",
      "284   NaN      8      2  CA. 2343  69.55   NaN        S        2343   \n",
      "285   NaN      8      2  CA. 2343  69.55   NaN        S        2343   \n",
      "286   NaN      8      2  CA. 2343  69.55   NaN        S        2343   \n",
      "287   NaN      8      2  CA. 2343  69.55   NaN        S        2343   \n",
      "288   NaN      8      2  CA. 2343  69.55   NaN        S        2343   \n",
      "289   NaN      8      2  CA. 2343  69.55   NaN        S        2343   \n",
      "290   NaN      8      2  CA. 2343  69.55   NaN        S        2343   \n",
      "291   NaN      1      9  CA. 2343  69.55   NaN        S        2343   \n",
      "292  14.5      8      2  CA. 2343  69.55   NaN        S        2343   \n",
      "293   NaN      1      9  CA. 2343  69.55   NaN        S        2343   \n",
      "\n",
      "    Ticket_alp  TeamSurvivalRate  \n",
      "283        CA.               0.0  \n",
      "284        CA.               0.0  \n",
      "285        CA.               0.0  \n",
      "286        CA.               0.0  \n",
      "287        CA.               0.0  \n",
      "288        CA.               0.0  \n",
      "289        CA.               0.0  \n",
      "290        CA.               0.0  \n",
      "291        CA.               0.0  \n",
      "292        CA.               0.0  \n",
      "293        CA.               0.0  \n"
     ]
    }
   ],
   "source": [
    "print(df_all.loc[df_all['Ticket'] == 'CA. 2343',:])"
   ]
  },
  {
   "cell_type": "code",
   "execution_count": 16,
   "metadata": {
    "lines_to_next_cell": 1
   },
   "outputs": [
    {
     "data": {
      "text/plain": [
       "array(['347082', '3101295', 'CA 2144', '347088', '1601', 'CA. 2343'],\n",
       "      dtype=object)"
      ]
     },
     "execution_count": 16,
     "metadata": {},
     "output_type": "execute_result"
    }
   ],
   "source": [
    "# If use it rather than `pd.size()` to count group size on Survived feature, \n",
    "# the resulting group size is not correct.\n",
    "df_all.loc[df_all.groupby('Ticket')['Survived'].transform('count') > 5, :]['Ticket'].unique()"
   ]
  },
  {
   "cell_type": "markdown",
   "metadata": {},
   "source": [
    "Trave group varies in size. I create a feature `TeamSize` to count the total number of people in a group of the same ticket comibnation. For the estimate of family size, it is pretty straightforward to account for the entry itself in addition to the number of its siblings, parents and childrens."
   ]
  },
  {
   "cell_type": "code",
   "execution_count": 17,
   "metadata": {},
   "outputs": [],
   "source": [
    "df_all['TeamSize'] = df_all.groupby('Ticket')['Survived'].transform(lambda x: x.shape[0]) # ~ x.size"
   ]
  },
  {
   "cell_type": "code",
   "execution_count": 18,
   "metadata": {},
   "outputs": [],
   "source": [
    "# The correct size of a family\n",
    "df_all['FamilySize'] = df_all['SibSp'] + df_all['Parch'] + 1"
   ]
  },
  {
   "cell_type": "markdown",
   "metadata": {},
   "source": [
    "The following code shows that more than $76\\%$ of travel groups are composed of one person only. "
   ]
  },
  {
   "cell_type": "code",
   "execution_count": 19,
   "metadata": {},
   "outputs": [
    {
     "name": "stdout",
     "output_type": "stream",
     "text": [
      "Group Size         1          2         3         4         5         7   \\\n",
      "Percentage  76.749193  14.208827  5.274489  1.722282  0.753498  0.538213   \n",
      "\n",
      "Group Size        6         8         11  \n",
      "Percentage  0.430571  0.215285  0.107643  \n"
     ]
    }
   ],
   "source": [
    "# To have a sense of the distribution of TeamSize\n",
    "g = df_all.groupby(['Ticket']).first()['TeamSize'].value_counts()\n",
    "ans = g / g.sum() * 100 # convert to percentrage\n",
    "# Tabularize\n",
    "ans.index = ans.index.astype(int)\n",
    "ans.index.name = 'Group Size'\n",
    "print(pd.DataFrame(ans).rename(columns={'TeamSize': 'Percentage'}).T)"
   ]
  },
  {
   "cell_type": "markdown",
   "metadata": {},
   "source": [
    "The following code shows that team size might be a useful predictor for survival rates."
   ]
  },
  {
   "cell_type": "code",
   "execution_count": 20,
   "metadata": {},
   "outputs": [
    {
     "data": {
      "text/plain": [
       "TeamSize\n",
       "1.0     27.027027\n",
       "2.0     50.847458\n",
       "3.0     65.248227\n",
       "4.0     68.750000\n",
       "5.0     39.285714\n",
       "6.0     25.000000\n",
       "7.0     35.000000\n",
       "8.0     35.714286\n",
       "11.0     0.000000\n",
       "Name: TeamSurvivalRate, dtype: float64"
      ]
     },
     "execution_count": 20,
     "metadata": {},
     "output_type": "execute_result"
    }
   ],
   "source": [
    "df_all.groupby(['TeamSize','Ticket'])['TeamSurvivalRate'].mean().groupby(level=0).mean()"
   ]
  },
  {
   "cell_type": "code",
   "execution_count": 21,
   "metadata": {
    "lines_to_next_cell": 1
   },
   "outputs": [
    {
     "data": {
      "text/plain": [
       "Pclass  TeamSize\n",
       "1       1.0          44.444444\n",
       "        2.0          65.217391\n",
       "        3.0          76.666667\n",
       "        4.0          80.208333\n",
       "        5.0          58.333333\n",
       "        6.0          50.000000\n",
       "        7.0         100.000000\n",
       "2       1.0          38.202247\n",
       "        2.0          51.515152\n",
       "        3.0          72.222222\n",
       "        4.0          70.833333\n",
       "        5.0         100.000000\n",
       "        7.0           0.000000\n",
       "3       1.0          20.000000\n",
       "        2.0          33.333333\n",
       "        3.0          52.500000\n",
       "        4.0          43.750000\n",
       "        5.0           0.000000\n",
       "        6.0           0.000000\n",
       "        7.0          25.000000\n",
       "        8.0          35.714286\n",
       "        11.0          0.000000\n",
       "Name: TeamSurvivalRate, dtype: float64"
      ]
     },
     "execution_count": 21,
     "metadata": {},
     "output_type": "execute_result"
    }
   ],
   "source": [
    "df_all.groupby(['Pclass', 'TeamSize'])['TeamSurvivalRate'].mean()"
   ]
  },
  {
   "cell_type": "markdown",
   "metadata": {},
   "source": [
    "Based on the estimated group survival rate, regardless of passenger class, the top three groups tend to include groups of size four and three."
   ]
  },
  {
   "cell_type": "code",
   "execution_count": 22,
   "metadata": {
    "lines_to_next_cell": 1
   },
   "outputs": [
    {
     "name": "stdout",
     "output_type": "stream",
     "text": [
      "    Pclass  TeamSize  TeamSurvivalRate\n",
      "0        1       1.0         44.444444\n",
      "5        1       6.0         50.000000\n",
      "4        1       5.0         58.333333\n",
      "1        1       2.0         65.217391\n",
      "2        1       3.0         76.666667\n",
      "3        1       4.0         80.208333\n",
      "6        1       7.0        100.000000\n",
      "12       2       7.0          0.000000\n",
      "7        2       1.0         38.202247\n",
      "8        2       2.0         51.515152\n",
      "10       2       4.0         70.833333\n",
      "9        2       3.0         72.222222\n",
      "11       2       5.0        100.000000\n",
      "17       3       5.0          0.000000\n",
      "18       3       6.0          0.000000\n",
      "21       3      11.0          0.000000\n",
      "13       3       1.0         20.000000\n",
      "19       3       7.0         25.000000\n",
      "14       3       2.0         33.333333\n",
      "20       3       8.0         35.714286\n",
      "16       3       4.0         43.750000\n",
      "15       3       3.0         52.500000\n"
     ]
    }
   ],
   "source": [
    "# This code results in the sorting of Teamsize within passenger class by team survival rate.\n",
    "print(df_all.groupby(['Pclass', 'TeamSize'])['TeamSurvivalRate'].mean(). \\\n",
    "    reset_index().sort_values(by=['Pclass','TeamSurvivalRate']))"
   ]
  },
  {
   "cell_type": "code",
   "execution_count": 23,
   "metadata": {},
   "outputs": [
    {
     "name": "stdout",
     "output_type": "stream",
     "text": [
      "    Pclass  TeamSize  TeamSurvivalRate\n",
      "2        1       3.0         76.666667\n",
      "3        1       4.0         80.208333\n",
      "6        1       7.0        100.000000\n",
      "10       2       4.0         70.833333\n",
      "9        2       3.0         72.222222\n",
      "11       2       5.0        100.000000\n",
      "20       3       8.0         35.714286\n",
      "16       3       4.0         43.750000\n",
      "15       3       3.0         52.500000\n"
     ]
    }
   ],
   "source": [
    "# We can further obtain the class-wise top three groups in terms of team survival rate.\n",
    "# Just append \"groupby(['Pclass']).tail(3)\".\n",
    "print(df_all.groupby(['Pclass', 'TeamSize'])['TeamSurvivalRate'].mean(). \\\n",
    "    reset_index().sort_values(by=['Pclass','TeamSurvivalRate']).groupby(['Pclass']).tail(3))"
   ]
  },
  {
   "cell_type": "markdown",
   "metadata": {},
   "source": [
    "#### Credibility of group survival rate - use of apply()\n",
    "The credibility of a group survival rate is measured in terms of the proportion of valid `Survived` feature. I will use it as weights to adjust the `TeamSurvivalRate` feature."
   ]
  },
  {
   "cell_type": "code",
   "execution_count": 24,
   "metadata": {},
   "outputs": [],
   "source": [
    "def getCredibilitySurvivalRate(df):\n",
    "    # Use `size` or `shape[0]` to get the full length of a series\n",
    "    # When summing over cells of {0,1,NaN}, \n",
    "    # regardless of the use of `pd.notnull()`, the outcome is identical.\n",
    "    df['SRcredibility'] = pd.notnull(df['Survived']).sum() / df['Survived'].size \n",
    "    return df\n",
    "\n",
    "df_all = df_all.groupby('Ticket').apply(getCredibilitySurvivalRate)"
   ]
  },
  {
   "cell_type": "markdown",
   "metadata": {},
   "source": [
    "#### Type of family roles - use of seaborn.FacetGrid & pandas.melt()\n",
    "For flexibility in tuning hyper parameters like the age threshold for the definition of a child, I introduce the `cutoff` argument for the maximum child age and set the default cutoff age to 7. Then I do something like a grid search on the integer interval $[1, 29]$ to see the impact of the cutoff age configuratio on the estimate of survival rates by gender."
   ]
  },
  {
   "cell_type": "code",
   "execution_count": 25,
   "metadata": {},
   "outputs": [],
   "source": [
    "def getRole(df, cutoff=7):\n",
    "    df['Role'] = 'Man'\n",
    "    df.loc[df['Sex'] == 'female', 'Role'] = 'Woman'\n",
    "    df.loc[df['Age'] <= cutoff, 'Role'] = 'Child'\n",
    "    return df\n",
    "\n",
    "ans = []\n",
    "ages = range(1, 30)\n",
    "for cut in ages:\n",
    "    getRole(df_all, cutoff=cut)\n",
    "    g = df_all.groupby(['Role'])\n",
    "    # [1] I covert the resulting Pandas series to a data frame object and then append\n",
    "    # it to the `ans` list object so that I can concatenate them in one step. later.\n",
    "    ans.append((g['Survived'].sum() / g['Survived'].count()).to_frame())"
   ]
  },
  {
   "cell_type": "code",
   "execution_count": 26,
   "metadata": {},
   "outputs": [],
   "source": [
    "# [2] To concatnate the data frames stored in the `ans` list object.\n",
    "temp = pd.concat(ans, axis=1)  # 3 by N (=len(ages))\n",
    "# [3] convert 3 by N table to N by 3 table\n",
    "tb1 = pd.DataFrame(np.array(temp).T,\n",
    "                   columns=['Child', 'Man', 'Woman'], index=ages)  # N by 3\n",
    "tb1.index.name = 'Age'\n",
    "# [4] melt the table tb1 for drawing a line plot\n",
    "tb1.reset_index(inplace=True)  # prep for melt\n",
    "tb2 = pd.melt(tb1, id_vars=['Age'], value_vars=['Child', 'Man', 'Woman'],\n",
    "              var_name='Role', value_name='Survival')"
   ]
  },
  {
   "cell_type": "markdown",
   "metadata": {},
   "source": [
    "Here I'm going to use seaborn facetGrid for drawing the line plot ([searborn.FaceGrid](https://seaborn.pydata.org/generated/seaborn.FacetGrid.html) document)."
   ]
  },
  {
   "cell_type": "code",
   "execution_count": 27,
   "metadata": {},
   "outputs": [
    {
     "data": {
      "image/png": "[encoded data removed]",
      "text/plain": [
       "<Figure size 648x216 with 3 Axes>"
      ]
     },
     "metadata": {},
     "output_type": "display_data"
    }
   ],
   "source": [
    "# [5] FacetGrid and mapping plot functions to each grid\n",
    "g = sns.FacetGrid(tb2, col='Role', margin_titles=True)\n",
    "g = g.map(plt.plot, 'Age', 'Survival')\n",
    "\n",
    "# add vertical line\n",
    "axes = g.fig.axes\n",
    "for ax in axes:\n",
    "    ax.vlines(x=15, ymax=1, ymin=0, linestyles='dashed', alpha=0.3, colors='blue')\n",
    "plt.show()"
   ]
  },
  {
   "cell_type": "markdown",
   "metadata": {},
   "source": [
    "The child survival rate is trending downward as the maximum age of children is lowered. I want to maximize the number of children with the constraint to maintain the child survival rate at least $60\\%$, so I set the hyper parameter of child age to 15."
   ]
  },
  {
   "cell_type": "code",
   "execution_count": 28,
   "metadata": {},
   "outputs": [],
   "source": [
    "getRole(df_all, cutoff=15);"
   ]
  },
  {
   "cell_type": "markdown",
   "metadata": {},
   "source": [
    "#### Adults traveling with children - use of nampy.where() & unique()"
   ]
  },
  {
   "cell_type": "code",
   "execution_count": 29,
   "metadata": {},
   "outputs": [],
   "source": [
    "# Use this as an example: df_all.loc[df_all['Ticket_num']==17608,:]\n",
    "# Step 1. Create a new column for the number of siblings of a child.\n",
    "df_all['childSibSp'] = np.where(df_all['Role'] == 'Child', df_all['SibSp'], 0)"
   ]
  },
  {
   "cell_type": "code",
   "execution_count": 30,
   "metadata": {},
   "outputs": [
    {
     "data": {
      "text/plain": [
       "1    37\n",
       "Name: childSibSp, dtype: int64"
      ]
     },
     "execution_count": 30,
     "metadata": {},
     "output_type": "execute_result"
    }
   ],
   "source": [
    "# Step 2. Is the childSibSp value unique within a travel group? Answer: Yes\n",
    "logic = df_all['childSibSp']>0 # screen out parents (whose SibSp is at least one) \n",
    "df_all.loc[logic,:].groupby('Ticket')['childSibSp'].nunique().value_counts()"
   ]
  },
  {
   "cell_type": "markdown",
   "metadata": {},
   "source": [
    "So, We can use childSibSp to identify siblings of a child. Note that the number 37 is exactly the number of travel group traveling with young children."
   ]
  },
  {
   "cell_type": "code",
   "execution_count": 31,
   "metadata": {},
   "outputs": [],
   "source": [
    "# Step 3. Broadcasting: in a group, let every instance of the same group shares the 'childSibSp' value of the youngest child.\n",
    "df_all['childSibSp'] = df_all.groupby('Ticket')['childSibSp'].transform('max') # 'cz otherwise it's 0 by default."
   ]
  },
  {
   "cell_type": "code",
   "execution_count": 32,
   "metadata": {},
   "outputs": [],
   "source": [
    "# Step 4. If an example's SibSp is not equal to the shared value, the instance must be\n",
    "# a elder child whose age exceeds the age limit for the child definition.\n",
    "# Condition 1: to prevent updating value of members in travel group without children. Seems redundant (see condition 2).\n",
    "# Condition 2: 'cz siblings share childSibSp value by construction.\n",
    "# Condition 3: to prevent the youngest child's value being overwritten.\n",
    "\n",
    "logic = (df_all['SibSp'] != 0) & \\\n",
    "        (df_all['SibSp'] == df_all['childSibSp']) & \\\n",
    "        (df_all['Role'] != 'Child') \n",
    "df_all.loc[logic, 'Role'] = 'olderChild'"
   ]
  },
  {
   "cell_type": "markdown",
   "metadata": {},
   "source": [
    "Take the travel group of ticket `PC 17608` for instance. I can now identify who is the elder child in the family: `PassengerId` = 312 and 743."
   ]
  },
  {
   "cell_type": "code",
   "execution_count": 33,
   "metadata": {},
   "outputs": [
    {
     "name": "stdout",
     "output_type": "stream",
     "text": [
      "     PassengerId  Survived                                             Name  \\\n",
      "504          312       1.0                       Ryerson, Miss. Emily Borie   \n",
      "505          743       1.0            Ryerson, Miss. Susan Parker \"Suzette\"   \n",
      "506          916       NaN  Ryerson, Mrs. Arthur Larned (Emily Maria Borie)   \n",
      "507          951       NaN                      Chaudanson, Miss. Victorine   \n",
      "508          956       NaN                      Ryerson, Master. John Borie   \n",
      "509         1034       NaN                       Ryerson, Mr. Arthur Larned   \n",
      "510         1267       NaN                         Bowen, Miss. Grace Scott   \n",
      "\n",
      "        Sex   Age  SibSp    Ticket        Role  childSibSp  \n",
      "504  female  18.0      2  PC 17608  olderChild           2  \n",
      "505  female  21.0      2  PC 17608  olderChild           2  \n",
      "506  female  48.0      1  PC 17608       Woman           2  \n",
      "507  female  36.0      0  PC 17608       Woman           2  \n",
      "508    male  13.0      2  PC 17608       Child           2  \n",
      "509    male  61.0      1  PC 17608         Man           2  \n",
      "510  female  45.0      0  PC 17608       Woman           2  \n"
     ]
    }
   ],
   "source": [
    "print(df_all.loc[df_all['Ticket'] == 'PC 17608',['PassengerId', 'Survived', 'Name', 'Sex', 'Age', 'SibSp', 'Ticket', 'Role', 'childSibSp']])"
   ]
  },
  {
   "cell_type": "markdown",
   "metadata": {},
   "source": [
    "#### Who is the female and the male household head - use of np.where()\n",
    "The following code is going to identify the male and female household head if any. The role of the rest of members in the travel group will be left as it was."
   ]
  },
  {
   "cell_type": "code",
   "execution_count": 34,
   "metadata": {
    "lines_to_next_cell": 1
   },
   "outputs": [],
   "source": [
    "# Step 1. Identify the FamilySize value of the youngest child in each travel team.\n",
    "df_all['childFamilySize'] = np.where(df_all['Role'].isin(['Child', 'olderChild']),\n",
    "                                     df_all['FamilySize'], \n",
    "                                     0)\n",
    "# Step 2. Broadcasting the FamilySize value of the youngest child to\n",
    "# other members in the same travel team; by doing so, maid and bultler'r role will stay put\n",
    "# (either Man or Woman as it was).\n",
    "df_all['childFamilySize'] = df_all.groupby('Ticket')['childFamilySize'].transform('max')"
   ]
  },
  {
   "cell_type": "code",
   "execution_count": 35,
   "metadata": {},
   "outputs": [],
   "source": [
    "# Step 3. identy people who are parents\n",
    "def isMotherOrFather(s):\n",
    "    return 'Father' if s == 'Man' else 'Mother'\n",
    "\n",
    "# Condition 1: narrow down the scope to family member only; \n",
    "# maid and bultlers are going to be screened out.\n",
    "# Condition 2: narrow down to people whose role is not \"child\" or \"elder child\".\n",
    "slice_logic = ((df_all['FamilySize'] == df_all['childFamilySize']) & \\\n",
    "               (~df_all['Role'].isin(['Child', 'olderChild'])))\n",
    "\n",
    "# A trick to obtain the index of valid examples after logical operations.\n",
    "# However, we may as well substitute slice_index with slice_ligic in this case.\n",
    "slice_index = df_all.loc[slice_logic, :].index\n",
    "df_all.loc[slice_index, 'Role'] = \\\n",
    "    df_all.loc[slice_logic, :]['Role'].apply(isMotherOrFather)"
   ]
  },
  {
   "cell_type": "markdown",
   "metadata": {},
   "source": [
    "#### Children traveling with parents - np.where()\n",
    "Here I am going to identify children traveling with parents. Note that I do need to identify women that travel with their children as in some kernel of this competition, because my approach to reconstruct the family role for mother embodies this consideration. To be specific, an instance with `Role` = 'Mother' implies she traveling with children."
   ]
  },
  {
   "cell_type": "code",
   "execution_count": 36,
   "metadata": {},
   "outputs": [],
   "source": [
    "df_all['ChildWAdult'] = 'Not Applicable'\n",
    "logic = (df_all['Role'].isin(['Child', 'olderChild']))\n",
    "df_all.loc[logic, 'ChildWAdult'] = np.where(\n",
    "    df_all.loc[logic, 'FamilySize'] > df_all.loc[logic, 'childSibSp'] + 1,\n",
    "    'Yes',\n",
    "    'No'\n",
    ")"
   ]
  },
  {
   "cell_type": "code",
   "execution_count": 37,
   "metadata": {},
   "outputs": [
    {
     "name": "stdout",
     "output_type": "stream",
     "text": [
      "     PassengerId  Survived                                             Name  \\\n",
      "504          312       1.0                       Ryerson, Miss. Emily Borie   \n",
      "505          743       1.0            Ryerson, Miss. Susan Parker \"Suzette\"   \n",
      "506          916       NaN  Ryerson, Mrs. Arthur Larned (Emily Maria Borie)   \n",
      "507          951       NaN                      Chaudanson, Miss. Victorine   \n",
      "508          956       NaN                      Ryerson, Master. John Borie   \n",
      "509         1034       NaN                       Ryerson, Mr. Arthur Larned   \n",
      "510         1267       NaN                         Bowen, Miss. Grace Scott   \n",
      "\n",
      "        Sex   Age  SibSp    Ticket        Role     ChildWAdult  \n",
      "504  female  18.0      2  PC 17608  olderChild             Yes  \n",
      "505  female  21.0      2  PC 17608  olderChild             Yes  \n",
      "506  female  48.0      1  PC 17608      Mother  Not Applicable  \n",
      "507  female  36.0      0  PC 17608       Woman  Not Applicable  \n",
      "508    male  13.0      2  PC 17608       Child             Yes  \n",
      "509    male  61.0      1  PC 17608      Father  Not Applicable  \n",
      "510  female  45.0      0  PC 17608       Woman  Not Applicable  \n"
     ]
    }
   ],
   "source": [
    "cols = ['PassengerId', 'Survived', 'Name', 'Sex', 'Age', 'SibSp', 'Ticket', 'Role', 'ChildWAdult']\n",
    "print(df_all.loc[df_all['Ticket'] == 'PC 17608', cols])"
   ]
  },
  {
   "cell_type": "markdown",
   "metadata": {},
   "source": [
    "My approach to reconstruct the family role looks fine so far. However, a closer look reveals something fishy. The following code shows two couples were mistakenly classified as child (`PassengerId` = 10 and 123 along with `PassengerId` = 831 and 621). Besides, we may impute the missing value of age for `PassengerId` = 241 by her sibling's age (`PassengerId` = 112). They are couples of child marriage. I am going to fix this problem and conduct a quick imputation with the code following afte the table below."
   ]
  },
  {
   "cell_type": "code",
   "execution_count": 38,
   "metadata": {},
   "outputs": [
    {
     "name": "stdout",
     "output_type": "stream",
     "text": [
      "      PassengerId  Survived                                     Name     Sex  \\\n",
      "828          1122       NaN              Sweet, Mr. George Frederick    male   \n",
      "18             10       1.0      Nasser, Mrs. Nicholas (Adele Achem)  female   \n",
      "19            123       0.0                     Nasser, Mr. Nicholas    male   \n",
      "79             40       1.0              Nicola-Yarred, Miss. Jamila  female   \n",
      "80            126       1.0             Nicola-Yarred, Master. Elias    male   \n",
      "833           831       1.0  Yasbeck, Mrs. Antoni (Selini Alexander)  female   \n",
      "832           621       0.0                      Yasbeck, Mr. Antoni    male   \n",
      "222           241       0.0                    Zabour, Miss. Thamine  female   \n",
      "221           112       0.0                     Zabour, Miss. Hileni  female   \n",
      "1032          876       1.0         Najib, Miss. Adele Kiamie \"Jane\"  female   \n",
      "\n",
      "       Age  SibSp  Ticket        Role ChildWAdult  \n",
      "828   14.0      0  220845       Child          No  \n",
      "18    14.0      1  237736       Child          No  \n",
      "19    32.5      1  237736  olderChild          No  \n",
      "79    14.0      1    2651       Child          No  \n",
      "80    12.0      1    2651       Child          No  \n",
      "833   15.0      1    2659       Child          No  \n",
      "832   27.0      1    2659  olderChild          No  \n",
      "222    NaN      1    2665  olderChild          No  \n",
      "221   14.5      1    2665       Child          No  \n",
      "1032  15.0      0    2667       Child          No  \n"
     ]
    }
   ],
   "source": [
    "print(df_all.loc[df_all.ChildWAdult=='No', cols].sort_values(by=['Ticket']).head(10))"
   ]
  },
  {
   "cell_type": "code",
   "execution_count": 39,
   "metadata": {},
   "outputs": [],
   "source": [
    "# age imputation\n",
    "logic = df_all['PassengerId'] == 241\n",
    "df_all.loc[logic, 'Age'] = 14.5\n",
    "logic = df_all['PassengerId'].isin([10, 831])\n",
    "df_all.loc[logic, 'Role'] = 'Woman'\n",
    "logic = df_all['PassengerId'].isin([621, 123])\n",
    "df_all.loc[logic, 'Role'] = 'Man'"
   ]
  },
  {
   "cell_type": "code",
   "execution_count": 40,
   "metadata": {},
   "outputs": [
    {
     "name": "stdout",
     "output_type": "stream",
     "text": [
      "     PassengerId  Survived                                   Name     Sex  \\\n",
      "662          449       1.0         Baclini, Miss. Marie Catherine  female   \n",
      "663          470       1.0          Baclini, Miss. Helene Barbara  female   \n",
      "664          645       1.0                 Baclini, Miss. Eugenie  female   \n",
      "665          859       1.0  Baclini, Mrs. Solomon (Latifa Qurban)  female   \n",
      "\n",
      "       Age  SibSp Ticket    Role     ChildWAdult  \n",
      "662   5.00      2   2666   Child             Yes  \n",
      "663   0.75      2   2666   Child             Yes  \n",
      "664   0.75      2   2666   Child             Yes  \n",
      "665  24.00      0   2666  Mother  Not Applicable  \n"
     ]
    }
   ],
   "source": [
    "print(df_all.loc[df_all['Ticket']=='2666',cols])"
   ]
  },
  {
   "cell_type": "markdown",
   "metadata": {},
   "source": [
    "#### Number of children per travel group - use of transform() & isin()"
   ]
  },
  {
   "cell_type": "code",
   "execution_count": 41,
   "metadata": {},
   "outputs": [],
   "source": [
    "# todo: How many children in this group?\n",
    "# Method 1.\n",
    "df_all['NumChild'] = df_all.groupby('Ticket')['Role'].\\\n",
    "    transform(lambda x: x.isin(['Child', 'olderChild']).sum())\n",
    "df_all['NumYoungChild'] = df_all.groupby('Ticket')['Role'].\\\n",
    "    transform(lambda x: x.isin(['Child']).sum())"
   ]
  },
  {
   "cell_type": "code",
   "execution_count": 42,
   "metadata": {},
   "outputs": [],
   "source": [
    "\n",
    "# # This works as well.\n",
    "# #Method 2.\n",
    "# numChildDict = df_all.groupby('Ticket')['Age']\\\n",
    "#     .apply(lambda x: (x <= cutoffChildAge).sum()).reset_index(name='NumChild')\n",
    "# df_all.join(numChildDict, on='Ticket')\n"
   ]
  },
  {
   "cell_type": "code",
   "execution_count": 43,
   "metadata": {},
   "outputs": [],
   "source": [
    "\n",
    "# # Comment out this block 'cz the conclusion seems shaky.\n",
    "\n",
    "# # Although the survival rate by number of child varies, the highest survival rate estimate\n",
    "# # falls in family of three children and it holds across classes.\n",
    "# print(df_all.groupby(['Pclass', 'NumChild'])['Survived'].mean())\n",
    "# # So, number of children should be another good predictor;\n",
    "# # In passenger classes 1 and 2, families with three children have higher\n",
    "# # estimated survival rates.\n"
   ]
  },
  {
   "cell_type": "markdown",
   "metadata": {},
   "source": [
    "#### Do children with mom have higher survival rates than those with dad? - use of where() & transform()"
   ]
  },
  {
   "cell_type": "markdown",
   "metadata": {},
   "source": [
    "Note: In Method 1, if you move ['Role'] inside transform's lambda function, it fails."
   ]
  },
  {
   "cell_type": "code",
   "execution_count": 44,
   "metadata": {},
   "outputs": [],
   "source": [
    "# Method 1. The usual method for broadcasting simple logical operations.\n",
    "\n",
    "df_all['hasMother'] = df_all.groupby('Ticket')['Role'].\\\n",
    "    transform(lambda x: (x == 'Mother').sum() > 0)\n",
    "df_all['hasFather'] = df_all.groupby('Ticket')['Role'].\\\n",
    "    transform(lambda x: (x == 'Father').sum() > 0)\n",
    "df_all['hasBothParents'] = np.where(\n",
    "    df_all['hasMother'] & df_all['hasFather'],\n",
    "    True,\n",
    "    False\n",
    ")"
   ]
  },
  {
   "cell_type": "code",
   "execution_count": 45,
   "metadata": {},
   "outputs": [
    {
     "name": "stdout",
     "output_type": "stream",
     "text": [
      "    with Father  0.75\n",
      "      with Both  0.55\n",
      "    with Mother  0.78\n",
      "without Parents  0.58\n"
     ]
    }
   ],
   "source": [
    "# Method 2. Advanced Method: more complicated logical operations\n",
    "logics = [(df_all['hasFather'] & ~df_all['hasMother'], 'with Father'),\n",
    "          (df_all['hasFather'] & df_all['hasMother'], 'with Both'),\n",
    "          (~df_all['hasFather'] & df_all['hasMother'], 'with Mother'),\n",
    "          (~df_all['hasFather'] & ~df_all['hasMother'], 'without Parents')]\n",
    "for logic, s in logics:\n",
    "    ans = df_all.loc[df_all['Age'] <= 17, :].loc[logic, :].\\\n",
    "        groupby('Ticket')['Survived'].mean().mean()\n",
    "    print(f\"{s:>15} {ans: .2f}\")"
   ]
  },
  {
   "cell_type": "code",
   "execution_count": 46,
   "metadata": {},
   "outputs": [
    {
     "data": {
      "text/plain": [
       "dict_keys(['230080', '248727', '2699', '349256', 'A/5. 851'])"
      ]
     },
     "execution_count": 46,
     "metadata": {},
     "output_type": "execute_result"
    }
   ],
   "source": [
    "# Sanity check for groups with only male household head.\n",
    "index = df_all.loc[(df_all['hasFather'])&~(df_all['hasMother']),:].index\n",
    "df_all.loc[index,:].groupby('Ticket').groups.keys()"
   ]
  },
  {
   "cell_type": "markdown",
   "metadata": {},
   "source": [
    "Take travel group of ticket combination `230080` for example. This is the travel group with only male household head."
   ]
  },
  {
   "cell_type": "code",
   "execution_count": 47,
   "metadata": {},
   "outputs": [
    {
     "name": "stdout",
     "output_type": "stream",
     "text": [
      "     PassengerId  Survived                                      Name   Sex  \\\n",
      "266          149       0.0  Navratil, Mr. Michel (\"Louis M Hoffman\")  male   \n",
      "267          194       1.0                Navratil, Master. Michel M  male   \n",
      "268          341       1.0            Navratil, Master. Edmond Roger  male   \n",
      "\n",
      "      Age  SibSp  Ticket    Role     ChildWAdult  \n",
      "266  36.5      0  230080  Father  Not Applicable  \n",
      "267   3.0      1  230080   Child             Yes  \n",
      "268   2.0      1  230080   Child             Yes  \n"
     ]
    }
   ],
   "source": [
    "print(df_all.loc[df_all['Ticket']=='230080', cols])"
   ]
  },
  {
   "cell_type": "markdown",
   "metadata": {},
   "source": [
    "#### Did the children's mom survive? - use of where() & np.select()"
   ]
  },
  {
   "cell_type": "code",
   "execution_count": 48,
   "metadata": {},
   "outputs": [],
   "source": [
    "\n",
    "# # See this link: https://medium.com/@ODSC/creating-if-elseif-else-variables-in-python-pandas-7900f512f0e4\n",
    "\n",
    "# # Method 1. Not exactly what I want. It only identify the entry of mother, but\n",
    "# # I want the result to be broadcasted to everyone in the same group.\n",
    "# role = 'Mother'\n",
    "# #Step 1. Identify a mother's life status\n",
    "# conditions = [(df_all['Role'] != role), # 'Not applicable'\n",
    "#               (df_all['Survived'].isnull()), # 'Unknown'\n",
    "#               (df_all['Survived'] == 1.0), # 'Yes'\n",
    "#               (df_all['Survived'] == 0.0) # 'No'\n",
    "#               ]\n",
    "# choices = ['Not applicable', 'Unknown', 'Yes', 'No']\n",
    "# df_all['isMotherSurvived'] = np.select(conditions, choices)\n",
    "# len(df_all[df_all['Role']=='Mother']['isMotherSurvived'].values) # 44 mothers on board\n",
    "\n",
    "# # Step 2. \"Braodcast\" the group-specific result to other group members\n",
    "# # Method 1. Use map + dictionary\n",
    "# index = df_all[df_all['Role']=='Mother']['Ticket_num'] # step 1-1. get the index\n",
    "# ss = pd.Series(df_all[df_all['Role']=='Mother']['isMotherSurvived'].values, index=index) # step 1-2. get the value\n",
    "# df_all['isMotherSurvived'] = df_all['Ticket_num'].map(ss.to_dict()).fillna('not applicable') # step 1-3. use dictionary to update the rest\n",
    "\n",
    "# # Method 2.\n",
    "# # https://stackoverflow.com/questions/56708924/broadcast-value-to-dataframe-group-by-condition\n",
    "# df_all['test3'] = df_all['isMotherSurvived'].where(df_all['Role'].eq('Mother'))\\\n",
    "#     .groupby(df_all['Ticket_num']).transform('first').fillna('not applicable')\n"
   ]
  },
  {
   "cell_type": "markdown",
   "metadata": {},
   "source": [
    "The compact version based on the preceding methods 1 and 2.\n",
    "So, we can do it automatically based on the experimental code block above."
   ]
  },
  {
   "cell_type": "code",
   "execution_count": 49,
   "metadata": {
    "lines_to_next_cell": 1
   },
   "outputs": [],
   "source": [
    "role = 'Mother'\n",
    "def isSurvived(df_all, role='Mother'):\n",
    "    # Step 1. Identify a mother's life status\n",
    "    conditions = [(df_all['Role'] != role),  # 'Not applicable'\n",
    "                  (df_all['Survived'].isnull()),  # 'Unknown'\n",
    "                  (df_all['Survived'] == 1.0),  # 'Yes'\n",
    "                  (df_all['Survived'] == 0.0)  # 'No'\n",
    "                  ]\n",
    "    choices = ['Not applicable', 'Unknown', 'Yes', 'No']\n",
    "    s = 'is' + role + 'Survived'\n",
    "    df_all[s] = np.select(conditions, choices)\n",
    "    df_all[s] = df_all[s].where(df_all['Role'].eq(role)) \\\n",
    "        .groupby(df_all['Ticket_num']).transform('first').fillna('not applicable')\n",
    "    return df_all"
   ]
  },
  {
   "cell_type": "code",
   "execution_count": 50,
   "metadata": {
    "lines_to_next_cell": 1
   },
   "outputs": [],
   "source": [
    "roles = ['Mother', 'Father']\n",
    "for role in roles:\n",
    "    isSurvived(df_all, role=role)"
   ]
  },
  {
   "cell_type": "markdown",
   "metadata": {},
   "source": [
    "#### Extract Deck feature - use of apply() on pandas.Series"
   ]
  },
  {
   "cell_type": "markdown",
   "metadata": {},
   "source": [
    "Get the prefix of Cabin feature."
   ]
  },
  {
   "cell_type": "code",
   "execution_count": 51,
   "metadata": {
    "lines_to_next_cell": 1
   },
   "outputs": [],
   "source": [
    "def getCabinPrefix(df):\n",
    "    # 'M' is assigned to missing values\n",
    "    df['Deck'] = df['Cabin'].apply(lambda s: s[0] if pd.notnull(s) else 'M')\n",
    "    return df"
   ]
  },
  {
   "cell_type": "code",
   "execution_count": 52,
   "metadata": {
    "lines_to_next_cell": 1
   },
   "outputs": [
    {
     "data": {
      "text/plain": [
       "array(['M', 'C', 'E', 'G', 'D', 'A', 'B', 'F', 'T'], dtype=object)"
      ]
     },
     "execution_count": 52,
     "metadata": {},
     "output_type": "execute_result"
    }
   ],
   "source": [
    "getCabinPrefix(df_all)\n",
    "df_all['Deck'].unique()"
   ]
  },
  {
   "cell_type": "code",
   "execution_count": 53,
   "metadata": {
    "lines_to_next_cell": 1
   },
   "outputs": [],
   "source": [
    "\n",
    "# # def imputeCabinePrefix(df_all):\n",
    "# df_all['Deck'].value_counts()\n",
    "\n",
    "# # Check to see if the 2nd half of the combined table are all NaN Survived data\n",
    "# # (1) iloc works with slicing that includes right endpoint.\n",
    "# # (2) iloc works with index only, so even though I need 'Survived, I use it separately.\n",
    "# # (3) isnull() to see if there is any missing value\n",
    "# df_all.iloc[df_train.shape[0]:, ]['Survived'].isnull().all()\n",
    "\n",
    "# # Cabin numbers have clusters\n",
    "# df_all['Cabin'].value_counts()\n",
    "# # For example, 'B57 B59 B63 B66' corresponds to five persons\n",
    "# # in the Ryerson family. People in the same cabin share the same\n",
    "# # Ticket_alp and Ticket_num. These three variables should be highly\n",
    "# # correlated.\n",
    "# df_all.loc[df_all['Cabin'] == 'B57 B59 B63 B66']\n",
    "# # 'B57 B59 B63 B66' maps to Ticket_alp = 'PC', which is a much larger group.\n",
    "# df_all.loc[df_all['Ticket_alp'] == 'PC']['Survived'].sum()\n",
    "\n",
    "# # We may check later whether each group can be identified or associated with higher servival rate\n",
    "# # We may also check to see if couples have higher survival rates\n",
    "# # Check Family Ryerson. The number of SibSp and Parch might have more information.\n"
   ]
  },
  {
   "cell_type": "markdown",
   "metadata": {},
   "source": [
    "#### Last name and title - use of str.extract() & str.split(expand=True) & groups.item()\n",
    "Extract names and titles"
   ]
  },
  {
   "cell_type": "code",
   "execution_count": 54,
   "metadata": {
    "lines_to_next_cell": 1
   },
   "outputs": [],
   "source": [
    "def getLastNameAndTitle(df):\n",
    "    # (1) https://docs.python.org/2/library/re.html\n",
    "    # (2) Why this patterns works? See the [reason](https://shorturl.at/uAEM8).\n",
    "    # (3) This pattern works as well r'^([^,]*)'\n",
    "    # See the reference [link](https://shorturl.at/dwJMS)\n",
    "    df['LastName'] = df['Name'].str.extract(r'^(.+?),')\n",
    "    df['Title'] = df['Name'].str.split(', ', expand=True)[1].\\\n",
    "        str.split('.', expand=True)[0]\n",
    "    return df"
   ]
  },
  {
   "cell_type": "code",
   "execution_count": 55,
   "metadata": {},
   "outputs": [],
   "source": [
    "getLastNameAndTitle(df_all);"
   ]
  },
  {
   "cell_type": "markdown",
   "metadata": {},
   "source": [
    "Sanity check: Is it possible for a family to travel with no-biological-relationship people? The answer is verified again: Yes. \n",
    "Take travel group of ticket combination '33112' for example."
   ]
  },
  {
   "cell_type": "code",
   "execution_count": 56,
   "metadata": {},
   "outputs": [
    {
     "name": "stdout",
     "output_type": "stream",
     "text": [
      "     PassengerId  Survived                                               Name  \\\n",
      "261          146       0.0                       Nicholls, Mr. Joseph Charles   \n",
      "262          550       1.0                     Davies, Master. John Morgan Jr   \n",
      "263         1068       NaN                               Sincock, Miss. Maude   \n",
      "264         1222       NaN  Davies, Mrs. John Morgan (Elizabeth Agnes Mary...   \n",
      "\n",
      "        Sex   Age  SibSp      Ticket        Role     ChildWAdult  \n",
      "261    male  19.0      1  C.A. 33112  olderChild             Yes  \n",
      "262    male   8.0      1  C.A. 33112       Child             Yes  \n",
      "263  female  20.0      0  C.A. 33112       Woman  Not Applicable  \n",
      "264  female  48.0      0  C.A. 33112      Mother  Not Applicable  \n"
     ]
    }
   ],
   "source": [
    "print(df_all.loc[df_all['Ticket_num']==33112, cols])"
   ]
  },
  {
   "cell_type": "code",
   "execution_count": 57,
   "metadata": {},
   "outputs": [],
   "source": [
    "\n",
    "# # Sanity check\n",
    "\n",
    "# cols = ['Name', 'Title', 'LastName']\n",
    "# # df_all[cols] works as well\n",
    "# # colon cannot be ignored in df_all.loc[:,cols]\n",
    "# df_all.loc[:, cols]\n",
    "\n",
    "# # finding: People with the same surname may come from different families, for example,\n",
    "# # check the group of surname 'Davies' we found Ticket #48871 corresponds\n",
    "# # to three young men; ticket #33112 corresponds to one women of age 48 and\n",
    "# # and a child with the same surname of age 8. However, an issue is found\n",
    "# # that just using LastName is not sufficient to locate people of the same\n",
    "# # family. For example, the record of the woman with Ticket #33112 shows\n",
    "# # she comes with her two children. By slicing with Ticket #33112, we found the\n",
    "# # woman indeed has two children whose surnames are different. So, we should only\n",
    "# # use Ticket_num instead of LastName to identify people traveling together.\n",
    "# df_all.loc[df_all['LastName'] == 'Davies', :].sort_values(by=['Ticket_num'])\n"
   ]
  },
  {
   "cell_type": "markdown",
   "metadata": {},
   "source": [
    "Sanity check: Is it possible to have two Mrs in a travelling group? Answer is NO."
   ]
  },
  {
   "cell_type": "code",
   "execution_count": 58,
   "metadata": {},
   "outputs": [
    {
     "data": {
      "text/plain": [
       "0    929\n",
       "Name: MrsCount, dtype: int64"
      ]
     },
     "execution_count": 58,
     "metadata": {},
     "output_type": "execute_result"
    }
   ],
   "source": [
    "df_all.groupby('Ticket')['Ticket'].\\\n",
    "    apply(lambda x: (x == 'Mrs').sum()).reset_index(name='MrsCount')['MrsCount'].value_counts()"
   ]
  },
  {
   "cell_type": "markdown",
   "metadata": {},
   "source": [
    "##### Example of scanning through groups - indices, keys(), items(), get_group() & broadcasting using join()\n",
    "- GroupBy.indices\n",
    "- GroupBy.groups.keys()\n",
    "- GroupBy.groups.items()\n",
    "- GroupBy.get_group(gpkey)\n",
    "\n",
    "Note: the result of GroupBy is treated as dictionary by function `map()`."
   ]
  },
  {
   "cell_type": "code",
   "execution_count": 59,
   "metadata": {},
   "outputs": [
    {
     "data": {
      "text/plain": [
       "dict"
      ]
     },
     "execution_count": 59,
     "metadata": {},
     "output_type": "execute_result"
    }
   ],
   "source": [
    "# Example of displaying group results\n",
    "gs = df_all.groupby('Ticket')\n",
    "type(gs.indices) "
   ]
  },
  {
   "cell_type": "code",
   "execution_count": 60,
   "metadata": {},
   "outputs": [
    {
     "name": "stdout",
     "output_type": "stream",
     "text": [
      "     PassengerId  Survived                                       Name     Sex  \\\n",
      "597          391       1.0                 Carter, Mr. William Ernest    male   \n",
      "598          436       1.0                  Carter, Miss. Lucile Polk  female   \n",
      "599          764       1.0  Carter, Mrs. William Ernest (Lucile Polk)  female   \n",
      "600          803       1.0        Carter, Master. William Thornton II    male   \n",
      "\n",
      "      Age  SibSp  Ticket        Role ChildWAdult  \n",
      "597  36.0      1  113760  olderChild         Yes  \n",
      "598  14.0      1  113760       Child         Yes  \n",
      "599  36.0      1  113760  olderChild         Yes  \n",
      "600  11.0      1  113760       Child         Yes  \n"
     ]
    }
   ],
   "source": [
    "# Method 1. Peek the grouped data by sampling; so only part of the data\n",
    "# Use of random.sample() and list(map())\n",
    "\n",
    "import random\n",
    "sampled_group_key = random.sample(gs.groups.keys(), 100)\n",
    "group_list = list(map(lambda gpkey: gs.get_group(gpkey), sampled_group_key))\n",
    "for i, g in enumerate(group_list):\n",
    "    if len(g) > 1:\n",
    "        temp = g.loc[:,cols] # Just treat g as a general data frame\n",
    "        break\n",
    "print(temp)"
   ]
  },
  {
   "cell_type": "code",
   "execution_count": 61,
   "metadata": {},
   "outputs": [
    {
     "name": "stdout",
     "output_type": "stream",
     "text": [
      "     PassengerId  Survived                                               Name  \\\n",
      "417          258       1.0                               Cherry, Miss. Gladys   \n",
      "418          505       1.0                              Maioni, Miss. Roberta   \n",
      "419          760       1.0  Rothes, the Countess. of (Lucy Noel Martha Dye...   \n",
      "\n",
      "        Sex   Age  SibSp  Ticket   Role     ChildWAdult  \n",
      "417  female  30.0      0  110152  Woman  Not Applicable  \n",
      "418  female  16.0      0  110152  Woman  Not Applicable  \n",
      "419  female  33.0      0  110152  Woman  Not Applicable  \n"
     ]
    }
   ],
   "source": [
    "# Method 2. scan through the groups\n",
    "for i, g in gs.groups.items():\n",
    "    if len(g) > 1:\n",
    "        temp = gs.get_group(i).loc[:,cols]\n",
    "        break\n",
    "print(temp)"
   ]
  },
  {
   "cell_type": "code",
   "execution_count": 62,
   "metadata": {},
   "outputs": [
    {
     "name": "stdout",
     "output_type": "stream",
     "text": [
      "     PassengerId  Survived                           Name     Sex   Age  \\\n",
      "796          581       1.0    Christy, Miss. Julie Rachel  female  25.0   \n",
      "797         1133       NaN  Christy, Mrs. (Alice Frances)  female  45.0   \n",
      "\n",
      "     SibSp  Ticket   Role     ChildWAdult  \n",
      "796      1  237789  Woman  Not Applicable  \n",
      "797      0  237789  Woman  Not Applicable  \n"
     ]
    }
   ],
   "source": [
    "# I found: the record of the Christy indicates there are two children but only one shown.\n",
    "print(df_all.loc[df_all['LastName'] == 'Christy', cols])        "
   ]
  },
  {
   "cell_type": "markdown",
   "metadata": {},
   "source": [
    "##### Example of joining the result of GroupBy with join() "
   ]
  },
  {
   "cell_type": "code",
   "execution_count": 63,
   "metadata": {},
   "outputs": [],
   "source": [
    "#Broadcasting\n",
    "#Identify travelling groups with children among which who are parents?\n",
    "# \n",
    "def addMaxParchMinSibSp(grp):\n",
    "    return pd.Series(\n",
    "        [grp['Parch'].max(), grp['SibSp'].min()],\n",
    "        ['maxParch', 'minSibSp']\n",
    "    )\n",
    "# JOIN versue MERGE [link](https://pandas.pydata.org/pandas-docs/stable/user_guide/merging.html)\n",
    "df_all = df_all.join(df_all.groupby('Ticket').apply(addMaxParchMinSibSp), on='Ticket')"
   ]
  },
  {
   "cell_type": "code",
   "execution_count": 64,
   "metadata": {},
   "outputs": [
    {
     "name": "stdout",
     "output_type": "stream",
     "text": [
      "     PassengerId  Survived                                               Name  \\\n",
      "419          760       1.0  Rothes, the Countess. of (Lucy Noel Martha Dye...   \n",
      "418          505       1.0                              Maioni, Miss. Roberta   \n",
      "417          258       1.0                               Cherry, Miss. Gladys   \n",
      "429          586       1.0                                Taussig, Miss. Ruth   \n",
      "427          263       0.0                                  Taussig, Mr. Emil   \n",
      "428          559       1.0             Taussig, Mrs. Emil (Tillie Mandelbaum)   \n",
      "219          111       0.0                     Porter, Mr. Walter Chamberlain   \n",
      "220          476       0.0                        Clifford, Mr. George Quincy   \n",
      "\n",
      "        Sex   Age  SibSp  Ticket   Role     ChildWAdult  maxParch  minSibSp  \n",
      "419  female  33.0      0  110152  Woman  Not Applicable         0         0  \n",
      "418  female  16.0      0  110152  Woman  Not Applicable         0         0  \n",
      "417  female  30.0      0  110152  Woman  Not Applicable         0         0  \n",
      "429  female  18.0      0  110413  Woman  Not Applicable         2         0  \n",
      "427    male  52.0      1  110413    Man  Not Applicable         2         0  \n",
      "428  female  39.0      1  110413  Woman  Not Applicable         2         0  \n",
      "219    male  47.0      0  110465    Man  Not Applicable         0         0  \n",
      "220    male   NaN      0  110465    Man  Not Applicable         0         0  \n"
     ]
    }
   ],
   "source": [
    "print(df_all.loc[:, cols + ['maxParch', 'minSibSp']].sort_values(by=['Ticket']).head(8))"
   ]
  },
  {
   "cell_type": "markdown",
   "metadata": {},
   "source": [
    "##### Example of logical operations - use of where(), numpy.where(), numpy.logical_and(), DataFrame.eq()"
   ]
  },
  {
   "cell_type": "code",
   "execution_count": 65,
   "metadata": {},
   "outputs": [],
   "source": [
    "\n",
    "\n",
    "# # LOGICAL OPERATIONS\n",
    "# # Method 1. dataframe.where()\n",
    "# df_all['isMother'] = False\n",
    "# df_all['isMother'] = df_all['isMother'].\\\n",
    "#     where((df_all['Title'] != 'Mrs') | (df_all['hasMaster'] != True), True) # If the condition doesn't hold, then ...\n",
    "\n",
    "# # Method 2. np.where() # If the condition holds, then ...\n",
    "# df_all['MotherWithMaster'] = np.where( \n",
    "#     (df_all['Title'] == 'Mrs') & (df_all['hasMaster'] == True), \n",
    "#     True, \n",
    "#     False\n",
    "# )\n",
    "\n",
    "# df_all.loc[df_all['Title'] == 'Master', :][['Age', 'Survived']].mean()  # 5.48, 57%\n",
    "\n",
    "# # Method 3. np.logical_and()\n",
    "# def MWM(df):\n",
    "#     return df.apply(lambda x: 1 if \n",
    "#         np.logical_and(x['Title'] == 'Mrs', x['Sex'] == 'female') \n",
    "#         else 0, axis=1) # axis=1 is key to this implementation\n",
    "# df_all['test'] = MWM(df_all)\n",
    "# df_all.head(10)\n",
    "\n",
    "# # BROADCASTING OPERATIONS \n",
    "# # Identify teams travelling with mother and children\n",
    "# # Method 1. use `transform`\n",
    "\n",
    "# temp1 = df_all.groupby(['Ticket'])['Title'].\\\n",
    "#     transform(lambda x: x.eq('Master').any())\n",
    "# temp2 = df_all.groupby(['Ticket'])['MotherWithMaster'].\\\n",
    "#     transform(lambda x: x.eq(True).any())\n",
    "# df_all['GroupWMomChild'] = temp1 & temp2\n",
    "\n",
    "# # Method 2-A. use apply-turned `dictionary` and `map` IT WORKS!!\n",
    "\n",
    "# # temp5 = df_all.groupby('Ticket').apply(\n",
    "# #       lambda x: x['Title'].eq('Master').any() & x['MotherWithMaster'].eq(True).any())\n",
    "# # df_all['GroupWMomChild_3'] = df_all['Ticket'].map(temp5)\n",
    "\n",
    "# # Method 2-B. use apply and merge IT WORKS!!\n",
    "\n",
    "# # temp3 = df_all.groupby(['Ticket']).apply(lambda x: x['Title'].eq('Master').any())\n",
    "# # temp4 = df_all.groupby(['Ticket']).apply(lambda x: x['MotherWithMaster'].eq(True).any())\n",
    "# # df_all.merge((temp3 & temp4).reset_index(), how='left').rename(columns={0: 'GroupWMomChild_2'})\n"
   ]
  },
  {
   "cell_type": "markdown",
   "metadata": {},
   "source": [
    "#### Impute missing nominal feature Embarked with KNN algorithm - use of pandas.cut()"
   ]
  },
  {
   "cell_type": "code",
   "execution_count": 66,
   "metadata": {},
   "outputs": [
    {
     "name": "stdout",
     "output_type": "stream",
     "text": [
      "    Embarked  Fare  PassengerId  Survived  \\\n",
      "130      NaN  80.0           62       1.0   \n",
      "131      NaN  80.0          830       1.0   \n",
      "\n",
      "                                          Name     Sex   Age  SibSp  Ticket  \\\n",
      "130                        Icard, Miss. Amelie  female  38.0      0  113572   \n",
      "131  Stone, Mrs. George Nelson (Martha Evelyn)  female  62.0      0  113572   \n",
      "\n",
      "      Role     ChildWAdult  \n",
      "130  Woman  Not Applicable  \n",
      "131  Woman  Not Applicable  \n"
     ]
    }
   ],
   "source": [
    "# Impute missing EMBARKED values using K nearest neighbors algorithm\n",
    "# They more likely board on the ship at port S -- Theory 1.\n",
    "print(df_all.loc[df_all['Embarked'].isnull(), ['Embarked', 'Fare'] + cols])"
   ]
  },
  {
   "cell_type": "markdown",
   "metadata": {},
   "source": [
    "They seem more likely to come from port S based on their ticket number and the trip fare they paid. "
   ]
  },
  {
   "cell_type": "code",
   "execution_count": 67,
   "metadata": {},
   "outputs": [
    {
     "name": "stdout",
     "output_type": "stream",
     "text": [
      "S    78\n",
      "C    21\n",
      "Name: Embarked, dtype: int64\n",
      "S    58\n",
      "C    39\n",
      "Q     3\n",
      "Name: Embarked, dtype: int64\n"
     ]
    }
   ],
   "source": [
    "print(df_all.loc[df_all['Ticket_num'].between(100000, 125000)]['Embarked'].value_counts())  # S\n",
    "print(df_all.loc[df_all['Fare'].between(60, 100)]['Embarked'].value_counts())  # S"
   ]
  },
  {
   "cell_type": "markdown",
   "metadata": {},
   "source": [
    "It's hard to tell which port they boarded from only based on their `Pclass` and `Fare` features."
   ]
  },
  {
   "cell_type": "code",
   "execution_count": 68,
   "metadata": {},
   "outputs": [
    {
     "data": {
      "text/plain": [
       "Pclass  Fare       \n",
       "1       (50, 65]  S    35\n",
       "                  C    21\n",
       "        (65, 80]  C    21\n",
       "                  S    15\n",
       "        (80, 95]  S    16\n",
       "                  C    12\n",
       "                  Q     3\n",
       "2       (50, 65]  S     5\n",
       "        (65, 80]  S     7\n",
       "3       (50, 65]  S     8\n",
       "        (65, 80]  S    11\n",
       "Name: Embarked, dtype: int64"
      ]
     },
     "execution_count": 68,
     "metadata": {},
     "output_type": "execute_result"
    }
   ],
   "source": [
    "df_all.groupby(['Pclass', pd.cut(df_all['Fare'],range(50,100,15))])['Embarked'].\\\n",
    "    apply(lambda x: x.value_counts().nlargest(3))"
   ]
  },
  {
   "cell_type": "markdown",
   "metadata": {},
   "source": [
    "Therefore I decide to make use of KNN alogrithm and account for the information contained in the ticket combination in the imputation."
   ]
  },
  {
   "cell_type": "code",
   "execution_count": 69,
   "metadata": {},
   "outputs": [],
   "source": [
    "# Step 1. identifying data index corresponding to valid 'Embarked' data.\n",
    "index = df_all['Embarked'].isnull()\n",
    "\n",
    "# We are comfortable to only use three features to predict missing value.\n",
    "_dfAll = df_all.loc[:, ['Embarked', 'Pclass', 'Ticket_alp', 'Ticket_num']].copy()"
   ]
  },
  {
   "cell_type": "code",
   "execution_count": 70,
   "metadata": {},
   "outputs": [],
   "source": [
    "# Step 2. labeling and normalizing the feature matrix\n",
    "from sklearn.preprocessing import LabelEncoder, MinMaxScaler\n",
    "encoder = LabelEncoder()\n",
    "minmax_scale = MinMaxScaler(feature_range=(0,1))"
   ]
  },
  {
   "cell_type": "markdown",
   "metadata": {},
   "source": [
    "Note below that `fit_transform()` expects a **2D array**, but encoder returns a 1D array. So we need to reshape it."
   ]
  },
  {
   "cell_type": "code",
   "execution_count": 71,
   "metadata": {},
   "outputs": [],
   "source": [
    "# Step 2-A. encoding columns 'Pclass' and 'Ticket_alp'\n",
    "# https://scikit-learn.org/stable/modules/generated/sklearn.preprocessing.LabelEncoder.html\n",
    "\n",
    "for i in range(1,4):\n",
    "    temp = encoder.fit_transform(_dfAll.iloc[:,i]).reshape(-1,1)\n",
    "    _dfAll.iloc[:, i] = minmax_scale.fit_transform(temp)"
   ]
  },
  {
   "cell_type": "code",
   "execution_count": 72,
   "metadata": {},
   "outputs": [],
   "source": [
    "# Our feature matrix consists of `Pclass`, `Ticket_alp`, and `Ticket_num`.\n",
    "_xtrain = _dfAll.loc[~index,_dfAll.columns[1:4]]\n",
    "_ytrain = encoder.fit_transform(_dfAll.loc[~index, 'Embarked'])"
   ]
  },
  {
   "cell_type": "code",
   "execution_count": 73,
   "metadata": {},
   "outputs": [],
   "source": [
    "# Step 3. prediction with k nearest neighbors algorithm\n",
    "from sklearn.neighbors import KNeighborsClassifier\n",
    "# https://scikit-learn.org/stable/modules/generated/sklearn.neighbors.KNeighborsClassifier.html\n",
    "knc = KNeighborsClassifier(3, weights='distance')\n",
    "trained_knc = knc.fit(_xtrain, _ytrain)\n",
    "predicted_embarked_missing = trained_knc.predict(_dfAll.loc[index, _dfAll.columns[1:4]])\n",
    "# update the missing value with what we just obtained.\n",
    "df_all.loc[index,'Embarked'] = encoder.inverse_transform(predicted_embarked_missing) # S"
   ]
  },
  {
   "cell_type": "markdown",
   "metadata": {},
   "source": [
    "#### Impute missing continuous feature Fare - use of fillna() with median\n",
    "As commonly seen in this comppetition, I impute the approach to impute missing value of Fare based on the size of the travel team and passneger class."
   ]
  },
  {
   "cell_type": "code",
   "execution_count": 74,
   "metadata": {},
   "outputs": [
    {
     "name": "stdout",
     "output_type": "stream",
     "text": [
      "      PassengerId  Survived  Pclass                Name   Sex   Age  SibSp  \\\n",
      "1151         1044       NaN       3  Storey, Mr. Thomas  male  60.5      0   \n",
      "\n",
      "      Parch Ticket  Fare Cabin Embarked  Ticket_num Ticket_alp  \\\n",
      "1151      0   3701   NaN   NaN        S        3701          M   \n",
      "\n",
      "      TeamSurvivalRate  TeamSize  FamilySize  SRcredibility Role  childSibSp  \\\n",
      "1151               NaN       1.0           1            0.0  Man           0   \n",
      "\n",
      "      childFamilySize     ChildWAdult  NumChild  NumYoungChild  hasMother  \\\n",
      "1151                0  Not Applicable         0              0      False   \n",
      "\n",
      "      hasFather  hasBothParents isMotherSurvived isFatherSurvived Deck  \\\n",
      "1151      False           False   not applicable   not applicable    M   \n",
      "\n",
      "     LastName Title  maxParch  minSibSp  \n",
      "1151   Storey    Mr         0         0  \n"
     ]
    }
   ],
   "source": [
    "# which instance has missing Fare?\n",
    "print(df_all.loc[df_all['Fare'].isnull(),:]) # index = 973"
   ]
  },
  {
   "cell_type": "markdown",
   "metadata": {},
   "source": [
    "According to the portfolio of instance `PassengerId` = 973, he travels alone and is old. The plot of fare against age with the size annotation of travel group shows the fare of his should range below $10."
   ]
  },
  {
   "cell_type": "code",
   "execution_count": 75,
   "metadata": {},
   "outputs": [
    {
     "data": {
      "image/png": "[encoded data removed]",
      "text/plain": [
       "<Figure size 864x288 with 1 Axes>"
      ]
     },
     "metadata": {},
     "output_type": "display_data"
    }
   ],
   "source": [
    "plt.figure(figsize=(12,4))\n",
    "islice = (df_all['Pclass'] == 3)\n",
    "sns.scatterplot(x='Age', y='Fare', size= 'TeamSize', data=df_all.loc[islice,:]); plt.show()\n",
    "\n",
    "df_all['Fare'] = df_all.groupby(['Pclass','TeamSize'])['Fare']\\\n",
    "    .transform(lambda x: x.fillna(x.median()))"
   ]
  },
  {
   "cell_type": "code",
   "execution_count": 76,
   "metadata": {},
   "outputs": [
    {
     "name": "stdout",
     "output_type": "stream",
     "text": [
      "PassengerId                      795\n",
      "Survived                           0\n",
      "Name           Dantcheff, Mr. Ristiu\n",
      "Sex                             male\n",
      "Age                               25\n",
      "SibSp                              0\n",
      "Ticket                        349203\n",
      "Role                             Man\n",
      "ChildWAdult           Not Applicable\n",
      "Fare                          7.8958\n",
      "Name: 973, dtype: object\n"
     ]
    }
   ],
   "source": [
    "print(df_all.loc[973, cols + ['Fare']])"
   ]
  },
  {
   "cell_type": "markdown",
   "metadata": {},
   "source": [
    "Some observations:\n",
    "\n",
    "0. Ticekt combination provides more information than Family surname.\n",
    "1. Even in the same family, the survival of female members seems irrelevant to that of male members. See Ticket#19950 for example.\n",
    "2. There exist records of travel groups formed by non-biological-relationship people (probably, friends or colleauges) with high survival rates."
   ]
  },
  {
   "cell_type": "code",
   "execution_count": 77,
   "metadata": {},
   "outputs": [
    {
     "name": "stdout",
     "output_type": "stream",
     "text": [
      "     Survived  Pclass      Ticket   Fare        Role   Age  \\\n",
      "261       0.0       2  C.A. 33112  36.75  olderChild  19.0   \n",
      "262       1.0       2  C.A. 33112  36.75       Child   8.0   \n",
      "263       NaN       2  C.A. 33112  36.75       Woman  20.0   \n",
      "264       NaN       2  C.A. 33112  36.75      Mother  48.0   \n",
      "\n",
      "                                                  Name  \n",
      "261                       Nicholls, Mr. Joseph Charles  \n",
      "262                     Davies, Master. John Morgan Jr  \n",
      "263                               Sincock, Miss. Maude  \n",
      "264  Davies, Mrs. John Morgan (Elizabeth Agnes Mary...  \n"
     ]
    }
   ],
   "source": [
    "cols = ['Survived', 'Pclass', 'Ticket', 'Fare', 'Role', 'Age', 'Name']\n",
    "# The Davies has two children and two adults (one is maid). The youngest child is alive.\n",
    "print(df_all.loc[df_all['Ticket_num'] == 33112, cols])"
   ]
  },
  {
   "cell_type": "code",
   "execution_count": 78,
   "metadata": {},
   "outputs": [
    {
     "name": "stdout",
     "output_type": "stream",
     "text": [
      "     Survived  Pclass           Ticket     Fare    Role   Age  \\\n",
      "991       0.0       2  S.C./PARIS 2079  37.0042  Father  31.0   \n",
      "992       1.0       2  S.C./PARIS 2079  37.0042   Child   1.0   \n",
      "993       NaN       2  S.C./PARIS 2079  37.0042  Mother  24.0   \n",
      "\n",
      "                                        Name  \n",
      "991                       Mallet, Mr. Albert  \n",
      "992                    Mallet, Master. Andre  \n",
      "993  Mallet, Mrs. Albert (Antoinette Magnin)  \n"
     ]
    }
   ],
   "source": [
    "print(df_all.loc[df_all['Ticket_num'] == 2079, cols])"
   ]
  },
  {
   "cell_type": "code",
   "execution_count": 79,
   "metadata": {},
   "outputs": [
    {
     "name": "stdout",
     "output_type": "stream",
     "text": [
      "     Survived  Pclass Ticket      Fare   Role   Age  \\\n",
      "519       1.0       1  36928  164.8667  Woman  31.0   \n",
      "520       1.0       1  36928  164.8667  Woman  45.0   \n",
      "521       NaN       1  36928  164.8667    Man  57.0   \n",
      "522       NaN       1  36928  164.8667  Woman  30.0   \n",
      "\n",
      "                                           Name  \n",
      "519                    Wick, Miss. Mary Natalie  \n",
      "520  Wick, Mrs. George Dennick (Mary Hitchcock)  \n",
      "521                    Wick, Mr. George Dennick  \n",
      "522                     Bonnell, Miss. Caroline  \n"
     ]
    }
   ],
   "source": [
    "print(df_all.loc[df_all['Ticket_num'] == 36928, cols])  # old family with adult female child"
   ]
  },
  {
   "cell_type": "code",
   "execution_count": 80,
   "metadata": {},
   "outputs": [
    {
     "name": "stdout",
     "output_type": "stream",
     "text": [
      "     Survived  Pclass  Ticket  Fare   Role   Age  \\\n",
      "920       0.0       2  236853  26.0    Man  25.0   \n",
      "921       NaN       2  236853  26.0  Woman  20.0   \n",
      "\n",
      "                                    Name  \n",
      "920      Bryhl, Mr. Kurt Arnold Gottfrid  \n",
      "921  Bryhl, Miss. Dagmar Jenny Ingeborg   \n"
     ]
    }
   ],
   "source": [
    "print(df_all.loc[df_all['Ticket_num'] == 236853, cols])  # couples without children"
   ]
  },
  {
   "cell_type": "code",
   "execution_count": 81,
   "metadata": {},
   "outputs": [
    {
     "name": "stdout",
     "output_type": "stream",
     "text": [
      "     Survived  Pclass    Ticket     Fare        Role   Age  \\\n",
      "504       1.0       1  PC 17608  262.375  olderChild  18.0   \n",
      "505       1.0       1  PC 17608  262.375  olderChild  21.0   \n",
      "506       NaN       1  PC 17608  262.375      Mother  48.0   \n",
      "507       NaN       1  PC 17608  262.375       Woman  36.0   \n",
      "508       NaN       1  PC 17608  262.375       Child  13.0   \n",
      "509       NaN       1  PC 17608  262.375      Father  61.0   \n",
      "510       NaN       1  PC 17608  262.375       Woman  45.0   \n",
      "\n",
      "                                                Name  \n",
      "504                       Ryerson, Miss. Emily Borie  \n",
      "505            Ryerson, Miss. Susan Parker \"Suzette\"  \n",
      "506  Ryerson, Mrs. Arthur Larned (Emily Maria Borie)  \n",
      "507                      Chaudanson, Miss. Victorine  \n",
      "508                      Ryerson, Master. John Borie  \n",
      "509                       Ryerson, Mr. Arthur Larned  \n",
      "510                         Bowen, Miss. Grace Scott  \n"
     ]
    }
   ],
   "source": [
    "print(df_all.loc[df_all['Ticket_num'] == 17608, cols])  # size of 6"
   ]
  },
  {
   "cell_type": "code",
   "execution_count": 82,
   "metadata": {},
   "outputs": [
    {
     "name": "stdout",
     "output_type": "stream",
     "text": [
      "     Survived  Pclass   Ticket     Fare        Role   Age  \\\n",
      "99        0.0       3  3101295  39.6875       Child   7.0   \n",
      "100       0.0       3  3101295  39.6875       Child   1.0   \n",
      "101       0.0       3  3101295  39.6875  olderChild  16.0   \n",
      "102       0.0       3  3101295  39.6875      Mother  41.0   \n",
      "103       0.0       3  3101295  39.6875       Child  14.0   \n",
      "104       0.0       3  3101295  39.6875       Child   2.0   \n",
      "105       NaN       3  3101295  39.6875       Woman  22.0   \n",
      "\n",
      "                                             Name  \n",
      "99                     Panula, Master. Juha Niilo  \n",
      "100                  Panula, Master. Eino Viljami  \n",
      "101                     Panula, Mr. Ernesti Arvid  \n",
      "102        Panula, Mrs. Juha (Maria Emilia Ojala)  \n",
      "103                      Panula, Mr. Jaako Arnold  \n",
      "104                  Panula, Master. Urho Abraham  \n",
      "105  Riihivouri, Miss. Susanna Juhantytar Sanni\"\"  \n"
     ]
    }
   ],
   "source": [
    "print(df_all.loc[df_all['Ticket_num'] == 3101295, cols]) # travel group with female household head"
   ]
  },
  {
   "cell_type": "code",
   "execution_count": 83,
   "metadata": {},
   "outputs": [
    {
     "name": "stdout",
     "output_type": "stream",
     "text": [
      "     Survived  Pclass   Ticket  Fare        Role   Age  \\\n",
      "121       0.0       3  CA 2144  46.9       Child  11.0   \n",
      "122       0.0       3  CA 2144  46.9  olderChild  16.0   \n",
      "123       0.0       3  CA 2144  46.9       Child   1.0   \n",
      "124       0.0       3  CA 2144  46.9       Child   9.0   \n",
      "125       0.0       3  CA 2144  46.9      Mother  43.0   \n",
      "126       0.0       3  CA 2144  46.9       Child  14.0   \n",
      "127       NaN       3  CA 2144  46.9      Father  40.0   \n",
      "128       NaN       3  CA 2144  46.9       Child  10.0   \n",
      "\n",
      "                                        Name  \n",
      "121       Goodwin, Master. William Frederick  \n",
      "122               Goodwin, Miss. Lillian Amy  \n",
      "123          Goodwin, Master. Sidney Leonard  \n",
      "124           Goodwin, Master. Harold Victor  \n",
      "125  Goodwin, Mrs. Frederick (Augusta Tyler)  \n",
      "126              Goodwin, Mr. Charles Edward  \n",
      "127           Goodwin, Mr. Charles Frederick  \n",
      "128              Goodwin, Miss. Jessie Allis  \n"
     ]
    }
   ],
   "source": [
    "print(df_all.loc[df_all['Ticket_num'] == 2144, cols]) # Class 3. mother with six children died"
   ]
  },
  {
   "cell_type": "code",
   "execution_count": 84,
   "metadata": {},
   "outputs": [
    {
     "name": "stdout",
     "output_type": "stream",
     "text": [
      "    Survived  Pclass  Ticket     Fare    Role   Age  \\\n",
      "15       1.0       3  347742  11.1333  Mother  27.0   \n",
      "16       1.0       3  347742  11.1333   Child   1.0   \n",
      "17       1.0       3  347742  11.1333   Child   4.0   \n",
      "\n",
      "                                                 Name  \n",
      "15  Johnson, Mrs. Oscar W (Elisabeth Vilhelmina Berg)  \n",
      "16                       Johnson, Miss. Eleanor Ileen  \n",
      "17                    Johnson, Master. Harold Theodor  \n"
     ]
    }
   ],
   "source": [
    "print(df_all.loc[df_all['Ticket_num'] == 347742, cols]) # class 3. mother with two children alive"
   ]
  },
  {
   "cell_type": "code",
   "execution_count": 85,
   "metadata": {},
   "outputs": [
    {
     "name": "stdout",
     "output_type": "stream",
     "text": [
      "    Survived  Pclass  Ticket     Fare    Role   Age  \\\n",
      "49       1.0       3  347077  31.3875  Mother  38.0   \n",
      "50       0.0       3  347077  31.3875   Child   9.0   \n",
      "51       1.0       3  347077  31.3875   Child   5.0   \n",
      "52       1.0       3  347077  31.3875   Child   3.0   \n",
      "53       NaN       3  347077  31.3875   Child  13.0   \n",
      "54       NaN       3  347077  31.3875  Father  40.0   \n",
      "55       NaN       3  347077  31.3875   Child   5.0   \n",
      "\n",
      "                                                 Name  \n",
      "49  Asplund, Mrs. Carl Oscar (Selma Augusta Emilia...  \n",
      "50              Asplund, Master. Clarence Gustaf Hugo  \n",
      "51                     Asplund, Miss. Lillian Gertrud  \n",
      "52                  Asplund, Master. Edvin Rojj Felix  \n",
      "53                       Asplund, Master. Filip Oscar  \n",
      "54         Asplund, Mr. Carl Oscar Vilhelm Gustafsson  \n",
      "55                        Asplund, Master. Carl Edgar  \n"
     ]
    }
   ],
   "source": [
    "print(df_all.loc[df_all['Ticket_num'] == 347077, cols])  # class 3 mother with five children alive"
   ]
  },
  {
   "cell_type": "code",
   "execution_count": 86,
   "metadata": {},
   "outputs": [
    {
     "name": "stdout",
     "output_type": "stream",
     "text": [
      "     Survived  Pclass Ticket     Fare Role   Age             Name\n",
      "158       1.0       3   1601  56.4958  Man  32.0    Bing, Mr. Lee\n",
      "159       0.0       3   1601  56.4958  Man  28.0    Ling, Mr. Lee\n",
      "160       1.0       3   1601  56.4958  Man  26.0   Lang, Mr. Fang\n",
      "161       1.0       3   1601  56.4958  Man   NaN  Foo, Mr. Choong\n",
      "162       1.0       3   1601  56.4958  Man   NaN     Lam, Mr. Ali\n",
      "163       0.0       3   1601  56.4958  Man   NaN     Lam, Mr. Len\n",
      "164       1.0       3   1601  56.4958  Man  32.0  Chip, Mr. Chang\n",
      "165       NaN       3   1601  56.4958  Man   NaN    Hee, Mr. Ling\n"
     ]
    }
   ],
   "source": [
    "print(df_all.loc[df_all['Ticket_num'] == 1601, cols]) # class 3. group of eight non-biological-related male members"
   ]
  },
  {
   "cell_type": "code",
   "execution_count": 87,
   "metadata": {},
   "outputs": [
    {
     "name": "stdout",
     "output_type": "stream",
     "text": [
      "       1     4     23    58    59    61    62  66    67  72\n",
      "Age  38.0  35.0  58.0  23.0  24.0  28.0  60.0 NaN  58.0 NaN\n"
     ]
    }
   ],
   "source": [
    "for i, g in df_all.groupby(['Pclass', 'Sex'])['Age'].groups.items():\n",
    "    if i == (1, 'female'):\n",
    "        tb = df_all.groupby(['Pclass', 'Sex'])['Age'].get_group(i)\n",
    "        break\n",
    "print(pd.DataFrame(tb).head(10).T)"
   ]
  },
  {
   "cell_type": "markdown",
   "metadata": {},
   "source": [
    "Distribution of age by passenger class and gender"
   ]
  },
  {
   "cell_type": "code",
   "execution_count": 88,
   "metadata": {},
   "outputs": [
    {
     "data": {
      "image/png": "[encoded data removed]",
      "text/plain": [
       "<Figure size 648x432 with 6 Axes>"
      ]
     },
     "metadata": {},
     "output_type": "display_data"
    }
   ],
   "source": [
    "import string\n",
    "alpha_list = list(string.ascii_lowercase[:9])\n",
    "# Seaborn facet grid plot\n",
    "g = sns.FacetGrid(df_all, col='Pclass', row='Sex')\n",
    "g = g.map(plt.hist, 'Age', bins=np.arange(0, 80, 5), density=True)\n",
    "\n",
    "for ax in g.axes.flat:\n",
    "    # Step 1. Get section\n",
    "    texts = ax.get_xticklabels()\n",
    "    locations = ax.get_xticks()\n",
    "    ylabel = ax.yaxis.get_label()\n",
    "    # Step 2. Set section\n",
    "    if ylabel:\n",
    "        ax.set_ylabel(\"Percentage\")\n",
    "    ax.set_xticks(np.arange(0,81,10))\n",
    "    # ax.set_xticklabels(alpha_list) # experimental. works well.\n",
    "    ax.set_xticklabels(np.arange(0, 81,10))\n",
    "\n",
    "plt.show()"
   ]
  },
  {
   "cell_type": "markdown",
   "metadata": {},
   "source": [
    "#### Stacked hist plot of survived people by gender\n",
    "Step 1. list the total number of survived people by gender and passenger class."
   ]
  },
  {
   "cell_type": "code",
   "execution_count": 89,
   "metadata": {},
   "outputs": [
    {
     "data": {
      "text/plain": [
       "Pclass  Sex   \n",
       "1       female    91\n",
       "        male      45\n",
       "2       female    70\n",
       "        male      17\n",
       "3       female    72\n",
       "        male      47\n",
       "Name: count, dtype: int32"
      ]
     },
     "execution_count": 89,
     "metadata": {},
     "output_type": "execute_result"
    }
   ],
   "source": [
    "c = df_all.groupby(['Pclass', 'Sex'])['Survived'].sum().astype(int).rename(\"count\")\n",
    "c"
   ]
  },
  {
   "cell_type": "markdown",
   "metadata": {},
   "source": [
    "Step 2-A. list the total number of people with available Survived data by gender and passenger class. "
   ]
  },
  {
   "cell_type": "code",
   "execution_count": 90,
   "metadata": {},
   "outputs": [
    {
     "name": "stdout",
     "output_type": "stream",
     "text": [
      "Pclass  Sex   \n",
      "1       female     94\n",
      "        male      122\n",
      "2       female     76\n",
      "        male      108\n",
      "3       female    144\n",
      "        male      347\n",
      "Name: Survived, dtype: int64\n"
     ]
    }
   ],
   "source": [
    "d = df_all.groupby(['Pclass', 'Sex'])['Survived'].apply(lambda x: pd.notnull(x).sum())\n",
    "print(d)"
   ]
  },
  {
   "cell_type": "markdown",
   "metadata": {},
   "source": [
    "Step 2-B. regardless of gender, list the total number of people with available Survived data by passenger class."
   ]
  },
  {
   "cell_type": "code",
   "execution_count": 91,
   "metadata": {},
   "outputs": [
    {
     "name": "stdout",
     "output_type": "stream",
     "text": [
      "Pclass\n",
      "1    216\n",
      "2    184\n",
      "3    491\n",
      "Name: Survived, dtype: int64\n"
     ]
    }
   ],
   "source": [
    "print(d.groupby(level=0).sum())"
   ]
  },
  {
   "cell_type": "markdown",
   "metadata": {},
   "source": [
    "Step 3-A. Compute the survial rate based on availabe Survived feature by gender and passenger class."
   ]
  },
  {
   "cell_type": "code",
   "execution_count": 92,
   "metadata": {},
   "outputs": [
    {
     "data": {
      "text/plain": [
       "Pclass  Sex   \n",
       "1       female    0.968085\n",
       "        male      0.368852\n",
       "2       female    0.921053\n",
       "        male      0.157407\n",
       "3       female    0.500000\n",
       "        male      0.135447\n",
       "dtype: float64"
      ]
     },
     "execution_count": 92,
     "metadata": {},
     "output_type": "execute_result"
    }
   ],
   "source": [
    "c / d"
   ]
  },
  {
   "cell_type": "markdown",
   "metadata": {},
   "source": [
    "Step 3-B. Compute the survival rate in respective passenger class across gendear and passenger class. This computation is useless because the survival rate might be distorted by the imbalanced size of population across genders."
   ]
  },
  {
   "cell_type": "code",
   "execution_count": 93,
   "metadata": {},
   "outputs": [
    {
     "data": {
      "text/plain": [
       "Pclass  Sex   \n",
       "1       female    0.421296\n",
       "        male      0.208333\n",
       "2       female    0.380435\n",
       "        male      0.092391\n",
       "3       female    0.146640\n",
       "        male      0.095723\n",
       "dtype: float64"
      ]
     },
     "execution_count": 93,
     "metadata": {},
     "output_type": "execute_result"
    }
   ],
   "source": [
    "e = c / d.groupby(level=0).sum()\n",
    "e"
   ]
  },
  {
   "cell_type": "code",
   "execution_count": 118,
   "metadata": {},
   "outputs": [
    {
     "data": {
      "image/png": "[encoded data removed]",
      "text/plain": [
       "<Figure size 288x360 with 1 Axes>"
      ]
     },
     "metadata": {},
     "output_type": "display_data"
    }
   ],
   "source": [
    "params = {'figure.figsize': (15, 6),\n",
    "          'axes.labelsize': 18,\n",
    "          'axes.titlesize': 16,\n",
    "          'xtick.labelsize': 16,\n",
    "          'ytick.labelsize': 16,\n",
    "          'legend.title_fontsize': 12,\n",
    "          'legend.fontsize': 12,\n",
    "          'legend.handlelength': 4}\n",
    "pylab.rcParams.update(params)\n",
    "\n",
    "fig, ax = plt.subplots()\n",
    "f = e.unstack(level=-1)\n",
    "f.plot(kind='bar', stacked=True, fontsize=16, ax=ax)\n",
    "\n",
    "fig.set_size_inches(4,5)\n",
    "ax.set_xlabel('Passenger class')\n",
    "ax.set_ylabel('Percentage')\n",
    "ax.set_title('Survivor count in each class')\n",
    "ax.set_xticklabels(ax.get_xticklabels(), rotation=0);"
   ]
  },
  {
   "cell_type": "markdown",
   "metadata": {},
   "source": [
    "Now I'm interested to plot a refined version of the aforementioned survivor analysis with the decomposition by age and gender in each class."
   ]
  },
  {
   "cell_type": "code",
   "execution_count": 95,
   "metadata": {},
   "outputs": [
    {
     "name": "stdout",
     "output_type": "stream",
     "text": [
      "                0         1         2         3         4         5         6  \\\n",
      "Pclass          1         1         1         1         1         1         1   \n",
      "Sex        female    female    female    female    female    female    female   \n",
      "Age       (0, 10]  (10, 20]  (20, 30]  (30, 40]  (40, 50]  (50, 60]  (60, 70]   \n",
      "Survived        0        13        20        24        12        11         2   \n",
      "\n",
      "                7         8         9        10        11        12        13  \n",
      "Pclass          1         1         1         1         1         1         1  \n",
      "Sex          male      male      male      male      male      male      male  \n",
      "Age       (0, 10]  (10, 20]  (20, 30]  (30, 40]  (40, 50]  (50, 60]  (60, 70]  \n",
      "Survived        2         2         9        13         9         4         0  \n"
     ]
    }
   ],
   "source": [
    "grouped = df_all.groupby(['Pclass', 'Sex', pd.cut(df_all['Age'],bins=range(0,80,10))])\n",
    "unpivoted = grouped['Survived'].apply(lambda x: x.sum()).reset_index()\n",
    "print(unpivoted.head(14).T)"
   ]
  },
  {
   "cell_type": "code",
   "execution_count": 96,
   "metadata": {},
   "outputs": [
    {
     "data": {
      "image/png": "[encoded data removed]",
      "text/plain": [
       "<Figure size 751.325x216 with 3 Axes>"
      ]
     },
     "metadata": {},
     "output_type": "display_data"
    }
   ],
   "source": [
    "# Part I. major visualization\n",
    "g = sns.FacetGrid(unpivoted, col='Pclass', hue='Sex', margin_titles=True)\n",
    "g = g.map(sns.barplot, 'Age', 'Survived', alpha=0.4)\n",
    "# Part II.  \n",
    "g.add_legend()\n",
    "for i, ax in enumerate(g.axes.flat):\n",
    "    # Step 1. get information\n",
    "    labels = ax.get_xticklabels() # get x labels\n",
    "    ylabel = ax.yaxis.get_label()\n",
    "    # Step 2. update information\n",
    "    if i==0: ax.set_ylabel('Survivor count')\n",
    "#     for i,l in enumerate(labels):\n",
    "#         if(i%2 == 0): labels[i] = '' # skip even labels\n",
    "    ax.set_xticklabels(labels, rotation=90) # set new labels"
   ]
  },
  {
   "cell_type": "markdown",
   "metadata": {},
   "source": [
    "I would like to have a stacked bar chart instead of an overlapping transparent bar chart as shown above. Here is my more refined approach to contrast female survior head count against male's by age group."
   ]
  },
  {
   "cell_type": "code",
   "execution_count": 121,
   "metadata": {
    "lines_to_next_cell": 2
   },
   "outputs": [],
   "source": [
    "# Step 1. Generate the head count by Pclas, Sex and age group\n",
    "grouped = df_all.groupby(['Pclass', 'Sex', pd.cut(df_all['Age'],bins=range(0,80,10))])\n",
    "x = grouped['Survived'].apply(lambda x: x.sum()).reset_index()\n",
    "x\n",
    "\n",
    "# Step 2. unstack Sex so that we have male and female columns\n",
    "y = x.set_index(['Pclass', 'Age', 'Sex']).unstack(level=-1)\n",
    "# drop the column index before summation\n",
    "y.columns = y.columns.droplevel()\n",
    "y['total'] = y['female'] + y['male']\n",
    "y\n",
    "\n",
    "# Step 3. drop the intermediate column and then rename\n",
    "# Note: the value of female column is actually the sum of the original numbers of female and male.\n",
    "del y['female']\n",
    "y = y.rename(columns={'total': 'female'})\n",
    "unpivoted = y.fillna(0)\n",
    "\n",
    "# Step 4. Transform back to a data frame with Pclass, Age, Sex, Survived columns\n",
    "unpivoted = unpivoted.stack()\n",
    "unpivoted = unpivoted.to_frame(name='Survived')\n",
    "unpivoted\n",
    "unpivoted = unpivoted.reset_index()\n",
    "unpivoted;"
   ]
  },
  {
   "cell_type": "code",
   "execution_count": 122,
   "metadata": {},
   "outputs": [
    {
     "name": "stdout",
     "output_type": "stream",
     "text": [
      "<class 'pandas.core.frame.DataFrame'>\n",
      "RangeIndex: 42 entries, 0 to 41\n",
      "Data columns (total 4 columns):\n",
      " #   Column    Non-Null Count  Dtype   \n",
      "---  ------    --------------  -----   \n",
      " 0   Pclass    42 non-null     int64   \n",
      " 1   Age       42 non-null     category\n",
      " 2   Sex       42 non-null     object  \n",
      " 3   Survived  42 non-null     float64 \n",
      "dtypes: category(1), float64(1), int64(1), object(1)\n",
      "memory usage: 1.6+ KB\n"
     ]
    }
   ],
   "source": [
    "unpivoted.info()"
   ]
  },
  {
   "cell_type": "code",
   "execution_count": 123,
   "metadata": {},
   "outputs": [
    {
     "data": {
      "image/png": "[encoded data removed]",
      "text/plain": [
       "<Figure size 751.325x216 with 3 Axes>"
      ]
     },
     "metadata": {},
     "output_type": "display_data"
    }
   ],
   "source": [
    "# Step 5.\n",
    "g = sns.FacetGrid(unpivoted, col='Pclass', hue='Sex', margin_titles=True)\n",
    "g = g.map(sns.barplot, 'Age', 'Survived', alpha=0.5)\n",
    "# Part II.\n",
    "g.add_legend()\n",
    "for i, ax in enumerate(g.axes.flat):\n",
    "    # Step 1. get information\n",
    "    labels = ax.get_xticklabels() # get x labels\n",
    "    ylabel = ax.yaxis.get_label()\n",
    "    # Step 2. update information\n",
    "    if i==0: ax.set_ylabel('Survivor count')\n",
    "#     for i,l in enumerate(labels):\n",
    "#         if(i%2 == 0): labels[i] = '' # skip even labels\n",
    "    ax.set_xticklabels(labels, rotation=90) # set new labels\n",
    "plt.show()"
   ]
  },
  {
   "cell_type": "markdown",
   "metadata": {},
   "source": [
    "I am not satisfied with the rendering above. Here is the alternative version with a helper function."
   ]
  },
  {
   "cell_type": "code",
   "execution_count": 117,
   "metadata": {},
   "outputs": [
    {
     "data": {
      "image/png": "[encoded data removed]",
      "text/plain": [
       "<Figure size 737.95x216 with 3 Axes>"
      ]
     },
     "metadata": {},
     "output_type": "display_data"
    }
   ],
   "source": [
    "def sbp(*args, **kwargs):\n",
    "    data = kwargs.pop('data')\n",
    "    sns.barplot(x = data.Age, y = data.loc[data.Sex == 'female', 'Survived'], color = 'red', label = 'red')\n",
    "    sns.barplot(x = data.Age, y = data.loc[data.Sex == 'male', 'Survived'], color = 'blue', label = 'blue') \n",
    "    \n",
    "unpivoted['Age'] = unpivoted['Age'].astype(str) # This is the key statement for the following mapping works.\n",
    "                                                # It lets you to convert categorical to str.\n",
    "    \n",
    "g = sns.FacetGrid(unpivoted, col='Pclass', margin_titles=True, legend_out=True)\n",
    "g = g.map_dataframe(sbp, Age='Age', Sex='Sex')\n",
    "\n",
    "g.add_legend()\n",
    "for i, ax in enumerate(g.axes.flat):\n",
    "    # Step 1. get information\n",
    "    labels = ax.get_xticklabels() # get x labels\n",
    "    ylabel = ax.yaxis.get_label()\n",
    "    # Step 2. update information\n",
    "    if i==0: ax.set_ylabel('Survivor count')\n",
    "#     for i,l in enumerate(labels):\n",
    "#         if(i%2 == 0): labels[i] = '' # skip even labels\n",
    "    ax.set_xticklabels(labels, rotation=90) # set new labels\n",
    "    ax.set_xlabel('Age')\n",
    "plt.show()"
   ]
  },
  {
   "cell_type": "code",
   "execution_count": null,
   "metadata": {
    "lines_to_next_cell": 2
   },
   "outputs": [],
   "source": [
    "\n",
    "# # g.set_titles(\"Pclass {col_name} {row_name}\") # trick for conditional title\n",
    "\n",
    "# # Group Selection Operation ----------------------------------------------------\n",
    "# cols = ['Deck', 'Pclass']\n",
    "# df_train.groupby(cols).filter(lambda x: x['Age'].\\\n",
    "#     quantile(q=0.75) > 50)['Survived'].mean()\n",
    "# df_train.groupby(cols).filter(lambda x: x['Age'].\\\n",
    "#     quantile(q=0.75) < 30)['Survived'].mean()\n"
   ]
  }
 ],
 "metadata": {
  "jupytext": {
   "formats": "ipynb,py:light"
  },
  "kernelspec": {
   "display_name": "Python 3",
   "language": "python",
   "name": "python3"
  },
  "language_info": {
   "codemirror_mode": {
    "name": "ipython",
    "version": 3
   },
   "file_extension": ".py",
   "mimetype": "text/x-python",
   "name": "python",
   "nbconvert_exporter": "python",
   "pygments_lexer": "ipython3",
   "version": "3.7.7"
  }
 },
 "nbformat": 4,
 "nbformat_minor": 4
}
