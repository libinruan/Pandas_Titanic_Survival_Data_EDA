{
 "cells": [
  {
   "cell_type": "markdown",
   "metadata": {},
   "source": [
    "#### Can identifying families with children help boost the accuracy?"
   ]
  },
  {
   "cell_type": "markdown",
   "metadata": {},
   "source": [
    "For the classificiation purpose in the data competition, the value of demographic information implied by the ticket combination in the Kaggle Titanic data set (hereafter, the Titanic data) is widely understated. In this post, I'm going to show you how to expose demographic information hidden in the full data set (the join of the training set and test set) of the Titanic data, and hopefully help us boost our prediction accuracy.\n",
    "\n",
    "Note: If you are concerned about data leakage that araises in data processing before splitting the data set, you may find this [discussion](https://www.kaggle.com/c/titanic/discussion/41928#235524) interesting. For the purose that is more of winning the competition than generalization, I'll simply use the full data set as the basis of feature eningeering and leave the data leakage judgement for you.\n",
    "\n",
    "Here is a list of observations I'm going to point out with advanced tricks of Pandas in conjunction with NumPy:"
   ]
  },
  {
   "cell_type": "markdown",
   "metadata": {},
   "source": [
    "#### EDA"
   ]
  },
  {
   "cell_type": "code",
   "execution_count": 49,
   "metadata": {},
   "outputs": [],
   "source": [
    "##\n",
    "# Library we need \n",
    "import pandas as pd\n",
    "import numpy as np\n",
    "import matplotlib as mpl\n",
    "import matplotlib.pyplot as plt\n",
    "import matplotlib.pylab as pylab\n",
    "import seaborn as sns\n",
    "import warnings\n",
    "warnings.filterwarnings('ignore')\n",
    "\n",
    "# Configure Visualization Defaults\n",
    "mpl.style.use('ggplot')\n",
    "pylab.rcParams['figure.figsize'] = 12, 8\n",
    "sns.set_style('white')\n",
    "pd.set_option('display.max_columns', None)"
   ]
  },
  {
   "cell_type": "code",
   "execution_count": 50,
   "metadata": {},
   "outputs": [
    {
     "name": "stdout",
     "output_type": "stream",
     "text": [
      "<class 'pandas.core.frame.DataFrame'>\n",
      "RangeIndex: 891 entries, 0 to 890\n",
      "Data columns (total 12 columns):\n",
      " #   Column       Non-Null Count  Dtype  \n",
      "---  ------       --------------  -----  \n",
      " 0   PassengerId  891 non-null    int64  \n",
      " 1   Survived     891 non-null    int64  \n",
      " 2   Pclass       891 non-null    int64  \n",
      " 3   Name         891 non-null    object \n",
      " 4   Sex          891 non-null    object \n",
      " 5   Age          714 non-null    float64\n",
      " 6   SibSp        891 non-null    int64  \n",
      " 7   Parch        891 non-null    int64  \n",
      " 8   Ticket       891 non-null    object \n",
      " 9   Fare         891 non-null    float64\n",
      " 10  Cabin        204 non-null    object \n",
      " 11  Embarked     889 non-null    object \n",
      "dtypes: float64(2), int64(5), object(5)\n",
      "memory usage: 83.7+ KB\n",
      "None\n"
     ]
    }
   ],
   "source": [
    "# Replace the following two directories with those in the following comments\n",
    "df_train = pd.read_csv(r'F:\\GitHubData\\Titanic\\train.csv') # r\"../input/train.csv\"\n",
    "df_test = pd.read_csv(r'F:\\GitHubData\\Titanic\\test.csv') # r\"../input/test.csv\"\n",
    "\n",
    "# inconsistent columns so we \n",
    "# use concat, rather than pd.merge(df_train, df_test, on = [...], how = 'inner')\n",
    "df_all = pd.concat([df_train, df_test], join='outer', axis=0) \n",
    "df_train.name = 'Training data'\n",
    "df_test.name = 'Test data'\n",
    "\n",
    "# We have 11 features and 1 target variables\n",
    "print(df_train.info())"
   ]
  },
  {
   "cell_type": "code",
   "execution_count": 51,
   "metadata": {},
   "outputs": [
    {
     "name": "stdout",
     "output_type": "stream",
     "text": [
      "Number of Training Examples: 891\n",
      "Number of Test Examples = 418\n",
      "Shape of Training Examples = (891, 12)\n",
      "Shape of Test Examples = (418, 11)\n"
     ]
    }
   ],
   "source": [
    "# Dataset Dimensions\n",
    "print(f'Number of Training Examples: {df_train.shape[0]}')\n",
    "print(f'Number of Test Examples = {df_test.shape[0]}')\n",
    "print(f'Shape of Training Examples = {df_train.shape}')\n",
    "print(f'Shape of Test Examples = {df_test.shape}')"
   ]
  },
  {
   "cell_type": "code",
   "execution_count": 52,
   "metadata": {},
   "outputs": [
    {
     "name": "stdout",
     "output_type": "stream",
     "text": [
      "['Age', 'Cabin', 'Embarked', 'Fare', 'Name', 'Parch', 'PassengerId', 'Pclass', 'Sex', 'SibSp', 'Survived', 'Ticket']\n",
      "['Age', 'Cabin', 'Embarked', 'Fare', 'Name', 'Parch', 'PassengerId', 'Pclass', 'Sex', 'SibSp', 'Ticket']\n"
     ]
    }
   ],
   "source": [
    "# Column name we have\n",
    "print(sorted(df_train.columns.tolist())) \n",
    "print(sorted(df_test.columns.tolist()))"
   ]
  },
  {
   "cell_type": "code",
   "execution_count": 53,
   "metadata": {},
   "outputs": [
    {
     "name": "stdout",
     "output_type": "stream",
     "text": [
      "             count        mean         std   min       25%       50%    75%  \\\n",
      "PassengerId  891.0  446.000000  257.353842  1.00  223.5000  446.0000  668.5   \n",
      "Survived     891.0    0.383838    0.486592  0.00    0.0000    0.0000    1.0   \n",
      "Pclass       891.0    2.308642    0.836071  1.00    2.0000    3.0000    3.0   \n",
      "Age          714.0   29.699118   14.526497  0.42   20.1250   28.0000   38.0   \n",
      "SibSp        891.0    0.523008    1.102743  0.00    0.0000    0.0000    1.0   \n",
      "Parch        891.0    0.381594    0.806057  0.00    0.0000    0.0000    0.0   \n",
      "Fare         891.0   32.204208   49.693429  0.00    7.9104   14.4542   31.0   \n",
      "\n",
      "                  max  \n",
      "PassengerId  891.0000  \n",
      "Survived       1.0000  \n",
      "Pclass         3.0000  \n",
      "Age           80.0000  \n",
      "SibSp          8.0000  \n",
      "Parch          6.0000  \n",
      "Fare         512.3292  \n",
      "------------------------------\n",
      "         count unique                       top freq\n",
      "Name       891    891  Mannion, Miss. Margareth    1\n",
      "Sex        891      2                      male  577\n",
      "Ticket     891    681                  CA. 2343    7\n",
      "Cabin      204    147               C23 C25 C27    4\n",
      "Embarked   889      3                         S  644\n"
     ]
    }
   ],
   "source": [
    "# Numeric variables in training set\n",
    "print(df_train.describe(include=[np.number]).T)\n",
    "print('-' * 30)\n",
    "# Categorical variables in training set\n",
    "print(df_train.describe(include=['O']).T)"
   ]
  },
  {
   "cell_type": "code",
   "execution_count": 54,
   "metadata": {
    "lines_to_next_cell": 1
   },
   "outputs": [
    {
     "name": "stdout",
     "output_type": "stream",
     "text": [
      "Training data\n",
      "PassengerId NO. missing values: 0\n",
      "Survived    NO. missing values: 0\n",
      "Pclass      NO. missing values: 0\n",
      "Name        NO. missing values: 0\n",
      "Sex         NO. missing values: 0\n",
      "Age         NO. missing values: 177\n",
      "SibSp       NO. missing values: 0\n",
      "Parch       NO. missing values: 0\n",
      "Ticket      NO. missing values: 0\n",
      "Fare        NO. missing values: 0\n",
      "Cabin       NO. missing values: 687\n",
      "Embarked    NO. missing values: 2\n",
      "------------------------------\n",
      "Test data\n",
      "PassengerId NO. missing values: 0\n",
      "Pclass      NO. missing values: 0\n",
      "Name        NO. missing values: 0\n",
      "Sex         NO. missing values: 0\n",
      "Age         NO. missing values: 86\n",
      "SibSp       NO. missing values: 0\n",
      "Parch       NO. missing values: 0\n",
      "Ticket      NO. missing values: 0\n",
      "Fare        NO. missing values: 1\n",
      "Cabin       NO. missing values: 327\n",
      "Embarked    NO. missing values: 0\n"
     ]
    }
   ],
   "source": [
    "# Missing values\n",
    "def displayMissing(df):\n",
    "    for col in df.columns.tolist():\n",
    "        print(f'{col:11s} NO. missing values: {df[col].isnull().sum()}')\n",
    "\n",
    "for i, df in enumerate([df_train, df_test]):\n",
    "    print(f'{df.name}')\n",
    "    displayMissing(df)\n",
    "    if i == 0: print('-' * 30) "
   ]
  },
  {
   "cell_type": "markdown",
   "metadata": {},
   "source": [
    "As pointed out in many exploratory data analysis on Kaggle Titanic data set, we have missing values in continuous features `Age` and `Fare` and nominal variables `Embarked` and `Cabin`. "
   ]
  },
  {
   "cell_type": "markdown",
   "metadata": {},
   "source": [
    "#### Ticket combination"
   ]
  },
  {
   "cell_type": "code",
   "execution_count": 55,
   "metadata": {
    "lines_to_next_cell": 1
   },
   "outputs": [
    {
     "data": {
      "text/html": [
       "<div>\n",
       "<style scoped>\n",
       "    .dataframe tbody tr th:only-of-type {\n",
       "        vertical-align: middle;\n",
       "    }\n",
       "\n",
       "    .dataframe tbody tr th {\n",
       "        vertical-align: top;\n",
       "    }\n",
       "\n",
       "    .dataframe thead th {\n",
       "        text-align: right;\n",
       "    }\n",
       "</style>\n",
       "<table border=\"1\" class=\"dataframe\">\n",
       "  <thead>\n",
       "    <tr style=\"text-align: right;\">\n",
       "      <th></th>\n",
       "      <th>PassengerId</th>\n",
       "      <th>Survived</th>\n",
       "      <th>Pclass</th>\n",
       "      <th>Name</th>\n",
       "      <th>Sex</th>\n",
       "      <th>Age</th>\n",
       "      <th>SibSp</th>\n",
       "      <th>Parch</th>\n",
       "      <th>Ticket</th>\n",
       "      <th>Fare</th>\n",
       "      <th>Cabin</th>\n",
       "      <th>Embarked</th>\n",
       "      <th>Ticket_num</th>\n",
       "      <th>Ticket_alp</th>\n",
       "    </tr>\n",
       "  </thead>\n",
       "  <tbody>\n",
       "    <tr>\n",
       "      <th>0</th>\n",
       "      <td>1</td>\n",
       "      <td>0.0</td>\n",
       "      <td>3</td>\n",
       "      <td>Braund, Mr. Owen Harris</td>\n",
       "      <td>male</td>\n",
       "      <td>22.0</td>\n",
       "      <td>1</td>\n",
       "      <td>0</td>\n",
       "      <td>A/5 21171</td>\n",
       "      <td>7.2500</td>\n",
       "      <td>NaN</td>\n",
       "      <td>S</td>\n",
       "      <td>21171</td>\n",
       "      <td>A/5</td>\n",
       "    </tr>\n",
       "    <tr>\n",
       "      <th>1</th>\n",
       "      <td>2</td>\n",
       "      <td>1.0</td>\n",
       "      <td>1</td>\n",
       "      <td>Cumings, Mrs. John Bradley (Florence Briggs Th...</td>\n",
       "      <td>female</td>\n",
       "      <td>38.0</td>\n",
       "      <td>1</td>\n",
       "      <td>0</td>\n",
       "      <td>PC 17599</td>\n",
       "      <td>71.2833</td>\n",
       "      <td>C85</td>\n",
       "      <td>C</td>\n",
       "      <td>17599</td>\n",
       "      <td>PC</td>\n",
       "    </tr>\n",
       "    <tr>\n",
       "      <th>2</th>\n",
       "      <td>3</td>\n",
       "      <td>1.0</td>\n",
       "      <td>3</td>\n",
       "      <td>Heikkinen, Miss. Laina</td>\n",
       "      <td>female</td>\n",
       "      <td>26.0</td>\n",
       "      <td>0</td>\n",
       "      <td>0</td>\n",
       "      <td>STON/O2. 3101282</td>\n",
       "      <td>7.9250</td>\n",
       "      <td>NaN</td>\n",
       "      <td>S</td>\n",
       "      <td>3101282</td>\n",
       "      <td>STON/O2.</td>\n",
       "    </tr>\n",
       "    <tr>\n",
       "      <th>3</th>\n",
       "      <td>4</td>\n",
       "      <td>1.0</td>\n",
       "      <td>1</td>\n",
       "      <td>Futrelle, Mrs. Jacques Heath (Lily May Peel)</td>\n",
       "      <td>female</td>\n",
       "      <td>35.0</td>\n",
       "      <td>1</td>\n",
       "      <td>0</td>\n",
       "      <td>113803</td>\n",
       "      <td>53.1000</td>\n",
       "      <td>C123</td>\n",
       "      <td>S</td>\n",
       "      <td>113803</td>\n",
       "      <td>M</td>\n",
       "    </tr>\n",
       "    <tr>\n",
       "      <th>4</th>\n",
       "      <td>5</td>\n",
       "      <td>0.0</td>\n",
       "      <td>3</td>\n",
       "      <td>Allen, Mr. William Henry</td>\n",
       "      <td>male</td>\n",
       "      <td>35.0</td>\n",
       "      <td>0</td>\n",
       "      <td>0</td>\n",
       "      <td>373450</td>\n",
       "      <td>8.0500</td>\n",
       "      <td>NaN</td>\n",
       "      <td>S</td>\n",
       "      <td>373450</td>\n",
       "      <td>M</td>\n",
       "    </tr>\n",
       "  </tbody>\n",
       "</table>\n",
       "</div>"
      ],
      "text/plain": [
       "   PassengerId  Survived  Pclass  \\\n",
       "0            1       0.0       3   \n",
       "1            2       1.0       1   \n",
       "2            3       1.0       3   \n",
       "3            4       1.0       1   \n",
       "4            5       0.0       3   \n",
       "\n",
       "                                                Name     Sex   Age  SibSp  \\\n",
       "0                            Braund, Mr. Owen Harris    male  22.0      1   \n",
       "1  Cumings, Mrs. John Bradley (Florence Briggs Th...  female  38.0      1   \n",
       "2                             Heikkinen, Miss. Laina  female  26.0      0   \n",
       "3       Futrelle, Mrs. Jacques Heath (Lily May Peel)  female  35.0      1   \n",
       "4                           Allen, Mr. William Henry    male  35.0      0   \n",
       "\n",
       "   Parch            Ticket     Fare Cabin Embarked Ticket_num Ticket_alp  \n",
       "0      0         A/5 21171   7.2500   NaN        S      21171        A/5  \n",
       "1      0          PC 17599  71.2833   C85        C      17599         PC  \n",
       "2      0  STON/O2. 3101282   7.9250   NaN        S    3101282   STON/O2.  \n",
       "3      0            113803  53.1000  C123        S     113803          M  \n",
       "4      0            373450   8.0500   NaN        S     373450          M  "
      ]
     },
     "execution_count": 55,
     "metadata": {},
     "output_type": "execute_result"
    }
   ],
   "source": [
    "# todo:  Ticket combination is the feature without any missing values.\n",
    "# We should try to extract any information from it\n",
    "# although it appears useless at the first glance.\n",
    "def getTicketPrefixAndNumber(df, col):\n",
    "    # naming the columns to be created\n",
    "    col_num = col + '_num'\n",
    "    col_alp = col + '_alp'\n",
    "\n",
    "    # get the last group of contiguous digits\n",
    "    # vectorize string function with str method\n",
    "    # get any contignuous nuemrical digits from the end\n",
    "    # return anything that matches the pattern specified inside the parenthesis \n",
    "    df[col_num] = df[col].str.extract(r'(\\d+)$')\n",
    "    df[col_num].fillna(-1, inplace=True)\n",
    "\n",
    "    # get the complete string before a space that is followed by a trailing number group\n",
    "    df[col_alp] = df[col].str.extract(r'(.*)\\ \\d+$')\n",
    "    # sidenote: .replace({'\\.': '', '/': ''}, regex=True)\n",
    "    df[col_alp].fillna('M', inplace=True)\n",
    "    return df\n",
    "\n",
    "getTicketPrefixAndNumber(df_all, 'Ticket').head()"
   ]
  },
  {
   "cell_type": "code",
   "execution_count": 56,
   "metadata": {},
   "outputs": [
    {
     "name": "stdout",
     "output_type": "stream",
     "text": [
      "count     1309\n",
      "unique     924\n",
      "top       2343\n",
      "freq        11\n",
      "Name: Ticket_num, dtype: object\n",
      "------------------------------\n",
      "count    1.309000e+03\n",
      "mean     2.830713e+05\n",
      "std      6.353943e+05\n",
      "min     -1.000000e+00\n",
      "25%      1.356700e+04\n",
      "50%      1.108130e+05\n",
      "75%      3.470750e+05\n",
      "max      3.101317e+06\n",
      "Name: Ticket_num, dtype: float64\n"
     ]
    }
   ],
   "source": [
    "print(df_all.Ticket_num.describe())\n",
    "print('-' * 30) \n",
    "df_all['Ticket_num'] = pd.to_numeric(df_all['Ticket_num'])\n",
    "print(df_all.Ticket_num.describe())"
   ]
  },
  {
   "cell_type": "code",
   "execution_count": 57,
   "metadata": {},
   "outputs": [
    {
     "data": {
      "text/html": [
       "<div>\n",
       "<style scoped>\n",
       "    .dataframe tbody tr th:only-of-type {\n",
       "        vertical-align: middle;\n",
       "    }\n",
       "\n",
       "    .dataframe tbody tr th {\n",
       "        vertical-align: top;\n",
       "    }\n",
       "\n",
       "    .dataframe thead th {\n",
       "        text-align: right;\n",
       "    }\n",
       "</style>\n",
       "<table border=\"1\" class=\"dataframe\">\n",
       "  <thead>\n",
       "    <tr style=\"text-align: right;\">\n",
       "      <th></th>\n",
       "      <th>Ticket</th>\n",
       "      <th>Ticket_num</th>\n",
       "      <th>Ticket_alp</th>\n",
       "    </tr>\n",
       "  </thead>\n",
       "  <tbody>\n",
       "    <tr>\n",
       "      <th>0</th>\n",
       "      <td>A/5 21171</td>\n",
       "      <td>21171</td>\n",
       "      <td>A/5</td>\n",
       "    </tr>\n",
       "    <tr>\n",
       "      <th>1</th>\n",
       "      <td>PC 17599</td>\n",
       "      <td>17599</td>\n",
       "      <td>PC</td>\n",
       "    </tr>\n",
       "    <tr>\n",
       "      <th>2</th>\n",
       "      <td>STON/O2. 3101282</td>\n",
       "      <td>3101282</td>\n",
       "      <td>STON/O2.</td>\n",
       "    </tr>\n",
       "    <tr>\n",
       "      <th>3</th>\n",
       "      <td>113803</td>\n",
       "      <td>113803</td>\n",
       "      <td>M</td>\n",
       "    </tr>\n",
       "    <tr>\n",
       "      <th>4</th>\n",
       "      <td>373450</td>\n",
       "      <td>373450</td>\n",
       "      <td>M</td>\n",
       "    </tr>\n",
       "  </tbody>\n",
       "</table>\n",
       "</div>"
      ],
      "text/plain": [
       "             Ticket  Ticket_num Ticket_alp\n",
       "0         A/5 21171       21171        A/5\n",
       "1          PC 17599       17599         PC\n",
       "2  STON/O2. 3101282     3101282   STON/O2.\n",
       "3            113803      113803          M\n",
       "4            373450      373450          M"
      ]
     },
     "execution_count": 57,
     "metadata": {},
     "output_type": "execute_result"
    }
   ],
   "source": [
    "# check to see if the string decomposition works as expected.\n",
    "colnames = ['Ticket' + s for s in ['', '_num', '_alp']]\n",
    "df_all[colnames].head()"
   ]
  },
  {
   "cell_type": "markdown",
   "metadata": {},
   "source": [
    "#### Travel group\n",
    "Are there any people sharing the same ticket number but actually come from different travel groups (identified by ticket combination)? The answer is Yes. In such a case, I use `Ticket`, rather than `Ticket_num` to define a travel group. Using `last name` to define a travel group as seen in many kernels is not good enough for my purpose. People travelling together as a group should bear similar characteristics related to their survival rates in this travel disaster. Members of a travel group do not necessary share biological relathinship."
   ]
  },
  {
   "cell_type": "code",
   "execution_count": 58,
   "metadata": {},
   "outputs": [
    {
     "data": {
      "text/html": [
       "<div>\n",
       "<style scoped>\n",
       "    .dataframe tbody tr th:only-of-type {\n",
       "        vertical-align: middle;\n",
       "    }\n",
       "\n",
       "    .dataframe tbody tr th {\n",
       "        vertical-align: top;\n",
       "    }\n",
       "\n",
       "    .dataframe thead th {\n",
       "        text-align: right;\n",
       "    }\n",
       "</style>\n",
       "<table border=\"1\" class=\"dataframe\">\n",
       "  <thead>\n",
       "    <tr style=\"text-align: right;\">\n",
       "      <th></th>\n",
       "      <th>PassengerId</th>\n",
       "      <th>Survived</th>\n",
       "      <th>Pclass</th>\n",
       "      <th>Name</th>\n",
       "      <th>Sex</th>\n",
       "      <th>Age</th>\n",
       "      <th>SibSp</th>\n",
       "      <th>Parch</th>\n",
       "      <th>Ticket</th>\n",
       "      <th>Fare</th>\n",
       "      <th>Cabin</th>\n",
       "      <th>Embarked</th>\n",
       "      <th>Ticket_num</th>\n",
       "      <th>Ticket_alp</th>\n",
       "    </tr>\n",
       "  </thead>\n",
       "  <tbody>\n",
       "    <tr>\n",
       "      <th>226</th>\n",
       "      <td>227</td>\n",
       "      <td>1.0</td>\n",
       "      <td>2</td>\n",
       "      <td>Mellors, Mr. William John</td>\n",
       "      <td>male</td>\n",
       "      <td>19.0</td>\n",
       "      <td>0</td>\n",
       "      <td>0</td>\n",
       "      <td>SW/PP 751</td>\n",
       "      <td>10.50</td>\n",
       "      <td>NaN</td>\n",
       "      <td>S</td>\n",
       "      <td>751</td>\n",
       "      <td>SW/PP</td>\n",
       "    </tr>\n",
       "    <tr>\n",
       "      <th>648</th>\n",
       "      <td>649</td>\n",
       "      <td>0.0</td>\n",
       "      <td>3</td>\n",
       "      <td>Willey, Mr. Edward</td>\n",
       "      <td>male</td>\n",
       "      <td>NaN</td>\n",
       "      <td>0</td>\n",
       "      <td>0</td>\n",
       "      <td>S.O./P.P. 751</td>\n",
       "      <td>7.55</td>\n",
       "      <td>NaN</td>\n",
       "      <td>S</td>\n",
       "      <td>751</td>\n",
       "      <td>S.O./P.P.</td>\n",
       "    </tr>\n",
       "    <tr>\n",
       "      <th>570</th>\n",
       "      <td>571</td>\n",
       "      <td>1.0</td>\n",
       "      <td>2</td>\n",
       "      <td>Harris, Mr. George</td>\n",
       "      <td>male</td>\n",
       "      <td>62.0</td>\n",
       "      <td>0</td>\n",
       "      <td>0</td>\n",
       "      <td>S.W./PP 752</td>\n",
       "      <td>10.50</td>\n",
       "      <td>NaN</td>\n",
       "      <td>S</td>\n",
       "      <td>752</td>\n",
       "      <td>S.W./PP</td>\n",
       "    </tr>\n",
       "    <tr>\n",
       "      <th>155</th>\n",
       "      <td>1047</td>\n",
       "      <td>NaN</td>\n",
       "      <td>3</td>\n",
       "      <td>Duquemin, Mr. Joseph</td>\n",
       "      <td>male</td>\n",
       "      <td>24.0</td>\n",
       "      <td>0</td>\n",
       "      <td>0</td>\n",
       "      <td>S.O./P.P. 752</td>\n",
       "      <td>7.55</td>\n",
       "      <td>NaN</td>\n",
       "      <td>S</td>\n",
       "      <td>752</td>\n",
       "      <td>S.O./P.P.</td>\n",
       "    </tr>\n",
       "    <tr>\n",
       "      <th>279</th>\n",
       "      <td>280</td>\n",
       "      <td>1.0</td>\n",
       "      <td>3</td>\n",
       "      <td>Abbott, Mrs. Stanton (Rosa Hunt)</td>\n",
       "      <td>female</td>\n",
       "      <td>35.0</td>\n",
       "      <td>1</td>\n",
       "      <td>1</td>\n",
       "      <td>C.A. 2673</td>\n",
       "      <td>20.25</td>\n",
       "      <td>NaN</td>\n",
       "      <td>S</td>\n",
       "      <td>2673</td>\n",
       "      <td>C.A.</td>\n",
       "    </tr>\n",
       "    <tr>\n",
       "      <th>746</th>\n",
       "      <td>747</td>\n",
       "      <td>0.0</td>\n",
       "      <td>3</td>\n",
       "      <td>Abbott, Mr. Rossmore Edward</td>\n",
       "      <td>male</td>\n",
       "      <td>16.0</td>\n",
       "      <td>1</td>\n",
       "      <td>1</td>\n",
       "      <td>C.A. 2673</td>\n",
       "      <td>20.25</td>\n",
       "      <td>NaN</td>\n",
       "      <td>S</td>\n",
       "      <td>2673</td>\n",
       "      <td>C.A.</td>\n",
       "    </tr>\n",
       "  </tbody>\n",
       "</table>\n",
       "</div>"
      ],
      "text/plain": [
       "     PassengerId  Survived  Pclass                              Name     Sex  \\\n",
       "226          227       1.0       2         Mellors, Mr. William John    male   \n",
       "648          649       0.0       3                Willey, Mr. Edward    male   \n",
       "570          571       1.0       2                Harris, Mr. George    male   \n",
       "155         1047       NaN       3              Duquemin, Mr. Joseph    male   \n",
       "279          280       1.0       3  Abbott, Mrs. Stanton (Rosa Hunt)  female   \n",
       "746          747       0.0       3       Abbott, Mr. Rossmore Edward    male   \n",
       "\n",
       "      Age  SibSp  Parch         Ticket   Fare Cabin Embarked  Ticket_num  \\\n",
       "226  19.0      0      0      SW/PP 751  10.50   NaN        S         751   \n",
       "648   NaN      0      0  S.O./P.P. 751   7.55   NaN        S         751   \n",
       "570  62.0      0      0    S.W./PP 752  10.50   NaN        S         752   \n",
       "155  24.0      0      0  S.O./P.P. 752   7.55   NaN        S         752   \n",
       "279  35.0      1      1      C.A. 2673  20.25   NaN        S        2673   \n",
       "746  16.0      1      1      C.A. 2673  20.25   NaN        S        2673   \n",
       "\n",
       "    Ticket_alp  \n",
       "226      SW/PP  \n",
       "648  S.O./P.P.  \n",
       "570    S.W./PP  \n",
       "155  S.O./P.P.  \n",
       "279       C.A.  \n",
       "746       C.A.  "
      ]
     },
     "execution_count": 58,
     "metadata": {},
     "output_type": "execute_result"
    }
   ],
   "source": [
    "islice = df_all.groupby('Ticket_num')['Ticket_alp'].transform(lambda x: x.nunique() > 1)\n",
    "df_all.loc[islice,:].sort_values(by=['Ticket_num']).head(6)"
   ]
  },
  {
   "cell_type": "markdown",
   "metadata": {},
   "source": [
    "#### Survival rate\n",
    "Check to see if survival rate (based on available Survived feature) varies across ticket combinations."
   ]
  },
  {
   "cell_type": "code",
   "execution_count": 59,
   "metadata": {},
   "outputs": [],
   "source": [
    "gtb1 = df_all[['Survived', 'Ticket']].groupby(['Ticket'])\n",
    "# compute the groupwise survival rates (percentage) # pd.count() counts non-NA cells\n",
    "temp = (gtb1['Survived'].sum() / gtb1['Survived'].count() * 100).sort_values()\n",
    "# name the resulting column to be used in the merge below\n",
    "temp.name = 'TeamSurvivalRate'\n",
    "# one-to-many merge on column Ticket\n",
    "df_all = pd.merge(df_all, temp, on='Ticket')"
   ]
  },
  {
   "cell_type": "markdown",
   "metadata": {},
   "source": [
    "#### Size of family and travel group\n",
    "Check if there exist travel groups with members of size larger than 5.\n",
    "\n",
    "Note: `pd.count()` doesn't count NA cells. If use it rather than `pd.size()` to count group size on Survived feature, the resulting group size is not correct."
   ]
  },
  {
   "cell_type": "code",
   "execution_count": 60,
   "metadata": {},
   "outputs": [
    {
     "data": {
      "text/plain": [
       "array(['347082', '382652', '347077', '19950', '3101295', 'CA 2144',\n",
       "       '347088', 'S.O.C. 14879', '1601', 'CA. 2343', '113781', 'PC 17608'],\n",
       "      dtype=object)"
      ]
     },
     "execution_count": 60,
     "metadata": {},
     "output_type": "execute_result"
    }
   ],
   "source": [
    "df_all.loc[df_all.groupby('Ticket')['Survived'].transform('size') > 5, :]['Ticket'].unique()"
   ]
  },
  {
   "cell_type": "markdown",
   "metadata": {},
   "source": [
    "For example, the travel group of ticket combination `S.O.C. 14879` has more than five members (two of which have unknown Survived features)."
   ]
  },
  {
   "cell_type": "code",
   "execution_count": 61,
   "metadata": {},
   "outputs": [
    {
     "data": {
      "text/html": [
       "<div>\n",
       "<style scoped>\n",
       "    .dataframe tbody tr th:only-of-type {\n",
       "        vertical-align: middle;\n",
       "    }\n",
       "\n",
       "    .dataframe tbody tr th {\n",
       "        vertical-align: top;\n",
       "    }\n",
       "\n",
       "    .dataframe thead th {\n",
       "        text-align: right;\n",
       "    }\n",
       "</style>\n",
       "<table border=\"1\" class=\"dataframe\">\n",
       "  <thead>\n",
       "    <tr style=\"text-align: right;\">\n",
       "      <th></th>\n",
       "      <th>Ticket</th>\n",
       "      <th>Survived</th>\n",
       "    </tr>\n",
       "  </thead>\n",
       "  <tbody>\n",
       "    <tr>\n",
       "      <th>149</th>\n",
       "      <td>S.O.C. 14879</td>\n",
       "      <td>0.0</td>\n",
       "    </tr>\n",
       "    <tr>\n",
       "      <th>150</th>\n",
       "      <td>S.O.C. 14879</td>\n",
       "      <td>0.0</td>\n",
       "    </tr>\n",
       "    <tr>\n",
       "      <th>151</th>\n",
       "      <td>S.O.C. 14879</td>\n",
       "      <td>0.0</td>\n",
       "    </tr>\n",
       "    <tr>\n",
       "      <th>152</th>\n",
       "      <td>S.O.C. 14879</td>\n",
       "      <td>0.0</td>\n",
       "    </tr>\n",
       "    <tr>\n",
       "      <th>153</th>\n",
       "      <td>S.O.C. 14879</td>\n",
       "      <td>0.0</td>\n",
       "    </tr>\n",
       "    <tr>\n",
       "      <th>154</th>\n",
       "      <td>S.O.C. 14879</td>\n",
       "      <td>NaN</td>\n",
       "    </tr>\n",
       "    <tr>\n",
       "      <th>155</th>\n",
       "      <td>S.O.C. 14879</td>\n",
       "      <td>NaN</td>\n",
       "    </tr>\n",
       "  </tbody>\n",
       "</table>\n",
       "</div>"
      ],
      "text/plain": [
       "           Ticket  Survived\n",
       "149  S.O.C. 14879       0.0\n",
       "150  S.O.C. 14879       0.0\n",
       "151  S.O.C. 14879       0.0\n",
       "152  S.O.C. 14879       0.0\n",
       "153  S.O.C. 14879       0.0\n",
       "154  S.O.C. 14879       NaN\n",
       "155  S.O.C. 14879       NaN"
      ]
     },
     "execution_count": 61,
     "metadata": {},
     "output_type": "execute_result"
    }
   ],
   "source": [
    "df_all.loc[df_all.Ticket=='S.O.C. 14879',['Ticket', 'Survived']]"
   ]
  },
  {
   "cell_type": "markdown",
   "metadata": {},
   "source": [
    "For example, the family of ticket combination `PC 17608` travles in a group with two other non-biological relationship members `PassengerId` = 951 and 1267."
   ]
  },
  {
   "cell_type": "code",
   "execution_count": 62,
   "metadata": {},
   "outputs": [
    {
     "data": {
      "text/html": [
       "<div>\n",
       "<style scoped>\n",
       "    .dataframe tbody tr th:only-of-type {\n",
       "        vertical-align: middle;\n",
       "    }\n",
       "\n",
       "    .dataframe tbody tr th {\n",
       "        vertical-align: top;\n",
       "    }\n",
       "\n",
       "    .dataframe thead th {\n",
       "        text-align: right;\n",
       "    }\n",
       "</style>\n",
       "<table border=\"1\" class=\"dataframe\">\n",
       "  <thead>\n",
       "    <tr style=\"text-align: right;\">\n",
       "      <th></th>\n",
       "      <th>PassengerId</th>\n",
       "      <th>Survived</th>\n",
       "      <th>Pclass</th>\n",
       "      <th>Name</th>\n",
       "      <th>Sex</th>\n",
       "      <th>Age</th>\n",
       "      <th>SibSp</th>\n",
       "      <th>Parch</th>\n",
       "      <th>Ticket</th>\n",
       "      <th>Fare</th>\n",
       "      <th>Cabin</th>\n",
       "      <th>Embarked</th>\n",
       "      <th>Ticket_num</th>\n",
       "      <th>Ticket_alp</th>\n",
       "      <th>TeamSurvivalRate</th>\n",
       "    </tr>\n",
       "  </thead>\n",
       "  <tbody>\n",
       "    <tr>\n",
       "      <th>504</th>\n",
       "      <td>312</td>\n",
       "      <td>1.0</td>\n",
       "      <td>1</td>\n",
       "      <td>Ryerson, Miss. Emily Borie</td>\n",
       "      <td>female</td>\n",
       "      <td>18.0</td>\n",
       "      <td>2</td>\n",
       "      <td>2</td>\n",
       "      <td>PC 17608</td>\n",
       "      <td>262.375</td>\n",
       "      <td>B57 B59 B63 B66</td>\n",
       "      <td>C</td>\n",
       "      <td>17608</td>\n",
       "      <td>PC</td>\n",
       "      <td>100.0</td>\n",
       "    </tr>\n",
       "    <tr>\n",
       "      <th>505</th>\n",
       "      <td>743</td>\n",
       "      <td>1.0</td>\n",
       "      <td>1</td>\n",
       "      <td>Ryerson, Miss. Susan Parker \"Suzette\"</td>\n",
       "      <td>female</td>\n",
       "      <td>21.0</td>\n",
       "      <td>2</td>\n",
       "      <td>2</td>\n",
       "      <td>PC 17608</td>\n",
       "      <td>262.375</td>\n",
       "      <td>B57 B59 B63 B66</td>\n",
       "      <td>C</td>\n",
       "      <td>17608</td>\n",
       "      <td>PC</td>\n",
       "      <td>100.0</td>\n",
       "    </tr>\n",
       "    <tr>\n",
       "      <th>506</th>\n",
       "      <td>916</td>\n",
       "      <td>NaN</td>\n",
       "      <td>1</td>\n",
       "      <td>Ryerson, Mrs. Arthur Larned (Emily Maria Borie)</td>\n",
       "      <td>female</td>\n",
       "      <td>48.0</td>\n",
       "      <td>1</td>\n",
       "      <td>3</td>\n",
       "      <td>PC 17608</td>\n",
       "      <td>262.375</td>\n",
       "      <td>B57 B59 B63 B66</td>\n",
       "      <td>C</td>\n",
       "      <td>17608</td>\n",
       "      <td>PC</td>\n",
       "      <td>100.0</td>\n",
       "    </tr>\n",
       "    <tr>\n",
       "      <th>507</th>\n",
       "      <td>951</td>\n",
       "      <td>NaN</td>\n",
       "      <td>1</td>\n",
       "      <td>Chaudanson, Miss. Victorine</td>\n",
       "      <td>female</td>\n",
       "      <td>36.0</td>\n",
       "      <td>0</td>\n",
       "      <td>0</td>\n",
       "      <td>PC 17608</td>\n",
       "      <td>262.375</td>\n",
       "      <td>B61</td>\n",
       "      <td>C</td>\n",
       "      <td>17608</td>\n",
       "      <td>PC</td>\n",
       "      <td>100.0</td>\n",
       "    </tr>\n",
       "    <tr>\n",
       "      <th>508</th>\n",
       "      <td>956</td>\n",
       "      <td>NaN</td>\n",
       "      <td>1</td>\n",
       "      <td>Ryerson, Master. John Borie</td>\n",
       "      <td>male</td>\n",
       "      <td>13.0</td>\n",
       "      <td>2</td>\n",
       "      <td>2</td>\n",
       "      <td>PC 17608</td>\n",
       "      <td>262.375</td>\n",
       "      <td>B57 B59 B63 B66</td>\n",
       "      <td>C</td>\n",
       "      <td>17608</td>\n",
       "      <td>PC</td>\n",
       "      <td>100.0</td>\n",
       "    </tr>\n",
       "    <tr>\n",
       "      <th>509</th>\n",
       "      <td>1034</td>\n",
       "      <td>NaN</td>\n",
       "      <td>1</td>\n",
       "      <td>Ryerson, Mr. Arthur Larned</td>\n",
       "      <td>male</td>\n",
       "      <td>61.0</td>\n",
       "      <td>1</td>\n",
       "      <td>3</td>\n",
       "      <td>PC 17608</td>\n",
       "      <td>262.375</td>\n",
       "      <td>B57 B59 B63 B66</td>\n",
       "      <td>C</td>\n",
       "      <td>17608</td>\n",
       "      <td>PC</td>\n",
       "      <td>100.0</td>\n",
       "    </tr>\n",
       "    <tr>\n",
       "      <th>510</th>\n",
       "      <td>1267</td>\n",
       "      <td>NaN</td>\n",
       "      <td>1</td>\n",
       "      <td>Bowen, Miss. Grace Scott</td>\n",
       "      <td>female</td>\n",
       "      <td>45.0</td>\n",
       "      <td>0</td>\n",
       "      <td>0</td>\n",
       "      <td>PC 17608</td>\n",
       "      <td>262.375</td>\n",
       "      <td>NaN</td>\n",
       "      <td>C</td>\n",
       "      <td>17608</td>\n",
       "      <td>PC</td>\n",
       "      <td>100.0</td>\n",
       "    </tr>\n",
       "  </tbody>\n",
       "</table>\n",
       "</div>"
      ],
      "text/plain": [
       "     PassengerId  Survived  Pclass  \\\n",
       "504          312       1.0       1   \n",
       "505          743       1.0       1   \n",
       "506          916       NaN       1   \n",
       "507          951       NaN       1   \n",
       "508          956       NaN       1   \n",
       "509         1034       NaN       1   \n",
       "510         1267       NaN       1   \n",
       "\n",
       "                                                Name     Sex   Age  SibSp  \\\n",
       "504                       Ryerson, Miss. Emily Borie  female  18.0      2   \n",
       "505            Ryerson, Miss. Susan Parker \"Suzette\"  female  21.0      2   \n",
       "506  Ryerson, Mrs. Arthur Larned (Emily Maria Borie)  female  48.0      1   \n",
       "507                      Chaudanson, Miss. Victorine  female  36.0      0   \n",
       "508                      Ryerson, Master. John Borie    male  13.0      2   \n",
       "509                       Ryerson, Mr. Arthur Larned    male  61.0      1   \n",
       "510                         Bowen, Miss. Grace Scott  female  45.0      0   \n",
       "\n",
       "     Parch    Ticket     Fare            Cabin Embarked  Ticket_num  \\\n",
       "504      2  PC 17608  262.375  B57 B59 B63 B66        C       17608   \n",
       "505      2  PC 17608  262.375  B57 B59 B63 B66        C       17608   \n",
       "506      3  PC 17608  262.375  B57 B59 B63 B66        C       17608   \n",
       "507      0  PC 17608  262.375              B61        C       17608   \n",
       "508      2  PC 17608  262.375  B57 B59 B63 B66        C       17608   \n",
       "509      3  PC 17608  262.375  B57 B59 B63 B66        C       17608   \n",
       "510      0  PC 17608  262.375              NaN        C       17608   \n",
       "\n",
       "    Ticket_alp  TeamSurvivalRate  \n",
       "504         PC             100.0  \n",
       "505         PC             100.0  \n",
       "506         PC             100.0  \n",
       "507         PC             100.0  \n",
       "508         PC             100.0  \n",
       "509         PC             100.0  \n",
       "510         PC             100.0  "
      ]
     },
     "execution_count": 62,
     "metadata": {},
     "output_type": "execute_result"
    }
   ],
   "source": [
    "df_all.loc[df_all['Ticket'] == 'PC 17608',:]"
   ]
  },
  {
   "cell_type": "markdown",
   "metadata": {},
   "source": [
    "Besides, here is the biggest family/group in the Titanic data:"
   ]
  },
  {
   "cell_type": "code",
   "execution_count": 63,
   "metadata": {},
   "outputs": [
    {
     "data": {
      "text/html": [
       "<div>\n",
       "<style scoped>\n",
       "    .dataframe tbody tr th:only-of-type {\n",
       "        vertical-align: middle;\n",
       "    }\n",
       "\n",
       "    .dataframe tbody tr th {\n",
       "        vertical-align: top;\n",
       "    }\n",
       "\n",
       "    .dataframe thead th {\n",
       "        text-align: right;\n",
       "    }\n",
       "</style>\n",
       "<table border=\"1\" class=\"dataframe\">\n",
       "  <thead>\n",
       "    <tr style=\"text-align: right;\">\n",
       "      <th></th>\n",
       "      <th>PassengerId</th>\n",
       "      <th>Survived</th>\n",
       "      <th>Pclass</th>\n",
       "      <th>Name</th>\n",
       "      <th>Sex</th>\n",
       "      <th>Age</th>\n",
       "      <th>SibSp</th>\n",
       "      <th>Parch</th>\n",
       "      <th>Ticket</th>\n",
       "      <th>Fare</th>\n",
       "      <th>Cabin</th>\n",
       "      <th>Embarked</th>\n",
       "      <th>Ticket_num</th>\n",
       "      <th>Ticket_alp</th>\n",
       "      <th>TeamSurvivalRate</th>\n",
       "    </tr>\n",
       "  </thead>\n",
       "  <tbody>\n",
       "    <tr>\n",
       "      <th>283</th>\n",
       "      <td>160</td>\n",
       "      <td>0.0</td>\n",
       "      <td>3</td>\n",
       "      <td>Sage, Master. Thomas Henry</td>\n",
       "      <td>male</td>\n",
       "      <td>NaN</td>\n",
       "      <td>8</td>\n",
       "      <td>2</td>\n",
       "      <td>CA. 2343</td>\n",
       "      <td>69.55</td>\n",
       "      <td>NaN</td>\n",
       "      <td>S</td>\n",
       "      <td>2343</td>\n",
       "      <td>CA.</td>\n",
       "      <td>0.0</td>\n",
       "    </tr>\n",
       "    <tr>\n",
       "      <th>284</th>\n",
       "      <td>181</td>\n",
       "      <td>0.0</td>\n",
       "      <td>3</td>\n",
       "      <td>Sage, Miss. Constance Gladys</td>\n",
       "      <td>female</td>\n",
       "      <td>NaN</td>\n",
       "      <td>8</td>\n",
       "      <td>2</td>\n",
       "      <td>CA. 2343</td>\n",
       "      <td>69.55</td>\n",
       "      <td>NaN</td>\n",
       "      <td>S</td>\n",
       "      <td>2343</td>\n",
       "      <td>CA.</td>\n",
       "      <td>0.0</td>\n",
       "    </tr>\n",
       "    <tr>\n",
       "      <th>285</th>\n",
       "      <td>202</td>\n",
       "      <td>0.0</td>\n",
       "      <td>3</td>\n",
       "      <td>Sage, Mr. Frederick</td>\n",
       "      <td>male</td>\n",
       "      <td>NaN</td>\n",
       "      <td>8</td>\n",
       "      <td>2</td>\n",
       "      <td>CA. 2343</td>\n",
       "      <td>69.55</td>\n",
       "      <td>NaN</td>\n",
       "      <td>S</td>\n",
       "      <td>2343</td>\n",
       "      <td>CA.</td>\n",
       "      <td>0.0</td>\n",
       "    </tr>\n",
       "    <tr>\n",
       "      <th>286</th>\n",
       "      <td>325</td>\n",
       "      <td>0.0</td>\n",
       "      <td>3</td>\n",
       "      <td>Sage, Mr. George John Jr</td>\n",
       "      <td>male</td>\n",
       "      <td>NaN</td>\n",
       "      <td>8</td>\n",
       "      <td>2</td>\n",
       "      <td>CA. 2343</td>\n",
       "      <td>69.55</td>\n",
       "      <td>NaN</td>\n",
       "      <td>S</td>\n",
       "      <td>2343</td>\n",
       "      <td>CA.</td>\n",
       "      <td>0.0</td>\n",
       "    </tr>\n",
       "    <tr>\n",
       "      <th>287</th>\n",
       "      <td>793</td>\n",
       "      <td>0.0</td>\n",
       "      <td>3</td>\n",
       "      <td>Sage, Miss. Stella Anna</td>\n",
       "      <td>female</td>\n",
       "      <td>NaN</td>\n",
       "      <td>8</td>\n",
       "      <td>2</td>\n",
       "      <td>CA. 2343</td>\n",
       "      <td>69.55</td>\n",
       "      <td>NaN</td>\n",
       "      <td>S</td>\n",
       "      <td>2343</td>\n",
       "      <td>CA.</td>\n",
       "      <td>0.0</td>\n",
       "    </tr>\n",
       "    <tr>\n",
       "      <th>288</th>\n",
       "      <td>847</td>\n",
       "      <td>0.0</td>\n",
       "      <td>3</td>\n",
       "      <td>Sage, Mr. Douglas Bullen</td>\n",
       "      <td>male</td>\n",
       "      <td>NaN</td>\n",
       "      <td>8</td>\n",
       "      <td>2</td>\n",
       "      <td>CA. 2343</td>\n",
       "      <td>69.55</td>\n",
       "      <td>NaN</td>\n",
       "      <td>S</td>\n",
       "      <td>2343</td>\n",
       "      <td>CA.</td>\n",
       "      <td>0.0</td>\n",
       "    </tr>\n",
       "    <tr>\n",
       "      <th>289</th>\n",
       "      <td>864</td>\n",
       "      <td>0.0</td>\n",
       "      <td>3</td>\n",
       "      <td>Sage, Miss. Dorothy Edith \"Dolly\"</td>\n",
       "      <td>female</td>\n",
       "      <td>NaN</td>\n",
       "      <td>8</td>\n",
       "      <td>2</td>\n",
       "      <td>CA. 2343</td>\n",
       "      <td>69.55</td>\n",
       "      <td>NaN</td>\n",
       "      <td>S</td>\n",
       "      <td>2343</td>\n",
       "      <td>CA.</td>\n",
       "      <td>0.0</td>\n",
       "    </tr>\n",
       "    <tr>\n",
       "      <th>290</th>\n",
       "      <td>1080</td>\n",
       "      <td>NaN</td>\n",
       "      <td>3</td>\n",
       "      <td>Sage, Miss. Ada</td>\n",
       "      <td>female</td>\n",
       "      <td>NaN</td>\n",
       "      <td>8</td>\n",
       "      <td>2</td>\n",
       "      <td>CA. 2343</td>\n",
       "      <td>69.55</td>\n",
       "      <td>NaN</td>\n",
       "      <td>S</td>\n",
       "      <td>2343</td>\n",
       "      <td>CA.</td>\n",
       "      <td>0.0</td>\n",
       "    </tr>\n",
       "    <tr>\n",
       "      <th>291</th>\n",
       "      <td>1234</td>\n",
       "      <td>NaN</td>\n",
       "      <td>3</td>\n",
       "      <td>Sage, Mr. John George</td>\n",
       "      <td>male</td>\n",
       "      <td>NaN</td>\n",
       "      <td>1</td>\n",
       "      <td>9</td>\n",
       "      <td>CA. 2343</td>\n",
       "      <td>69.55</td>\n",
       "      <td>NaN</td>\n",
       "      <td>S</td>\n",
       "      <td>2343</td>\n",
       "      <td>CA.</td>\n",
       "      <td>0.0</td>\n",
       "    </tr>\n",
       "    <tr>\n",
       "      <th>292</th>\n",
       "      <td>1252</td>\n",
       "      <td>NaN</td>\n",
       "      <td>3</td>\n",
       "      <td>Sage, Master. William Henry</td>\n",
       "      <td>male</td>\n",
       "      <td>14.5</td>\n",
       "      <td>8</td>\n",
       "      <td>2</td>\n",
       "      <td>CA. 2343</td>\n",
       "      <td>69.55</td>\n",
       "      <td>NaN</td>\n",
       "      <td>S</td>\n",
       "      <td>2343</td>\n",
       "      <td>CA.</td>\n",
       "      <td>0.0</td>\n",
       "    </tr>\n",
       "    <tr>\n",
       "      <th>293</th>\n",
       "      <td>1257</td>\n",
       "      <td>NaN</td>\n",
       "      <td>3</td>\n",
       "      <td>Sage, Mrs. John (Annie Bullen)</td>\n",
       "      <td>female</td>\n",
       "      <td>NaN</td>\n",
       "      <td>1</td>\n",
       "      <td>9</td>\n",
       "      <td>CA. 2343</td>\n",
       "      <td>69.55</td>\n",
       "      <td>NaN</td>\n",
       "      <td>S</td>\n",
       "      <td>2343</td>\n",
       "      <td>CA.</td>\n",
       "      <td>0.0</td>\n",
       "    </tr>\n",
       "  </tbody>\n",
       "</table>\n",
       "</div>"
      ],
      "text/plain": [
       "     PassengerId  Survived  Pclass                               Name     Sex  \\\n",
       "283          160       0.0       3         Sage, Master. Thomas Henry    male   \n",
       "284          181       0.0       3       Sage, Miss. Constance Gladys  female   \n",
       "285          202       0.0       3                Sage, Mr. Frederick    male   \n",
       "286          325       0.0       3           Sage, Mr. George John Jr    male   \n",
       "287          793       0.0       3            Sage, Miss. Stella Anna  female   \n",
       "288          847       0.0       3           Sage, Mr. Douglas Bullen    male   \n",
       "289          864       0.0       3  Sage, Miss. Dorothy Edith \"Dolly\"  female   \n",
       "290         1080       NaN       3                    Sage, Miss. Ada  female   \n",
       "291         1234       NaN       3              Sage, Mr. John George    male   \n",
       "292         1252       NaN       3        Sage, Master. William Henry    male   \n",
       "293         1257       NaN       3     Sage, Mrs. John (Annie Bullen)  female   \n",
       "\n",
       "      Age  SibSp  Parch    Ticket   Fare Cabin Embarked  Ticket_num  \\\n",
       "283   NaN      8      2  CA. 2343  69.55   NaN        S        2343   \n",
       "284   NaN      8      2  CA. 2343  69.55   NaN        S        2343   \n",
       "285   NaN      8      2  CA. 2343  69.55   NaN        S        2343   \n",
       "286   NaN      8      2  CA. 2343  69.55   NaN        S        2343   \n",
       "287   NaN      8      2  CA. 2343  69.55   NaN        S        2343   \n",
       "288   NaN      8      2  CA. 2343  69.55   NaN        S        2343   \n",
       "289   NaN      8      2  CA. 2343  69.55   NaN        S        2343   \n",
       "290   NaN      8      2  CA. 2343  69.55   NaN        S        2343   \n",
       "291   NaN      1      9  CA. 2343  69.55   NaN        S        2343   \n",
       "292  14.5      8      2  CA. 2343  69.55   NaN        S        2343   \n",
       "293   NaN      1      9  CA. 2343  69.55   NaN        S        2343   \n",
       "\n",
       "    Ticket_alp  TeamSurvivalRate  \n",
       "283        CA.               0.0  \n",
       "284        CA.               0.0  \n",
       "285        CA.               0.0  \n",
       "286        CA.               0.0  \n",
       "287        CA.               0.0  \n",
       "288        CA.               0.0  \n",
       "289        CA.               0.0  \n",
       "290        CA.               0.0  \n",
       "291        CA.               0.0  \n",
       "292        CA.               0.0  \n",
       "293        CA.               0.0  "
      ]
     },
     "execution_count": 63,
     "metadata": {},
     "output_type": "execute_result"
    }
   ],
   "source": [
    "df_all.loc[df_all['Ticket'] == 'CA. 2343',:]"
   ]
  },
  {
   "cell_type": "code",
   "execution_count": 64,
   "metadata": {
    "lines_to_next_cell": 1
   },
   "outputs": [
    {
     "data": {
      "text/plain": [
       "array(['347082', '3101295', 'CA 2144', '347088', '1601', 'CA. 2343'],\n",
       "      dtype=object)"
      ]
     },
     "execution_count": 64,
     "metadata": {},
     "output_type": "execute_result"
    }
   ],
   "source": [
    "# If use it rather than `pd.size()` to count group size on Survived feature, \n",
    "# the resulting group size is not correct.\n",
    "df_all.loc[df_all.groupby('Ticket')['Survived'].transform('count') > 5, :]['Ticket'].unique()"
   ]
  },
  {
   "cell_type": "markdown",
   "metadata": {},
   "source": [
    "Trave group varies in size. I create a feature `TeamSize` to count the total number of people in a group of the same ticket comibnation. For the estimate of family size, it is pretty straightforward to account for the entry itself in addition to the number of its siblings, parents and childrens."
   ]
  },
  {
   "cell_type": "code",
   "execution_count": 65,
   "metadata": {},
   "outputs": [],
   "source": [
    "df_all['TeamSize'] = df_all.groupby('Ticket')['Survived'].transform(lambda x: x.shape[0]) # ~ x.size"
   ]
  },
  {
   "cell_type": "code",
   "execution_count": 66,
   "metadata": {},
   "outputs": [],
   "source": [
    "# The correct size of a family\n",
    "df_all['FamilySize'] = df_all['SibSp'] + df_all['Parch'] + 1"
   ]
  },
  {
   "cell_type": "markdown",
   "metadata": {},
   "source": [
    "More than $76\\%$ of travel groups are composed of one person only. "
   ]
  },
  {
   "cell_type": "code",
   "execution_count": 67,
   "metadata": {},
   "outputs": [
    {
     "data": {
      "text/html": [
       "<div>\n",
       "<style scoped>\n",
       "    .dataframe tbody tr th:only-of-type {\n",
       "        vertical-align: middle;\n",
       "    }\n",
       "\n",
       "    .dataframe tbody tr th {\n",
       "        vertical-align: top;\n",
       "    }\n",
       "\n",
       "    .dataframe thead th {\n",
       "        text-align: right;\n",
       "    }\n",
       "</style>\n",
       "<table border=\"1\" class=\"dataframe\">\n",
       "  <thead>\n",
       "    <tr style=\"text-align: right;\">\n",
       "      <th>Group Size</th>\n",
       "      <th>1</th>\n",
       "      <th>2</th>\n",
       "      <th>3</th>\n",
       "      <th>4</th>\n",
       "      <th>5</th>\n",
       "      <th>7</th>\n",
       "      <th>6</th>\n",
       "      <th>8</th>\n",
       "      <th>11</th>\n",
       "    </tr>\n",
       "  </thead>\n",
       "  <tbody>\n",
       "    <tr>\n",
       "      <th>Percentage</th>\n",
       "      <td>76.749193</td>\n",
       "      <td>14.208827</td>\n",
       "      <td>5.274489</td>\n",
       "      <td>1.722282</td>\n",
       "      <td>0.753498</td>\n",
       "      <td>0.538213</td>\n",
       "      <td>0.430571</td>\n",
       "      <td>0.215285</td>\n",
       "      <td>0.107643</td>\n",
       "    </tr>\n",
       "  </tbody>\n",
       "</table>\n",
       "</div>"
      ],
      "text/plain": [
       "Group Size         1          2         3         4         5         7   \\\n",
       "Percentage  76.749193  14.208827  5.274489  1.722282  0.753498  0.538213   \n",
       "\n",
       "Group Size        6         8         11  \n",
       "Percentage  0.430571  0.215285  0.107643  "
      ]
     },
     "execution_count": 67,
     "metadata": {},
     "output_type": "execute_result"
    }
   ],
   "source": [
    "# To have a sense of the distribution of TeamSize\n",
    "g = df_all.groupby(['Ticket']).first()['TeamSize'].value_counts()\n",
    "ans = g / g.sum() * 100 # convert to percentrage\n",
    "# Tabularize\n",
    "ans.index = ans.index.astype(int)\n",
    "ans.index.name = 'Group Size'\n",
    "pd.DataFrame(ans).rename(columns={'TeamSize': 'Percentage'}).T"
   ]
  },
  {
   "cell_type": "markdown",
   "metadata": {},
   "source": [
    "The following code shows that team size might be a useful predictor for survival rates."
   ]
  },
  {
   "cell_type": "code",
   "execution_count": 68,
   "metadata": {},
   "outputs": [
    {
     "data": {
      "text/plain": [
       "TeamSize\n",
       "1.0     27.027027\n",
       "2.0     50.847458\n",
       "3.0     65.248227\n",
       "4.0     68.750000\n",
       "5.0     39.285714\n",
       "6.0     25.000000\n",
       "7.0     35.000000\n",
       "8.0     35.714286\n",
       "11.0     0.000000\n",
       "Name: TeamSurvivalRate, dtype: float64"
      ]
     },
     "execution_count": 68,
     "metadata": {},
     "output_type": "execute_result"
    }
   ],
   "source": [
    "df_all.groupby(['TeamSize','Ticket'])['TeamSurvivalRate'].mean().groupby(level=0).mean()"
   ]
  },
  {
   "cell_type": "code",
   "execution_count": 69,
   "metadata": {
    "lines_to_next_cell": 1
   },
   "outputs": [
    {
     "data": {
      "text/plain": [
       "Pclass  TeamSize\n",
       "1       1.0          44.444444\n",
       "        2.0          65.217391\n",
       "        3.0          76.666667\n",
       "        4.0          80.208333\n",
       "        5.0          58.333333\n",
       "        6.0          50.000000\n",
       "        7.0         100.000000\n",
       "2       1.0          38.202247\n",
       "        2.0          51.515152\n",
       "        3.0          72.222222\n",
       "        4.0          70.833333\n",
       "        5.0         100.000000\n",
       "        7.0           0.000000\n",
       "3       1.0          20.000000\n",
       "        2.0          33.333333\n",
       "        3.0          52.500000\n",
       "        4.0          43.750000\n",
       "        5.0           0.000000\n",
       "        6.0           0.000000\n",
       "        7.0          25.000000\n",
       "        8.0          35.714286\n",
       "        11.0          0.000000\n",
       "Name: TeamSurvivalRate, dtype: float64"
      ]
     },
     "execution_count": 69,
     "metadata": {},
     "output_type": "execute_result"
    }
   ],
   "source": [
    "df_all.groupby(['Pclass', 'TeamSize'])['TeamSurvivalRate'].mean()"
   ]
  },
  {
   "cell_type": "markdown",
   "metadata": {},
   "source": [
    "Based on the estimated group survival rate, regardless of passenger class, the top three groups tend to include groups of size four and three."
   ]
  },
  {
   "cell_type": "code",
   "execution_count": 70,
   "metadata": {
    "lines_to_next_cell": 1
   },
   "outputs": [
    {
     "name": "stdout",
     "output_type": "stream",
     "text": [
      "    Pclass  TeamSize  TeamSurvivalRate\n",
      "0        1       1.0         44.444444\n",
      "5        1       6.0         50.000000\n",
      "4        1       5.0         58.333333\n",
      "1        1       2.0         65.217391\n",
      "2        1       3.0         76.666667\n",
      "3        1       4.0         80.208333\n",
      "6        1       7.0        100.000000\n",
      "12       2       7.0          0.000000\n",
      "7        2       1.0         38.202247\n",
      "8        2       2.0         51.515152\n",
      "10       2       4.0         70.833333\n",
      "9        2       3.0         72.222222\n",
      "11       2       5.0        100.000000\n",
      "17       3       5.0          0.000000\n",
      "18       3       6.0          0.000000\n",
      "21       3      11.0          0.000000\n",
      "13       3       1.0         20.000000\n",
      "19       3       7.0         25.000000\n",
      "14       3       2.0         33.333333\n",
      "20       3       8.0         35.714286\n",
      "16       3       4.0         43.750000\n",
      "15       3       3.0         52.500000\n"
     ]
    }
   ],
   "source": [
    "# This code results in the sorting of Teamsize within passenger class by team survival rate.\n",
    "print(df_all.groupby(['Pclass', 'TeamSize'])['TeamSurvivalRate'].mean(). \\\n",
    "    reset_index().sort_values(by=['Pclass','TeamSurvivalRate']))"
   ]
  },
  {
   "cell_type": "code",
   "execution_count": 71,
   "metadata": {},
   "outputs": [
    {
     "name": "stdout",
     "output_type": "stream",
     "text": [
      "    Pclass  TeamSize  TeamSurvivalRate\n",
      "2        1       3.0         76.666667\n",
      "3        1       4.0         80.208333\n",
      "6        1       7.0        100.000000\n",
      "10       2       4.0         70.833333\n",
      "9        2       3.0         72.222222\n",
      "11       2       5.0        100.000000\n",
      "20       3       8.0         35.714286\n",
      "16       3       4.0         43.750000\n",
      "15       3       3.0         52.500000\n"
     ]
    }
   ],
   "source": [
    "# We can further obtain the class-wise top three groups in terms of team survival rate.\n",
    "# Just append \"groupby(['Pclass']).tail(3)\".\n",
    "print(df_all.groupby(['Pclass', 'TeamSize'])['TeamSurvivalRate'].mean(). \\\n",
    "    reset_index().sort_values(by=['Pclass','TeamSurvivalRate']).groupby(['Pclass']).tail(3))"
   ]
  },
  {
   "cell_type": "markdown",
   "metadata": {},
   "source": [
    "#### Credibility of group survival rate\n",
    "The credibility of a group survival rate is measured in terms of the proportion of valid `Survived` feature. I will use it as a weight to adjust the `TeamSurvivalRate` feature."
   ]
  },
  {
   "cell_type": "code",
   "execution_count": 72,
   "metadata": {},
   "outputs": [],
   "source": [
    "def getCredibilitySurvivalRate(df):\n",
    "    # Use `size` or `shape[0]` to get the full length of a series\n",
    "    # When summing over cells of {0,1,NaN}, \n",
    "    # regardless of the use of `pd.notnull()`, the outcome is identical.\n",
    "    df['SRcredibility'] = pd.notnull(df['Survived']).sum() / df['Survived'].size \n",
    "    return df\n",
    "\n",
    "df_all = df_all.groupby('Ticket').apply(getCredibilitySurvivalRate)"
   ]
  },
  {
   "cell_type": "markdown",
   "metadata": {},
   "source": [
    "#### Type of family roles\n",
    "For flexibility in tuning hyper parameters like the age threshold for the definition of a child, I introduce the `cutoff` argument for the maximum child age and set the default cutoff age to 7. Then I do something like a grid search on the integer interval $[1, 29]$ to see the impact of the cutoff age configuratio on the estimate of survival rates by gender."
   ]
  },
  {
   "cell_type": "code",
   "execution_count": 73,
   "metadata": {},
   "outputs": [],
   "source": [
    "def getRole(df, cutoff=7):\n",
    "    df['Role'] = 'Man'\n",
    "    df.loc[df['Sex'] == 'female', 'Role'] = 'Woman'\n",
    "    df.loc[df['Age'] <= cutoff, 'Role'] = 'Child'\n",
    "    return df\n",
    "\n",
    "ans = []\n",
    "ages = range(1, 30)\n",
    "for cut in ages:\n",
    "    getRole(df_all, cutoff=cut)\n",
    "    g = df_all.groupby(['Role'])\n",
    "    # [1] I covert the resulting Pandas series to a data frame object and then append\n",
    "    # it to the `ans` list object so that I can concatenate them in one step. later.\n",
    "    ans.append((g['Survived'].sum() / g['Survived'].count()).to_frame())"
   ]
  },
  {
   "cell_type": "code",
   "execution_count": 74,
   "metadata": {},
   "outputs": [],
   "source": [
    "# [2] To concatnate the data frames stored in the `ans` list object.\n",
    "temp = pd.concat(ans, axis=1)  # 3 by N (=len(ages))\n",
    "# [3] convert 3 by N table to N by 3 table\n",
    "tb1 = pd.DataFrame(np.array(temp).T,\n",
    "                   columns=['Child', 'Man', 'Woman'], index=ages)  # N by 3\n",
    "tb1.index.name = 'Age'\n",
    "# [4] melt the table tb1 for drawing a line plot\n",
    "tb1.reset_index(inplace=True)  # prep for melt\n",
    "tb2 = pd.melt(tb1, id_vars=['Age'], value_vars=['Child', 'Man', 'Woman'],\n",
    "              var_name='Role', value_name='Survival')"
   ]
  },
  {
   "cell_type": "markdown",
   "metadata": {},
   "source": [
    "Here I'm going to use seaborn facetGrid for drawing the line plot ([searborn.FaceGrid](https://seaborn.pydata.org/generated/seaborn.FacetGrid.html) document)."
   ]
  },
  {
   "cell_type": "code",
   "execution_count": 75,
   "metadata": {},
   "outputs": [
    {
     "data": {
      "image/png": "[encoded data removed]",
      "text/plain": [
       "<Figure size 648x216 with 3 Axes>"
      ]
     },
     "metadata": {},
     "output_type": "display_data"
    }
   ],
   "source": [
    "# [5] FacetGrid and mapping plot functions to each grid\n",
    "g = sns.FacetGrid(tb2, col='Role', margin_titles=True)\n",
    "g = g.map(plt.plot, 'Age', 'Survival')\n",
    "\n",
    "# add vertical line\n",
    "axes = g.fig.axes\n",
    "for ax in axes:\n",
    "    ax.vlines(x=15, ymax=1, ymin=0, linestyles='dashed', alpha=0.3, colors='blue')\n",
    "plt.show()"
   ]
  },
  {
   "cell_type": "markdown",
   "metadata": {},
   "source": [
    "The child survival rate is trending downward as the maximum age of children is lowered. I want to maximize the number of children with the constraint to maintain the child survival rate at least $60\\%$, so I set the hyper parameter of child age to 15."
   ]
  },
  {
   "cell_type": "code",
   "execution_count": 76,
   "metadata": {},
   "outputs": [],
   "source": [
    "getRole(df_all, cutoff=15);"
   ]
  },
  {
   "cell_type": "markdown",
   "metadata": {},
   "source": [
    "#### Adults traveling with children"
   ]
  },
  {
   "cell_type": "code",
   "execution_count": 78,
   "metadata": {},
   "outputs": [],
   "source": [
    "# Use this as an example: df_all.loc[df_all['Ticket_num']==17608,:]\n",
    "# Step 1. Create a new column for the number of siblings of a child.\n",
    "df_all['childSibSp'] = np.where(df_all['Role'] == 'Child', df_all['SibSp'], 0)"
   ]
  },
  {
   "cell_type": "code",
   "execution_count": 91,
   "metadata": {},
   "outputs": [
    {
     "data": {
      "text/plain": [
       "1    37\n",
       "Name: childSibSp, dtype: int64"
      ]
     },
     "execution_count": 91,
     "metadata": {},
     "output_type": "execute_result"
    }
   ],
   "source": [
    "# Step 2. Is the childSibSp value unique within a travel group? Answer: Yes\n",
    "logic = df_all['childSibSp']>0 # screen out parents (whose SibSp is at least one) \n",
    "df_all.loc[logic,:].groupby('Ticket')['childSibSp'].nunique().value_counts()"
   ]
  },
  {
   "cell_type": "markdown",
   "metadata": {},
   "source": [
    "So, We can use childSibSp to identify siblings of a child."
   ]
  },
  {
   "cell_type": "markdown",
   "metadata": {},
   "source": [
    "stop here! ---------------------------------------------"
   ]
  },
  {
   "cell_type": "code",
   "execution_count": null,
   "metadata": {},
   "outputs": [],
   "source": [
    "# Step 3. Broadcasting: in a group, let every entry can see the shared 'childSibSp' value.\n",
    "df_all['childSibSp'] = df_all.groupby('Ticket')['childSibSp'].transform('max')\n",
    "# 'cz otherwise it's 0 by default."
   ]
  },
  {
   "cell_type": "code",
   "execution_count": null,
   "metadata": {},
   "outputs": [],
   "source": [
    "# Step 4. If an example's SibSp equals to the shared value, the example must\n",
    "# from a elder child of age greater than the age limit for the child definition.\n",
    "logic = (df_all['SibSp'] != 0) & \\\n",
    "        (df_all['SibSp'] == df_all['childSibSp']) &\\\n",
    "        (df_all['Role'] != 'Child')\n",
    "df_all.loc[logic, 'Role'] = 'olderChild'"
   ]
  },
  {
   "cell_type": "code",
   "execution_count": null,
   "metadata": {
    "lines_to_next_cell": 1
   },
   "outputs": [],
   "source": [
    "# todo: who is the female household head and/or the male household head?\n",
    "# Step 1. Identify the FamilySize value of the youngest child in each travel team.\n",
    "df_all['childFamilySize'] = np.where(df_all['Role'].isin(['Child', 'olderChild']),\n",
    "                                     df_all['FamilySize'], 0)\n",
    "# Step 2. Broadcasting the FamilySize value of the youngest child to\n",
    "# other members in the same travel team\n",
    "df_all['childFamilySize'] = df_all.groupby('Ticket')['childFamilySize'].transform('max')"
   ]
  },
  {
   "cell_type": "code",
   "execution_count": null,
   "metadata": {
    "lines_to_next_cell": 1
   },
   "outputs": [],
   "source": [
    "# Step 3. identy people who are parents\n",
    "def isMotherOrFather(s):\n",
    "    return 'Father' if s == 'Man' else 'Mother'"
   ]
  },
  {
   "cell_type": "code",
   "execution_count": null,
   "metadata": {},
   "outputs": [],
   "source": [
    "slice_logic = ((df_all['FamilySize'] == df_all['childFamilySize']) & \\\n",
    "               (~df_all['Role'].isin(['Child', 'olderChild'])) & \\\n",
    "               (df_all['FamilySize'] > 0))\n",
    "# a trick to obtain the index of valid examples after logical operations\n",
    "slice_index = df_all.loc[slice_logic, :].index\n",
    "df_all.loc[slice_index, 'Role'] = \\\n",
    "    df_all.loc[slice_logic, :]['Role'].apply(isMotherOrFather)"
   ]
  },
  {
   "cell_type": "code",
   "execution_count": null,
   "metadata": {},
   "outputs": [],
   "source": [
    "df_all['ChildWAdult'] = 'Not Applicable'\n",
    "logic = (df_all['Role'].isin(['Child', 'olderChild']))\n",
    "df_all.loc[logic, 'ChildWAdult'] = np.where(\n",
    "    df_all.loc[logic, 'FamilySize'] > df_all.loc[logic, 'childSibSp'] + 1,\n",
    "    'Yes',\n",
    "    'No'\n",
    ")"
   ]
  },
  {
   "cell_type": "markdown",
   "metadata": {},
   "source": [
    "#### Number of children per travel group"
   ]
  },
  {
   "cell_type": "code",
   "execution_count": null,
   "metadata": {},
   "outputs": [],
   "source": [
    "# todo: How many children in this group?\n",
    "#Method 1.\n",
    "df_all['NumChild'] = df_all.groupby('Ticket')['Role'].\\\n",
    "    transform(lambda x: x.isin(['Child', 'olderChild']).sum())\n",
    "df_all['NumYoungChild'] = df_all.groupby('Ticket')['Role'].\\\n",
    "    transform(lambda x: x.isin(['Child']).sum())"
   ]
  },
  {
   "cell_type": "code",
   "execution_count": null,
   "metadata": {},
   "outputs": [],
   "source": [
    "\"\"\"\n",
    "#Method 2.\n",
    "numChildDict = df_all.groupby('Ticket')['Age']\\\n",
    "    .apply(lambda x: (x <= cutoffChildAge).sum()).reset_index(name='NumChild')\n",
    "df_all.join(numChildDict, on='Ticket')\n",
    "\"\"\""
   ]
  },
  {
   "cell_type": "code",
   "execution_count": null,
   "metadata": {},
   "outputs": [],
   "source": [
    "# Although the survival rate by number of child varies, the highest survival rate\n",
    "# falls in family of three children and it holds across classes.\n",
    "print(df_all.groupby(['Pclass', 'NumChild'])['Survived'].mean())\n",
    "# So, number of children should be another good predictor;\n",
    "# In passenger classes 1 and 2, families with three children have higher\n",
    "# estimated survival rates."
   ]
  },
  {
   "cell_type": "markdown",
   "metadata": {},
   "source": [
    "todo: travel with dad, mom, or both? Is with mother better than with father? NO."
   ]
  },
  {
   "cell_type": "markdown",
   "metadata": {},
   "source": [
    "This works\n",
    "Note: if you move ['Role'] inside transform's lambda function, it fails.\n",
    "Below I compare two different approaches for completing similar logical\n",
    "operation tasks."
   ]
  },
  {
   "cell_type": "code",
   "execution_count": null,
   "metadata": {},
   "outputs": [],
   "source": [
    "# 1. The usual method for broadcasting simple logical operations.\n",
    "df_all['hasMother'] = df_all.groupby('Ticket')['Role'].\\\n",
    "    transform(lambda x: (x == 'Mother').sum() > 0)\n",
    "df_all['hasFather'] = df_all.groupby('Ticket')['Role'].\\\n",
    "    transform(lambda x: (x == 'Father').sum() > 0)\n",
    "df_all['hasBothParents'] = np.where(\n",
    "    df_all['hasMother'] & df_all['hasFather'],\n",
    "    True,\n",
    "    False\n",
    ")"
   ]
  },
  {
   "cell_type": "code",
   "execution_count": null,
   "metadata": {},
   "outputs": [],
   "source": [
    "# 2. Advanced Method: more complicated logical operations\n",
    "logics = [(df_all['hasFather'] & ~df_all['hasMother'], 'with Father'),\n",
    "          (df_all['hasFather'] & df_all['hasMother'], 'with Both'),\n",
    "          (~df_all['hasFather'] & df_all['hasMother'], 'with Mother'),\n",
    "          (~df_all['hasFather'] & ~df_all['hasMother'], 'without Parents')]\n",
    "for logic, s in logics:\n",
    "    ans = df_all.loc[df_all['Age'] <= 10, :].loc[logic, :].\\\n",
    "        groupby('Ticket')['Survived'].mean().mean()\n",
    "    print(f\"{s:>15} {ans: .2f}\")"
   ]
  },
  {
   "cell_type": "code",
   "execution_count": null,
   "metadata": {},
   "outputs": [],
   "source": [
    "\"\"\"\n",
    "# Sanity check for only father groups\n",
    "index = df_all.loc[df_all['hasFather'],:].index\n",
    "df_all.loc[index,:].groupby('Ticket_num').groups.keys()\n",
    "df_all.loc[df_all['Ticket_num']==2079,:]\n",
    "\"\"\""
   ]
  },
  {
   "cell_type": "code",
   "execution_count": null,
   "metadata": {},
   "outputs": [],
   "source": [
    "\"\"\"\n",
    "# See this link: https://medium.com/@ODSC/creating-if-elseif-else-variables-in-python-pandas-7900f512f0e4\n",
    "\n",
    "#Method 1. Not exactly what I want; it only identify the entry of mother, but\n",
    "#I want the result to be broadcasted to everyone in the same group.\n",
    "role = 'Mother'\n",
    "#Step 1. Identify a mother's life status\n",
    "conditions = [(df_all['Role'] != role), # 'Not applicable'\n",
    "              (df_all['Survived'].isnull()), # 'Unknown'\n",
    "              (df_all['Survived'] == 1.0), # 'Yes'\n",
    "              (df_all['Survived'] == 0.0) # 'No'\n",
    "              ]\n",
    "choices = ['Not applicable', 'Unknown', 'Yes', 'No']\n",
    "df_all['isMotherSurvived'] = np.select(conditions, choices)\n",
    "len(df_all[df_all['Role']=='Mother']['isMotherSurvived'].values) # 44 mothers on board\n",
    "\n",
    "#Step 2. \"Braodcast\" the group-specific result to other group members\n",
    "#Method 1. Use map + dictionary\n",
    "index = df_all[df_all['Role']=='Mother']['Ticket_num'] # step 1-1. get the index\n",
    "ss = pd.Series(df_all[df_all['Role']=='Mother']['isMotherSurvived'].values, index=index) # step 1-2. get the value\n",
    "df_all['isMotherSurvived'] = df_all['Ticket_num'].map(ss.to_dict()).fillna('not applicable') # step 1-3. use dictionary to update the rest\n",
    "\n",
    "#Method 2.\n",
    "#https://stackoverflow.com/questions/56708924/broadcast-value-to-dataframe-group-by-condition\n",
    "df_all['test3'] = df_all['isMotherSurvived'].where(df_all['Role'].eq('Mother'))\\\n",
    "    .groupby(df_all['Ticket_num']).transform('first').fillna('not applicable')\n",
    "\"\"\""
   ]
  },
  {
   "cell_type": "markdown",
   "metadata": {},
   "source": [
    "The compact version based on the preceding uncommented methods 1 and 2.\n",
    "So, we can do it automatically based on the experimental code block above."
   ]
  },
  {
   "cell_type": "code",
   "execution_count": null,
   "metadata": {
    "lines_to_next_cell": 1
   },
   "outputs": [],
   "source": [
    "role = 'Mother'\n",
    "def isSurvived(df_all, role='Mother'):\n",
    "    # Step 1. Identify a mother's life status\n",
    "    conditions = [(df_all['Role'] != role),  # 'Not applicable'\n",
    "                  (df_all['Survived'].isnull()),  # 'Unknown'\n",
    "                  (df_all['Survived'] == 1.0),  # 'Yes'\n",
    "                  (df_all['Survived'] == 0.0)  # 'No'\n",
    "                  ]\n",
    "    choices = ['Not applicable', 'Unknown', 'Yes', 'No']\n",
    "    s = 'is' + role + 'Survived'\n",
    "    df_all[s] = np.select(conditions, choices)\n",
    "    df_all[s] = df_all[s].where(df_all['Role'].eq(role)) \\\n",
    "        .groupby(df_all['Ticket_num']).transform('first').fillna('not applicable')\n",
    "    return df_all"
   ]
  },
  {
   "cell_type": "code",
   "execution_count": null,
   "metadata": {
    "lines_to_next_cell": 1
   },
   "outputs": [],
   "source": [
    "roles = ['Mother', 'Father']\n",
    "for role in roles:\n",
    "    isSurvived(df_all, role=role)"
   ]
  },
  {
   "cell_type": "markdown",
   "metadata": {},
   "source": [
    "todo: get the prefix of Cabin feature."
   ]
  },
  {
   "cell_type": "code",
   "execution_count": null,
   "metadata": {
    "lines_to_next_cell": 1
   },
   "outputs": [],
   "source": [
    "def getCabinPrefix(df):\n",
    "    # 'M' is assigned to missing values\n",
    "    df['Deck'] = df['Cabin'].apply(lambda s: s[0] if pd.notnull(s) else 'M')\n",
    "    return df"
   ]
  },
  {
   "cell_type": "code",
   "execution_count": null,
   "metadata": {
    "lines_to_next_cell": 1
   },
   "outputs": [],
   "source": [
    "getCabinPrefix(df_all)\n",
    "df_all['Deck'].unique()"
   ]
  },
  {
   "cell_type": "code",
   "execution_count": null,
   "metadata": {
    "lines_to_next_cell": 1
   },
   "outputs": [],
   "source": [
    "\"\"\"\n",
    "# def imputeCabinePrefix(df_all):\n",
    "df_all['Deck'].value_counts()\n",
    "\n",
    "# Check to see if the 2nd half of the combined table are all NaN Survived data\n",
    "# (1) iloc works with slicing that includes right endpoint.\n",
    "# (2) iloc works with index only, so even though I need 'Survived, I use it separately.\n",
    "# (3) isnull() to see if there is any missing value\n",
    "df_all.iloc[df_train.shape[0]:, ]['Survived'].isnull().all()\n",
    "\n",
    "# Cabin numbers have clusters\n",
    "df_all['Cabin'].value_counts()\n",
    "# For example, 'B57 B59 B63 B66' corresponds to five persons\n",
    "# in the Ryerson family. People in the same cabin share the same\n",
    "# Ticket_alp and Ticket_num. These three variables should be highly\n",
    "# correlated.\n",
    "df_all.loc[df_all['Cabin'] == 'B57 B59 B63 B66']\n",
    "# 'B57 B59 B63 B66' maps to Ticket_alp = 'PC', which is a much larger group.\n",
    "df_all.loc[df_all['Ticket_alp'] == 'PC']['Survived'].sum()\n",
    "\n",
    "# We may check later whether each group can be identified or associated with higher servival rate\n",
    "# We may also check to see if couples have higher survival rates\n",
    "# Check Family Ryerson. The number of SibSp and Parch might have more information.\n",
    "\"\"\""
   ]
  },
  {
   "cell_type": "markdown",
   "metadata": {},
   "source": [
    "todo: extract names and titles"
   ]
  },
  {
   "cell_type": "code",
   "execution_count": null,
   "metadata": {
    "lines_to_next_cell": 1
   },
   "outputs": [],
   "source": [
    "def getLastNameAndTitle(df):\n",
    "    # (1) https://docs.python.org/2/library/re.html\n",
    "    # (2) Why this patterns works? See the [reason](https://shorturl.at/uAEM8).\n",
    "    # (3) This pattern works as well r'^([^,]*)'\n",
    "    # See the reference [link](https://shorturl.at/dwJMS)\n",
    "    df['LastName'] = df['Name'].str.extract(r'^(.+?),')\n",
    "    df['Title'] = df['Name'].str.split(', ', expand=True)[1].\\\n",
    "        str.split('.', expand=True)[0]\n",
    "    return df"
   ]
  },
  {
   "cell_type": "code",
   "execution_count": null,
   "metadata": {},
   "outputs": [],
   "source": [
    "getLastNameAndTitle(df_all)"
   ]
  },
  {
   "cell_type": "code",
   "execution_count": null,
   "metadata": {},
   "outputs": [],
   "source": [
    "\"\"\"\n",
    "cols = ['Name', 'Title', 'LastName']\n",
    "# df_all[cols] works as well\n",
    "# colon cannot be ignored in df_all.loc[:,cols]\n",
    "df_all.loc[:, cols]\n",
    "\n",
    "# finding: People with the same surname may come from different families, for example,\n",
    "# check the group of surname 'Davies' we found Ticket #48871 corresponds\n",
    "# to three young men; ticket #33112 corresponds to one women of age 48 and\n",
    "# and a child with the same surname of age 8. However, an issue is found\n",
    "# that just using LastName is not sufficient to locate people of the same\n",
    "# family. For example, the record of the woman with Ticket #33112 shows\n",
    "# she comes with her two children. By slicing with Ticket #33112, we found the\n",
    "# woman indeed has two children whose surnames are different. So, we should only\n",
    "# use Ticket_num instead of LastName to identify people traveling together.\n",
    "df_all.loc[df_all['LastName'] == 'Davies', :].sort_values(by=['Ticket_num'])\n",
    "\"\"\""
   ]
  },
  {
   "cell_type": "markdown",
   "metadata": {},
   "source": [
    "todo: sanity check: Is it possible to have two Mrs in a travelling group? NO.\n",
    "Trick#1: conditinal count after groupby\n",
    "The answer is no."
   ]
  },
  {
   "cell_type": "code",
   "execution_count": null,
   "metadata": {},
   "outputs": [],
   "source": [
    "df_all.groupby('Ticket')['Ticket'].\\\n",
    "    apply(lambda x: (x == 'Mrs').sum()).reset_index(name='MrsCount')"
   ]
  },
  {
   "cell_type": "code",
   "execution_count": null,
   "metadata": {},
   "outputs": [],
   "source": [
    "\"\"\"\n",
    "# Example of displaying group results\n",
    "gs = df_all.groupby('Ticket_num')\n",
    "print(gs.indices)  # dict\n",
    "\n",
    "# Method 1. Peek the grouped data by sampling; so only part of the data\n",
    "# grouped.groups.keys()\n",
    "# grouped.groups.items()\n",
    "# grouped.get_group(gpkey)\n",
    "import random\n",
    "sampled_group_key = random.sample(gs.groups.keys(), 100)\n",
    "group_list = list(map(lambda gpkey: gs.get_group(gpkey), sampled_group_key))\n",
    "for i, g in enumerate(group_list):\n",
    "    if len(g) > 3:\n",
    "        print(g)\n",
    "        break\n",
    "\n",
    "# Method 2. scan through the groups\n",
    "for i, g in gs.groups.items():\n",
    "    if len(g) > 4:\n",
    "        print(gs.get_group(i))\n",
    "        break\n",
    "        \n",
    "# We found: the record of the Christy indicates there are two children but only one shown.\n",
    "df_all.loc[df_all['LastName'] == 'Christy', :]        \n",
    "\n",
    "\n",
    "#Broadcasting\n",
    "#Identify travelling groups with children among which who are parents?\n",
    "# \n",
    "def addMaxParchMinSibSp(grp):\n",
    "    return pd.Series(\n",
    "        [grp['Parch'].max(), grp['SibSp'].min()],\n",
    "        ['maxParch', 'minSibSp']\n",
    "    )\n",
    "# JOIN versue MERGE [link](https://pandas.pydata.org/pandas-docs/stable/user_guide/merging.html)\n",
    "df_all = df_all.join(df_all.groupby('Ticket_num').apply(addMaxParchMinSibSp), on='Ticket_num')\n",
    "\"\"\""
   ]
  },
  {
   "cell_type": "code",
   "execution_count": null,
   "metadata": {},
   "outputs": [],
   "source": [
    "\"\"\"\n",
    "# LOGICAL OPERATIONS -----------------------------------------------------------\n",
    "\n",
    "# Method 1. dataframe.where()\n",
    "# df_all['isMother'] = False\n",
    "# df_all['isMother'] = df_all['isMother'].\\\n",
    "    where((df_all['Title'] != 'Mrs') | (df_all['hasMaster'] != True), True)\n",
    "\n",
    "# Method 2. np.where()\n",
    "df_all['MotherWithMaster'] = np.where(\n",
    "    (df_all['Title'] == 'Mrs') & (df_all['hasMaster'] == True), \n",
    "    True, \n",
    "    False\n",
    ")\n",
    "df_all.loc[df_all['Title'] == 'Master', :][['Age', 'Survived']].mean()  # 5.48, 57%\n",
    "\n",
    "# Method 3. np.logical_and()\n",
    "def MWM(df):\n",
    "    return df.apply(lambda x: 1 if \n",
    "        np.logical_and(x['Title'] == 'Mrs', x['Sex'] == 'female') \n",
    "        else 0, axis=1)\n",
    "df_all['test'] = MWM(df_all)\n",
    "df_all.head(10)\n",
    "\n",
    "# BROADCASTING OPERATIONS -----------------------------------------------------------\n",
    "# Identify teams travelling with mother and children\n",
    "\n",
    "# Method 1. use `transform`\n",
    "\n",
    "temp1 = df_all.groupby(['Ticket'])['Title'].\\\n",
    "    transform(lambda x: x.eq('Master').any())\n",
    "temp2 = df_all.groupby(['Ticket'])['MotherWithMaster'].\\\n",
    "    transform(lambda x: x.eq(True).any())\n",
    "df_all['GroupWMomChild'] = temp1 & temp2\n",
    "\n",
    "# Method 2-A. use apply-turned `dictionary` and `map` IT WORKS!!\n",
    "\n",
    "# temp5 = df_all.groupby('Ticket').apply(\n",
    "#       lambda x: x['Title'].eq('Master').any() & x['MotherWithMaster'].eq(True).any())\n",
    "# df_all['GroupWMomChild_3'] = df_all['Ticket'].map(temp5)\n",
    "\n",
    "# Method 2-B. use apply and merge IT WORKS!!\n",
    "\n",
    "# temp3 = df_all.groupby(['Ticket']).apply(lambda x: x['Title'].eq('Master').any())\n",
    "# temp4 = df_all.groupby(['Ticket']).apply(lambda x: x['MotherWithMaster'].eq(True).any())\n",
    "# df_all.merge((temp3 & temp4).reset_index(), how='left').rename(columns={0: 'GroupWMomChild_2'})\n",
    "\"\"\""
   ]
  },
  {
   "cell_type": "code",
   "execution_count": null,
   "metadata": {},
   "outputs": [],
   "source": [
    "# todo: impute missing EMBARKED values using K nearest neighbors algorithm\n",
    "# They more likely board on the ship at port S -- Theory 1.\n",
    "df_all.loc[df_all['Embarked'].isnull(),:]"
   ]
  },
  {
   "cell_type": "code",
   "execution_count": null,
   "metadata": {},
   "outputs": [],
   "source": [
    "print(df_all.loc[df_all['Ticket_num'].between(100000, 125000)]['Embarked'].value_counts())  # S\n",
    "print(df_all.loc[df_all['Fare'].between(60, 100)]['Embarked'].value_counts())  # S"
   ]
  },
  {
   "cell_type": "code",
   "execution_count": null,
   "metadata": {},
   "outputs": [],
   "source": [
    "# It's hard to tell which port they boarded from only based on their `Pclass` and `Fare` features.\n",
    "df_all.groupby(['Pclass',pd.cut(df_all['Fare'],range(50,100,15))])['Embarked'].\\\n",
    "    apply(lambda x: x.value_counts().nlargest(3))"
   ]
  },
  {
   "cell_type": "code",
   "execution_count": null,
   "metadata": {},
   "outputs": [],
   "source": [
    "# So I decide to make use of the information contained in the ticket combination:\n",
    "# Step 1. identifying data index corresponding to valid 'Embarked' data.\n",
    "index = df_all['Embarked'].isnull()\n",
    "# We are comfortable to only use three features to predict missing value.\n",
    "_dfAll = df_all.loc[:, ['Embarked', 'Pclass', 'Ticket_alp', 'Ticket_num']].copy()"
   ]
  },
  {
   "cell_type": "code",
   "execution_count": null,
   "metadata": {},
   "outputs": [],
   "source": [
    "# Step 2. labeling and normalizing the feature matrix\n",
    "from sklearn.preprocessing import LabelEncoder, MinMaxScaler\n",
    "encoder = LabelEncoder()\n",
    "minmax_scale = MinMaxScaler(feature_range=(0,1))"
   ]
  },
  {
   "cell_type": "code",
   "execution_count": null,
   "metadata": {},
   "outputs": [],
   "source": [
    "# Step 2-A. encoding columns 'Pclass' and 'Ticket_alp'\n",
    "# https://scikit-learn.org/stable/modules/generated/sklearn.preprocessing.LabelEncoder.html\n",
    "# Note below that `fit_transform()` expects a 2D array, but encoder returns a 1D array\n",
    "# So we need to reshape it.\n",
    "for i in range(1,4):\n",
    "    temp = encoder.fit_transform(_dfAll.iloc[:,i]).reshape(-1,1)\n",
    "    _dfAll.iloc[:, i] = minmax_scale.fit_transform(temp)"
   ]
  },
  {
   "cell_type": "code",
   "execution_count": null,
   "metadata": {},
   "outputs": [],
   "source": [
    "# Our feature matrix consists of `Pclass`, `Ticket_alp`, and `Ticket_num`.\n",
    "_xtrain = _dfAll.loc[~index,_dfAll.columns[1:4]]\n",
    "_ytrain = encoder.fit_transform(_dfAll.loc[~index, 'Embarked'])"
   ]
  },
  {
   "cell_type": "code",
   "execution_count": null,
   "metadata": {},
   "outputs": [],
   "source": [
    "# Step 3. prediction with k nearest neighbors algorithm\n",
    "from sklearn.neighbors import KNeighborsClassifier\n",
    "# https://scikit-learn.org/stable/modules/generated/sklearn.neighbors.KNeighborsClassifier.html\n",
    "knc = KNeighborsClassifier(3, weights='distance')\n",
    "trained_knc = knc.fit(_xtrain, _ytrain)\n",
    "predicted_embarked_missing = trained_knc.predict(_dfAll.loc[index, _dfAll.columns[1:4]])\n",
    "# update the missing value with what we just obtained.\n",
    "df_all.loc[index,'Embarked'] = encoder.inverse_transform(predicted_embarked_missing) # S"
   ]
  },
  {
   "cell_type": "code",
   "execution_count": null,
   "metadata": {},
   "outputs": [],
   "source": [
    "# todo: Fare () Imputation based on the size of the travel team and passneger class.\n",
    "#print(df_all.loc[df_all['Fare'].isnull(),:]) # index = 973\n",
    "islice = (df_all['Pclass'] == 3)\n",
    "sns.scatterplot(x='Age', y='Fare', size= 'TeamSize', data=df_all.loc[islice,:]); plt.show()\n",
    "# impute\n",
    "df_all['Fare'] = df_all.groupby(['Pclass','TeamSize'])['Fare']\\\n",
    "    .transform(lambda x: x.fillna(x.median()))\n",
    "print(df_all.iloc[973,:])"
   ]
  },
  {
   "cell_type": "markdown",
   "metadata": {},
   "source": [
    "0. Ticekt_num is more useful than LastName (aka Family)\n",
    "1. even in the same family, when women are alive, men are not necessarily alive. Ticket#19950\n",
    "2. friends or colleauges are probably in the same ticket number group"
   ]
  },
  {
   "cell_type": "code",
   "execution_count": null,
   "metadata": {},
   "outputs": [],
   "source": [
    "##Survival rate computation\n",
    "cols = df_all.columns\n",
    "# The Davies has two children and two adults (one is maid). The youngest child is alive.\n",
    "df_all.loc[df_all['Ticket_num'] == 33112, cols]\n",
    "df_all.loc[df_all['Ticket_num'] == 2079, cols]\n",
    "df_all.loc[df_all['Ticket_num'] == 36928, cols]  # old family\n",
    "# Just check out a few of groups of size 2\n",
    "# df_all.loc[df_all['TeamSize']==7,:]['Ticket_num'].unique()\n",
    "df_all.loc[df_all['Ticket_num'] == 236853, cols]  # size of 2\n",
    "df_all.loc[df_all['Ticket_num'] == 17608, cols]  # size of 6 (all the child die)\n",
    "df_all.loc[df_all['Ticket_num'] == 3101295, cols]\n",
    "df_all.loc[df_all['Ticket_num'] == 2144, cols]\n",
    "df_all.loc[df_all['Ticket_num'] == 347742, cols]\n",
    "df_all.loc[df_all['Ticket_num'] == 347077, cols]  # team with a mother that survived\n",
    "# It appears none of them are relatives except Lam Ali and Lam Len.\n",
    "df_all.loc[df_all['Ticket_num'] == 1601, cols]"
   ]
  },
  {
   "cell_type": "markdown",
   "metadata": {},
   "source": [
    "#"
   ]
  },
  {
   "cell_type": "code",
   "execution_count": null,
   "metadata": {},
   "outputs": [],
   "source": [
    "# Ticket Number Distribution by Pclass and Embarked\n",
    "# The plot doesn't help to impute the two missing Embarked value, both of which are in Pclass = 1.\n",
    "# The only information gain is that given they share the same ticket number, they should know each\n",
    "# other and highly likely embark from either C or S together.\n",
    "g = sns.FacetGrid(df_train, col='Pclass', row='Embarked')\n",
    "g = g.map(sns.countplot, 'Ticket_num')\n",
    "plt.show()"
   ]
  },
  {
   "cell_type": "code",
   "execution_count": null,
   "metadata": {},
   "outputs": [],
   "source": [
    "##\n",
    "g = sns.FacetGrid(df_all, col='Pclass', row='Sex')\n",
    "g = g.map(sns.countplot, 'Age')\n",
    "g.set(xticks=[range(10,70,10)])\n",
    "[plt.setp(ax.get_xticklabels(), rotation=90) for ax in g.axes.flat]\n",
    "plt.show()"
   ]
  },
  {
   "cell_type": "code",
   "execution_count": null,
   "metadata": {
    "lines_to_next_cell": 2
   },
   "outputs": [],
   "source": [
    "##\n",
    "g = sns.FacetGrid(df_train, col='Pclass', row='Embarked', hue='Deck')\n",
    "g = g.map(plt.scatter, 'Age', 'Fare')\n",
    "g.add_legend()\n",
    "plt.show()"
   ]
  },
  {
   "cell_type": "code",
   "execution_count": null,
   "metadata": {},
   "outputs": [],
   "source": [
    "\"\"\"\n",
    "# Percentage of survived passengers by EMBARKED values -------------------------\n",
    "\n",
    "deck_embarked = df_train[['Deck', 'Embarked', 'Survived']].\\\n",
    "    groupby(['Deck', 'Embarked']).count()\n",
    "\n",
    "# solution 1\n",
    "tb1 = deck_embarked.groupby(level=1).apply(lambda x: 100 * x / float(x.sum()))\n",
    "tb1.rename(columns={'Survived': 'Passengers (%)'})\n",
    "\n",
    "# solution 2\n",
    "tb2 = 100 * deck_embarked / deck_embarked.groupby(level=1).transform('sum')\n",
    "tb2.rename(columns={'Survived': 'Passengers (%)'})\n",
    "\n",
    "# Group Selection Operation ----------------------------------------------------\n",
    "cols = ['Deck', 'Pclass']\n",
    "df_train.groupby(cols).filter(lambda x: x['Age'].\\\n",
    "    quantile(q=0.75) > 50)['Survived'].mean()\n",
    "df_train.groupby(cols).filter(lambda x: x['Age'].\\\n",
    "    quantile(q=0.75) < 30)['Survived'].mean()\n",
    "\n",
    "\"\"\""
   ]
  },
  {
   "cell_type": "code",
   "execution_count": null,
   "metadata": {
    "lines_to_next_cell": 2
   },
   "outputs": [],
   "source": []
  },
  {
   "cell_type": "markdown",
   "metadata": {},
   "source": [
    "#Add percentage bar number 1"
   ]
  },
  {
   "cell_type": "markdown",
   "metadata": {},
   "source": [
    "#Add percentage bar number 2"
   ]
  },
  {
   "cell_type": "markdown",
   "metadata": {
    "lines_to_next_cell": 2
   },
   "source": [
    "Plot training set survival distribution\n",
    "https://i.postimg.cc/25rVKwxB/1590377048.png\n",
    "https://python-graph-gallery.com/13-percent-stacked-barplot/"
   ]
  },
  {
   "cell_type": "markdown",
   "metadata": {
    "lines_to_next_cell": 2
   },
   "source": [
    "#Categorical variable plot"
   ]
  },
  {
   "cell_type": "markdown",
   "metadata": {},
   "source": [
    "#Continuous variable plot"
   ]
  },
  {
   "cell_type": "markdown",
   "metadata": {
    "lines_to_next_cell": 2
   },
   "source": [
    "#Fare binning with qcut or cut"
   ]
  }
 ],
 "metadata": {
  "jupytext": {
   "formats": "ipynb,py:light"
  },
  "kernelspec": {
   "display_name": "Python 3",
   "language": "python",
   "name": "python3"
  },
  "language_info": {
   "codemirror_mode": {
    "name": "ipython",
    "version": 3
   },
   "file_extension": ".py",
   "mimetype": "text/x-python",
   "name": "python",
   "nbconvert_exporter": "python",
   "pygments_lexer": "ipython3",
   "version": "3.7.7"
  }
 },
 "nbformat": 4,
 "nbformat_minor": 4
}
