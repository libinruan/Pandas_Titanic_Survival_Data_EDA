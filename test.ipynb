{
 "cells": [
  {
   "cell_type": "markdown",
   "metadata": {},
   "source": [
    "#"
   ]
  },
  {
   "cell_type": "code",
   "execution_count": 6,
   "metadata": {},
   "outputs": [],
   "source": [
    "import pandas as pd\n",
    "import numpy as np\n",
    "import matplotlib as mpl\n",
    "import matplotlib.pyplot as plt\n",
    "import matplotlib.pylab as pylab\n",
    "import seaborn as sns\n",
    "import warnings\n",
    "warnings.filterwarnings('ignore')"
   ]
  },
  {
   "cell_type": "code",
   "execution_count": 7,
   "metadata": {},
   "outputs": [],
   "source": [
    "#Configure Visualization Defaults\n",
    "mpl.style.use('ggplot')\n",
    "pylab.rcParams['figure.figsize'] = 12,8\n",
    "sns.set_style('white')\n",
    "pd.set_option('display.max_columns', None)"
   ]
  },
  {
   "cell_type": "code",
   "execution_count": 8,
   "metadata": {},
   "outputs": [
    {
     "name": "stdout",
     "output_type": "stream",
     "text": [
      "<class 'pandas.core.frame.DataFrame'>\n",
      "RangeIndex: 891 entries, 0 to 890\n",
      "Data columns (total 12 columns):\n",
      " #   Column       Non-Null Count  Dtype  \n",
      "---  ------       --------------  -----  \n",
      " 0   PassengerId  891 non-null    int64  \n",
      " 1   Survived     891 non-null    int64  \n",
      " 2   Pclass       891 non-null    int64  \n",
      " 3   Name         891 non-null    object \n",
      " 4   Sex          891 non-null    object \n",
      " 5   Age          714 non-null    float64\n",
      " 6   SibSp        891 non-null    int64  \n",
      " 7   Parch        891 non-null    int64  \n",
      " 8   Ticket       891 non-null    object \n",
      " 9   Fare         891 non-null    float64\n",
      " 10  Cabin        204 non-null    object \n",
      " 11  Embarked     889 non-null    object \n",
      "dtypes: float64(2), int64(5), object(5)\n",
      "memory usage: 83.7+ KB\n",
      "None\n",
      "                                834\n",
      "PassengerId                     835\n",
      "Survived                          0\n",
      "Pclass                            3\n",
      "Name         Allum, Mr. Owen George\n",
      "Sex                            male\n",
      "Age                              18\n",
      "SibSp                             0\n",
      "Parch                             0\n",
      "Ticket                         2223\n",
      "Fare                            8.3\n",
      "Cabin                           NaN\n",
      "Embarked                          S\n"
     ]
    }
   ],
   "source": [
    "df_train = pd.read_csv(r'F:\\GitHubData\\Titanic\\train.csv')\n",
    "df_test = pd.read_csv(r'F:\\GitHubData\\Titanic\\test.csv')\n",
    "df_all = pd.concat([df_train, df_test], join='outer', axis=0)\n",
    "df_train.name = 'Training data'\n",
    "df_test.name = 'Test data'\n",
    "print(df_train.info())\n",
    "print(df_train.sample(1).T)"
   ]
  },
  {
   "cell_type": "markdown",
   "metadata": {},
   "source": [
    "comb = [df_train, df_test]"
   ]
  },
  {
   "cell_type": "code",
   "execution_count": 9,
   "metadata": {},
   "outputs": [
    {
     "name": "stdout",
     "output_type": "stream",
     "text": [
      "----------\n",
      "Number of Training Examples: 891\n",
      "Number of Test Examples = 418\n",
      "Shape of Training Examples = (891, 12)\n",
      "Shape of Test Examples = (418, 11)\n",
      "['Age', 'Cabin', 'Embarked', 'Fare', 'Name', 'Parch', 'PassengerId', 'Pclass', 'Sex', 'SibSp', 'Survived', 'Ticket']\n",
      "['Age', 'Cabin', 'Embarked', 'Fare', 'Name', 'Parch', 'PassengerId', 'Pclass', 'Sex', 'SibSp', 'Ticket']\n",
      "             count        mean         std   min       25%       50%    75%  \\\n",
      "PassengerId  891.0  446.000000  257.353842  1.00  223.5000  446.0000  668.5   \n",
      "Survived     891.0    0.383838    0.486592  0.00    0.0000    0.0000    1.0   \n",
      "Pclass       891.0    2.308642    0.836071  1.00    2.0000    3.0000    3.0   \n",
      "Age          714.0   29.699118   14.526497  0.42   20.1250   28.0000   38.0   \n",
      "SibSp        891.0    0.523008    1.102743  0.00    0.0000    0.0000    1.0   \n",
      "Parch        891.0    0.381594    0.806057  0.00    0.0000    0.0000    0.0   \n",
      "Fare         891.0   32.204208   49.693429  0.00    7.9104   14.4542   31.0   \n",
      "\n",
      "                  max  \n",
      "PassengerId  891.0000  \n",
      "Survived       1.0000  \n",
      "Pclass         3.0000  \n",
      "Age           80.0000  \n",
      "SibSp          8.0000  \n",
      "Parch          6.0000  \n",
      "Fare         512.3292  \n",
      "         count unique                                top freq\n",
      "Name       891    891  Lindblom, Miss. Augusta Charlotta    1\n",
      "Sex        891      2                               male  577\n",
      "Ticket     891    681                               1601    7\n",
      "Cabin      204    147                        C23 C25 C27    4\n",
      "Embarked   889      3                                  S  644\n"
     ]
    }
   ],
   "source": [
    "#Dataset Dimensions\n",
    "print('-'*30)\n",
    "print(f'Number of Training Examples: {df_train.shape[0]}')\n",
    "print(f'Number of Test Examples = {df_test.shape[0]}')\n",
    "print(f'Shape of Training Examples = {df_train.shape}')\n",
    "print(f'Shape of Test Examples = {df_test.shape}')"
   ]
  },
  {
   "cell_type": "code",
   "execution_count": 10,
   "metadata": {},
   "outputs": [
    {
     "name": "stdout",
     "output_type": "stream",
     "text": [
      "----------\n",
      "PassengerId      0\n",
      "Survived         0\n",
      "Pclass           0\n",
      "Name             0\n",
      "Sex              0\n",
      "Age            177\n",
      "SibSp            0\n",
      "Parch            0\n",
      "Ticket           0\n",
      "Fare             0\n",
      "Cabin          687\n",
      "Embarked         2\n",
      "dtype: int64\n",
      "Index(['Age', 'Cabin', 'Embarked'], dtype='object')\n",
      "----------\n",
      "PassengerId      0\n",
      "Pclass           0\n",
      "Name             0\n",
      "Sex              0\n",
      "Age             86\n",
      "SibSp            0\n",
      "Parch            0\n",
      "Ticket           0\n",
      "Fare             1\n",
      "Cabin          327\n",
      "Embarked         0\n",
      "dtype: int64\n",
      "Index(['Age', 'Fare', 'Cabin'], dtype='object')\n"
     ]
    }
   ],
   "source": [
    "#Column name lists\n",
    "print(sorted(df_train.columns.tolist())) # sort() is not inapplicable\n",
    "print(sorted(df_test.columns.tolist()))"
   ]
  },
  {
   "cell_type": "code",
   "execution_count": null,
   "metadata": {},
   "outputs": [],
   "source": [
    "#Training data - categorical and numeric columns\n",
    "print('-'*30)\n",
    "print(df_train.describe(include=[np.number]).T)\n",
    "print(df_train.describe(include=['O']).T)"
   ]
  },
  {
   "cell_type": "code",
   "execution_count": null,
   "metadata": {
    "lines_to_next_cell": 1
   },
   "outputs": [],
   "source": [
    "#Stat about missing values\n",
    "print('-'*30)\n",
    "def displayMissing(df):\n",
    "    for col in df.columns.tolist():\n",
    "        print(f'{col} column missing values: {df[col].isnull().sum()}')"
   ]
  },
  {
   "cell_type": "code",
   "execution_count": null,
   "metadata": {},
   "outputs": [],
   "source": [
    "for df in [df_train, df_test]:\n",
    "    print(f'{df.name}')\n",
    "    displayMissing(df)"
   ]
  },
  {
   "cell_type": "code",
   "execution_count": null,
   "metadata": {},
   "outputs": [],
   "source": [
    "#Check to see if the 2nd half of the combined table are all NaN Survived data\n",
    "#(1) iloc works with slicing that includes right endpoint.\n",
    "#(2) iloc works with index only, so even though I need 'Survived, I use it separately.\n",
    "#(3) isnull() to see if there is any missing value\n",
    "df_all.iloc[df_train.shape[0]:,]['Survived'].isnull().all()"
   ]
  },
  {
   "cell_type": "code",
   "execution_count": null,
   "metadata": {},
   "outputs": [],
   "source": [
    "#Cabin numbers have clusters\n",
    "df_all['Cabin'].value_counts()\n",
    "#For example, 'B57 B59 B63 B66' corresponds to five persons\n",
    "#in the Ryerson family. People in the same cabin share the same\n",
    "#Ticket_alp and Ticket_num. These three variables should be highly\n",
    "#correlated.\n",
    "df_all.loc[df_all['Cabin']=='B57 B59 B63 B66']\n",
    "#'B57 B59 B63 B66' maps to Ticket_alp = 'PC', which is a much larger group.\n",
    "df_all.loc[df_all['Ticket_alp']=='PC']['Survived'].sum()\n",
    "#We may check later whether each group can be identified or associated with higher servival rate\n",
    "#We may also check to see if couples have higher survival rates\n",
    "#Check Family Ryerson. The number of SibSp and Parch might have more information."
   ]
  },
  {
   "cell_type": "code",
   "execution_count": null,
   "metadata": {
    "lines_to_next_cell": 1
   },
   "outputs": [],
   "source": [
    "def getCabinPrefix(df):\n",
    "    # 'M' is assigned to missing values\n",
    "    df['Deck'] = df['Cabin'].apply(lambda s: s[0] if pd.notnull(s) else 'M')\n",
    "    return df"
   ]
  },
  {
   "cell_type": "code",
   "execution_count": null,
   "metadata": {
    "lines_to_next_cell": 1
   },
   "outputs": [],
   "source": [
    "getCabinPrefix(df_all)\n",
    "df_all['Deck'].unique()"
   ]
  },
  {
   "cell_type": "code",
   "execution_count": null,
   "metadata": {
    "lines_to_next_cell": 1
   },
   "outputs": [],
   "source": [
    "def getPrefixAndNumber(df, col):\n",
    "    # naming the columns to be created\n",
    "    col_num = col + '_num'\n",
    "    col_alp = col + '_alp'\n",
    "\n",
    "    # get the last group of contiguous digits\n",
    "    df[col_num] = df[col].str.extract(r'(\\d+)$')\n",
    "    df[col_num].fillna(-1, inplace=True)\n",
    "\n",
    "    # get the entire string before a space followed by the last digit group\n",
    "    df[col_alp] = df[col].str.extract(r'(.*)\\ \\d+$').replace({'\\.':'','/':''},regex=True)\n",
    "    df[col_alp].fillna('M', inplace=True)\n",
    "    return df"
   ]
  },
  {
   "cell_type": "code",
   "execution_count": null,
   "metadata": {},
   "outputs": [],
   "source": [
    "getPrefixAndNumber(df_all, 'Ticket')\n",
    "df_all['Ticket_num'] = pd.to_numeric(df_all['Ticket_num'])"
   ]
  },
  {
   "cell_type": "code",
   "execution_count": null,
   "metadata": {},
   "outputs": [],
   "source": [
    "#check to see if the extraction works as expected\n",
    "colnames = ['Ticket' + s for s in ['','_num','_alp']]\n",
    "df_all[colnames]"
   ]
  },
  {
   "cell_type": "code",
   "execution_count": null,
   "metadata": {},
   "outputs": [],
   "source": [
    "#survival rate varies across ticket number prefix; it can be a predictor\n",
    "#Does ticket prefix associate with family name?\n",
    "gtb1 = df_all.iloc[:df_train.shape[0]][['Survived','Ticket_alp']].groupby(['Ticket_alp'])\n",
    "gtb1['Survived'].sum()/gtb1['Survived'].count()"
   ]
  },
  {
   "cell_type": "markdown",
   "metadata": {},
   "source": [
    "#"
   ]
  },
  {
   "cell_type": "markdown",
   "metadata": {},
   "source": [
    "# Extract names and titles"
   ]
  },
  {
   "cell_type": "code",
   "execution_count": null,
   "metadata": {},
   "outputs": [],
   "source": [
    "#Ticket Number Distribution by Pclass and Embarked\n",
    "#The plot doesn't help to impute the two missing Embarked value, both of which are in Pclass = 1.\n",
    "#The only information gain is that given they share the same ticket number, they should know each\n",
    "#other and highly likely embark from either C or S together.\n",
    "g = sns.FacetGrid(df_train, col='Pclass', row='Embarked')\n",
    "g = g.map(sns.countplot, 'Ticket_num')\n",
    "plt.show()"
   ]
  },
  {
   "cell_type": "markdown",
   "metadata": {},
   "source": [
    "#Add percentage bar number 1"
   ]
  },
  {
   "cell_type": "code",
   "execution_count": null,
   "metadata": {},
   "outputs": [],
   "source": [
    "#\n",
    "idx = df_train[df_train['Deck'] == 'T'].index\n",
    "df_train.loc[idx, 'Deck'] = 'A'"
   ]
  },
  {
   "cell_type": "markdown",
   "metadata": {},
   "source": [
    "#Add percentage bar number 2"
   ]
  },
  {
   "cell_type": "markdown",
   "metadata": {},
   "source": [
    "#Family size"
   ]
  },
  {
   "cell_type": "code",
   "execution_count": null,
   "metadata": {},
   "outputs": [],
   "source": [
    "#Deck and Embarked combined could be a good predictor\n",
    "df_train[['Deck','Embarked','Sex','Survived']].groupby(['Sex','Deck','Embarked']).mean()"
   ]
  },
  {
   "cell_type": "code",
   "execution_count": null,
   "metadata": {},
   "outputs": [],
   "source": [
    "#Percentage of passenger by Embarked Ports but shown in order of Deck and Embarked\n",
    "deck_embarked = df_train[['Deck','Embarked','Survived']].groupby(['Deck','Embarked']).count()\n",
    "#solution 1\n",
    "tb1 = deck_embarked.groupby(level=1).apply(lambda x: 100 * x / float(x.sum()))\n",
    "tb1.rename(columns={'Survived':'Passengers (%)'})\n",
    "#solution 2\n",
    "tb2 = 100 * deck_embarked / deck_embarked.groupby(level=1).transform('sum')\n",
    "tb2.rename(columns={'Survived':'Passengers (%)'})"
   ]
  },
  {
   "cell_type": "code",
   "execution_count": null,
   "metadata": {},
   "outputs": [],
   "source": [
    "#Survival rate by Embarked Port but shown in order of Deck and Embarked\n",
    "alive_deck_embarked = df_train[['Deck', 'Embarked', 'Survived']].groupby(['Deck','Embarked'])\n",
    "tb3 = alive_deck_embarked['Survived'].sum()/alive_deck_embarked['Survived'].count()\n",
    "tb3.sort_values(ascending=False)"
   ]
  },
  {
   "cell_type": "code",
   "execution_count": null,
   "metadata": {
    "lines_to_next_cell": 2
   },
   "outputs": [],
   "source": []
  },
  {
   "cell_type": "code",
   "execution_count": null,
   "metadata": {},
   "outputs": [],
   "source": [
    "##\n",
    "g = sns.FacetGrid(df_train, col='Pclass', row='Embarked', hue='Deck')\n",
    "g = g.map(plt.scatter, 'Age', 'Fare')\n",
    "g.add_legend()\n",
    "plt.show()"
   ]
  },
  {
   "cell_type": "code",
   "execution_count": null,
   "metadata": {},
   "outputs": [],
   "source": [
    "#Only two missing Embarked values. Both are female from class 1 and share the same ticket number.\n",
    "#Sort by age\n",
    "print(df_train.loc[df_train['Embarked'].isnull(),].sort_values(by=['Age'], ascending=False))"
   ]
  },
  {
   "cell_type": "code",
   "execution_count": null,
   "metadata": {},
   "outputs": [],
   "source": [
    "##\n",
    "#They more likely board on the ship at port S -- Theory 1.\n",
    "df_train.loc[df_train['Ticket_num'].between(100000,125000)]['Embarked'].value_counts() # S\n",
    "df_train.loc[df_train['Fare'].between(60,100)]['Embarked'].value_counts() # S\n",
    "df_train['Embarked'] = df_train['Embarked'].fillna('S')"
   ]
  },
  {
   "cell_type": "code",
   "execution_count": null,
   "metadata": {},
   "outputs": [],
   "source": [
    "#Impute missing age by sex and class group\n",
    "df_train['Age'] = df_train.groupby(['Sex','Pclass'])['Age'].apply(lambda x: x.fillna(x.median()))"
   ]
  },
  {
   "cell_type": "code",
   "execution_count": null,
   "metadata": {
    "lines_to_next_cell": 2
   },
   "outputs": [],
   "source": [
    "#Distribute of minor; the group with higher young people has higher mortality rate\n",
    "cols = ['Deck','Pclass']\n",
    "df_train.groupby(cols).filter(lambda x: x['Age'].quantile(q=0.75) > 50)['Survived'].mean()\n",
    "df_train.groupby(cols).filter(lambda x: x['Age'].quantile(q=0.75) < 30)['Survived'].mean()"
   ]
  },
  {
   "cell_type": "markdown",
   "metadata": {
    "lines_to_next_cell": 2
   },
   "source": [
    "#Plot training set survival distribution\n",
    "https://i.postimg.cc/25rVKwxB/1590377048.png\n",
    "https://python-graph-gallery.com/13-percent-stacked-barplot/"
   ]
  },
  {
   "cell_type": "markdown",
   "metadata": {
    "lines_to_next_cell": 2
   },
   "source": [
    "#Categorical variable plot"
   ]
  },
  {
   "cell_type": "markdown",
   "metadata": {},
   "source": [
    "#Continuous variable plot"
   ]
  },
  {
   "cell_type": "markdown",
   "metadata": {
    "lines_to_next_cell": 2
   },
   "source": [
    "#Fare binning with qcut or cut"
   ]
  }
 ],
 "metadata": {
  "jupytext": {
   "formats": "ipynb,py:light"
  },
  "kernelspec": {
   "display_name": "Python 3",
   "language": "python",
   "name": "python3"
  },
  "language_info": {
   "codemirror_mode": {
    "name": "ipython",
    "version": 3
   },
   "file_extension": ".py",
   "mimetype": "text/x-python",
   "name": "python",
   "nbconvert_exporter": "python",
   "pygments_lexer": "ipython3",
   "version": "3.7.7"
  }
 },
 "nbformat": 4,
 "nbformat_minor": 4
}
